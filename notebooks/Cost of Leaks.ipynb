{
  "nbformat": 4,
  "nbformat_minor": 0,
  "metadata": {
    "accelerator": "GPU",
    "colab": {
      "name": "microwave.ipynb",
      "provenance": [],
      "collapsed_sections": [],
      "include_colab_link": true
    },
    "kernelspec": {
      "display_name": "Python 3",
      "language": "python",
      "name": "python3"
    },
    "language_info": {
      "codemirror_mode": {
        "name": "ipython",
        "version": 3
      },
      "file_extension": ".py",
      "mimetype": "text/x-python",
      "name": "python",
      "nbconvert_exporter": "python",
      "pygments_lexer": "ipython3",
      "version": "3.7.4"
    }
  },
  "cells": [
    {
      "cell_type": "markdown",
      "metadata": {
        "id": "view-in-github",
        "colab_type": "text"
      },
      "source": [
        "<a href=\"https://colab.research.google.com/github/BitKnitting/FitHome_Analysis/blob/master/notebooks/Cost%20of%20Leaks.ipynb\" target=\"_parent\"><img src=\"https://colab.research.google.com/assets/colab-badge.svg\" alt=\"Open In Colab\"/></a>"
      ]
    },
    {
      "cell_type": "markdown",
      "metadata": {
        "colab_type": "text",
        "id": "crUR98mkpX-a"
      },
      "source": [
        "# Leaks\n",
        "This notebook identifies the amount of electricity that is leaking from a home's total electricity use.\n",
        "\n",
        "A [study by the NRDC](https://www.nrdc.org/resources/home-idle-load-devices-wasting-huge-amounts-electricity-when-not-active-use) found the homes in the study on average wasted nearly 23% of their electricity consumption on devices that were not being used but were slurping up electricity.\n",
        "\n",
        "After HVAC, Leaks are one of the largest consumers of electricity.\n",
        "\n",
        "- How much electricity is this house leaking?\n",
        "- What percent of the total amount of electricity used is due to leakage?\n",
        "- How much money is lost each year paying for leaked electricity?\n",
        "\n",
        "How much is this house leaking?  What percent is it of the total amount of electricity used?  How much money is being payed to the electricity company for leakage?"
      ]
    },
    {
      "cell_type": "code",
      "metadata": {
        "colab_type": "code",
        "id": "siCMJOLFBYWL",
        "colab": {}
      },
      "source": [
        "import pandas as pd"
      ],
      "execution_count": 0,
      "outputs": []
    },
    {
      "cell_type": "markdown",
      "metadata": {
        "colab_type": "text",
        "id": "WemkbmIiBYWP"
      },
      "source": [
        "# Data\n",
        "There are two ways we can get the data:\n",
        "## Directly from Firebase\n",
        "- retrieve the readings into a json file."
      ]
    },
    {
      "cell_type": "code",
      "metadata": {
        "colab_type": "code",
        "id": "3w2_L2NaoTx6",
        "outputId": "8710ef02-9c8c-47eb-c972-34cbd4d6c38a",
        "colab": {
          "base_uri": "https://localhost:8080/",
          "height": 107
        }
      },
      "source": [
        "%%time\n",
        "!curl 'https://fithome-9ebbd.firebaseio.com/flower-09282019/readings.json?print=pretty' > monitor.json  "
      ],
      "execution_count": 2,
      "outputs": [
        {
          "output_type": "stream",
          "text": [
            "  % Total    % Received % Xferd  Average Speed   Time    Time     Time  Current\n",
            "                                 Dload  Upload   Total   Spent    Left  Speed\n",
            "100 7280k  100 7280k    0     0  24.8M      0 --:--:-- --:--:-- --:--:-- 24.8M\n",
            "CPU times: user 14.4 ms, sys: 8.48 ms, total: 22.9 ms\n",
            "Wall time: 1.3 s\n"
          ],
          "name": "stdout"
        }
      ]
    },
    {
      "cell_type": "code",
      "metadata": {
        "colab_type": "code",
        "id": "2rhBdmdoVJHT",
        "outputId": "5abe76f8-8bc1-48fa-dc69-b8a8902065d7",
        "colab": {
          "base_uri": "https://localhost:8080/",
          "height": 53
        }
      },
      "source": [
        "# @title Put into a Pandas dataframe\n",
        "%%time\n",
        "df_needs_reshape = pd.read_json(\"monitor.json\",\"r\", encoding=\"utf8\")\n",
        "df_reshaped = df_needs_reshape.T\n",
        "df_reshaped.head()"
      ],
      "execution_count": 3,
      "outputs": [
        {
          "output_type": "stream",
          "text": [
            "CPU times: user 1min 41s, sys: 300 ms, total: 1min 41s\n",
            "Wall time: 1min 41s\n"
          ],
          "name": "stdout"
        }
      ]
    },
    {
      "cell_type": "code",
      "metadata": {
        "colab_type": "code",
        "id": "1JTN_9vTF6VV",
        "colab": {}
      },
      "source": [
        "# The datetime is in UTC time.  We are in Kirkland, WA\n",
        "df_reshaped.index = df_reshaped.index.tz_localize('UTC').tz_convert('US/Pacific')\n"
      ],
      "execution_count": 0,
      "outputs": []
    },
    {
      "cell_type": "code",
      "metadata": {
        "cellView": "both",
        "colab_type": "code",
        "id": "_jTWKHxwy9yq",
        "outputId": "de41ec79-4908-4658-d039-dc701c65ee54",
        "colab": {
          "base_uri": "https://localhost:8080/",
          "height": 107
        }
      },
      "source": [
        "# @title Start Date and End Data of Series\n",
        "print('Start date: {}'.format(df_reshaped.index.min()))\n",
        "print('End   date: {}'.format(df_reshaped.index.max()))\n",
        "time_between = df_reshaped.index.max() - df_reshaped.index.min()\n",
        "print('\\n\\nElapsed time: {}'.format(time_between))"
      ],
      "execution_count": 5,
      "outputs": [
        {
          "output_type": "stream",
          "text": [
            "Start date: 2019-10-11 13:46:35-07:00\n",
            "End   date: 2019-10-20 05:46:55-07:00\n",
            "\n",
            "\n",
            "Elapsed time: 8 days 16:00:20\n"
          ],
          "name": "stdout"
        }
      ]
    },
    {
      "cell_type": "markdown",
      "metadata": {
        "colab_type": "text",
        "id": "nu_Eh4CRBYWa"
      },
      "source": [
        "# Save the Data\n",
        "We will save the data locally so we can use it offline.  The columns will be the date, current reading, power reading.  We're not saving the header."
      ]
    },
    {
      "cell_type": "code",
      "metadata": {
        "colab_type": "code",
        "id": "oS4vdX2nBYWb",
        "colab": {}
      },
      "source": [
        "\n",
        "df_reshaped.to_csv('data/monitor.csv',header=False)"
      ],
      "execution_count": 0,
      "outputs": []
    },
    {
      "cell_type": "markdown",
      "metadata": {
        "colab_type": "text",
        "id": "FFaThsd3BYWd"
      },
      "source": [
        "# Read Local Data\n",
        "If we're not connected to the net, we can still analyze a dataset.  When we load the local dataset, we want the date column to be our datetime index."
      ]
    },
    {
      "cell_type": "code",
      "metadata": {
        "colab_type": "code",
        "id": "9Zs64-49BYWe",
        "outputId": "fb019ff1-2697-4119-d2bb-60d15652ceb4",
        "colab": {}
      },
      "source": [
        "df_reshaped = pd.read_csv('data/monitor.csv',names=['date','I','P'])\n",
        "df_reshaped['datetime'] = pd.to_datetime(df_reshaped['date'])\n",
        "df_reshaped = df_reshaped.set_index('datetime')\n",
        "df_reshaped.drop(['date'],axis=1,inplace=True)\n",
        "df_reshaped.head()"
      ],
      "execution_count": 0,
      "outputs": [
        {
          "output_type": "execute_result",
          "data": {
            "text/html": [
              "<div>\n",
              "<style scoped>\n",
              "    .dataframe tbody tr th:only-of-type {\n",
              "        vertical-align: middle;\n",
              "    }\n",
              "\n",
              "    .dataframe tbody tr th {\n",
              "        vertical-align: top;\n",
              "    }\n",
              "\n",
              "    .dataframe thead th {\n",
              "        text-align: right;\n",
              "    }\n",
              "</style>\n",
              "<table border=\"1\" class=\"dataframe\">\n",
              "  <thead>\n",
              "    <tr style=\"text-align: right;\">\n",
              "      <th></th>\n",
              "      <th>I</th>\n",
              "      <th>P</th>\n",
              "    </tr>\n",
              "    <tr>\n",
              "      <th>datetime</th>\n",
              "      <th></th>\n",
              "      <th></th>\n",
              "    </tr>\n",
              "  </thead>\n",
              "  <tbody>\n",
              "    <tr>\n",
              "      <td>2019-10-11 13:46:35-07:00</td>\n",
              "      <td>5.039</td>\n",
              "      <td>572.1619</td>\n",
              "    </tr>\n",
              "    <tr>\n",
              "      <td>2019-10-11 13:46:40-07:00</td>\n",
              "      <td>5.059</td>\n",
              "      <td>575.0713</td>\n",
              "    </tr>\n",
              "    <tr>\n",
              "      <td>2019-10-11 13:46:45-07:00</td>\n",
              "      <td>5.032</td>\n",
              "      <td>572.7318</td>\n",
              "    </tr>\n",
              "    <tr>\n",
              "      <td>2019-10-11 13:46:50-07:00</td>\n",
              "      <td>5.037</td>\n",
              "      <td>573.5241</td>\n",
              "    </tr>\n",
              "    <tr>\n",
              "      <td>2019-10-11 13:46:56-07:00</td>\n",
              "      <td>5.042</td>\n",
              "      <td>573.4320</td>\n",
              "    </tr>\n",
              "  </tbody>\n",
              "</table>\n",
              "</div>"
            ],
            "text/plain": [
              "                               I         P\n",
              "datetime                                  \n",
              "2019-10-11 13:46:35-07:00  5.039  572.1619\n",
              "2019-10-11 13:46:40-07:00  5.059  575.0713\n",
              "2019-10-11 13:46:45-07:00  5.032  572.7318\n",
              "2019-10-11 13:46:50-07:00  5.037  573.5241\n",
              "2019-10-11 13:46:56-07:00  5.042  573.4320"
            ]
          },
          "metadata": {
            "tags": []
          },
          "execution_count": 3
        }
      ]
    },
    {
      "cell_type": "markdown",
      "metadata": {
        "colab_type": "text",
        "id": "byP6rvaGBYWh"
      },
      "source": [
        "# Describe the Data\n",
        "Let's look at some interesting stats"
      ]
    },
    {
      "cell_type": "code",
      "metadata": {
        "colab_type": "code",
        "id": "_HUEd5zBckSV",
        "outputId": "56d005e8-07ad-458d-ba20-203ced78f1e3",
        "colab": {
          "base_uri": "https://localhost:8080/",
          "height": 294
        }
      },
      "source": [
        "# @title Interesting Data Stats\n",
        "df_reshaped.describe()"
      ],
      "execution_count": 6,
      "outputs": [
        {
          "output_type": "execute_result",
          "data": {
            "text/html": [
              "<div>\n",
              "<style scoped>\n",
              "    .dataframe tbody tr th:only-of-type {\n",
              "        vertical-align: middle;\n",
              "    }\n",
              "\n",
              "    .dataframe tbody tr th {\n",
              "        vertical-align: top;\n",
              "    }\n",
              "\n",
              "    .dataframe thead th {\n",
              "        text-align: right;\n",
              "    }\n",
              "</style>\n",
              "<table border=\"1\" class=\"dataframe\">\n",
              "  <thead>\n",
              "    <tr style=\"text-align: right;\">\n",
              "      <th></th>\n",
              "      <th>I</th>\n",
              "      <th>P</th>\n",
              "    </tr>\n",
              "  </thead>\n",
              "  <tbody>\n",
              "    <tr>\n",
              "      <th>count</th>\n",
              "      <td>124042.000000</td>\n",
              "      <td>124042.000000</td>\n",
              "    </tr>\n",
              "    <tr>\n",
              "      <th>mean</th>\n",
              "      <td>6.931820</td>\n",
              "      <td>747.045991</td>\n",
              "    </tr>\n",
              "    <tr>\n",
              "      <th>std</th>\n",
              "      <td>5.029362</td>\n",
              "      <td>568.633258</td>\n",
              "    </tr>\n",
              "    <tr>\n",
              "      <th>min</th>\n",
              "      <td>0.002000</td>\n",
              "      <td>0.000320</td>\n",
              "    </tr>\n",
              "    <tr>\n",
              "      <th>25%</th>\n",
              "      <td>2.945000</td>\n",
              "      <td>309.261425</td>\n",
              "    </tr>\n",
              "    <tr>\n",
              "      <th>50%</th>\n",
              "      <td>5.286000</td>\n",
              "      <td>547.431050</td>\n",
              "    </tr>\n",
              "    <tr>\n",
              "      <th>75%</th>\n",
              "      <td>10.198000</td>\n",
              "      <td>1120.173000</td>\n",
              "    </tr>\n",
              "    <tr>\n",
              "      <th>max</th>\n",
              "      <td>43.649000</td>\n",
              "      <td>4820.673000</td>\n",
              "    </tr>\n",
              "  </tbody>\n",
              "</table>\n",
              "</div>"
            ],
            "text/plain": [
              "                   I              P\n",
              "count  124042.000000  124042.000000\n",
              "mean        6.931820     747.045991\n",
              "std         5.029362     568.633258\n",
              "min         0.002000       0.000320\n",
              "25%         2.945000     309.261425\n",
              "50%         5.286000     547.431050\n",
              "75%        10.198000    1120.173000\n",
              "max        43.649000    4820.673000"
            ]
          },
          "metadata": {
            "tags": []
          },
          "execution_count": 6
        }
      ]
    },
    {
      "cell_type": "markdown",
      "metadata": {
        "colab_type": "text",
        "id": "QqO4n8voBYWt"
      },
      "source": [
        "# Box Plot\n",
        "The box plot gives us a quick summary on how the readings are distributed."
      ]
    },
    {
      "cell_type": "code",
      "metadata": {
        "colab_type": "code",
        "id": "53qOKqaCBYWt",
        "outputId": "80af3a6b-8c38-44f5-cf09-4f4df492da22",
        "colab": {
          "base_uri": "https://localhost:8080/",
          "height": 486
        }
      },
      "source": [
        "# @title Box Plot\n",
        "ax = df_reshaped['P'].plot.box(figsize=(3,8))\n",
        "ax.minorticks_on()\n",
        "ax.grid(which='major', linestyle='-', linewidth='0.5', color='red')\n",
        "ax.grid(which='minor', linestyle=':', linewidth='0.5', color='black')"
      ],
      "execution_count": 7,
      "outputs": [
        {
          "output_type": "display_data",
          "data": {
            "image/png": "[encoded data removed]",
            "text/plain": [
              "<Figure size 216x576 with 1 Axes>"
            ]
          },
          "metadata": {
            "tags": []
          }
        }
      ]
    },
    {
      "cell_type": "code",
      "metadata": {
        "colab_type": "code",
        "id": "OgAfUtHbBYWw",
        "outputId": "59ed0951-27cc-42fe-c255-e71eb5ebe801",
        "scrolled": true,
        "colab": {
          "base_uri": "https://localhost:8080/",
          "height": 506
        }
      },
      "source": [
        " # @title Histogram Distribution\n",
        " df_reshaped['P'].plot.hist(bins=1000, grid=True, edgecolor='k',figsize=(16,8)).autoscale(enable=True, axis='both', tight=True)\n"
      ],
      "execution_count": 8,
      "outputs": [
        {
          "output_type": "display_data",
          "data": {
            "image/png": "[encoded data removed]",
            "text/plain": [
              "<Figure size 1152x576 with 1 Axes>"
            ]
          },
          "metadata": {
            "tags": []
          }
        }
      ]
    },
    {
      "cell_type": "markdown",
      "metadata": {
        "colab_type": "text",
        "id": "LQq-TFmnBYWy"
      },
      "source": [
        "# Amount Leaking\n",
        "After putting the readings into 1,000 bins, we take the first bin to identify the amount of electricity that leaks."
      ]
    },
    {
      "cell_type": "code",
      "metadata": {
        "colab_type": "code",
        "id": "Qx2vqqHbBYWz",
        "outputId": "a15ea5ff-e08e-4c82-fb22-4af88cd4a7f4",
        "colab": {
          "base_uri": "https://localhost:8080/",
          "height": 305
        }
      },
      "source": [
        "# @title Determine amount Leaking\n",
        "df_bins = df_reshaped['P'].value_counts(bins=1000)\n",
        "\n",
        "left_bin = df_bins.index[0].left\n",
        "right_bin = df_bins.index[0].right\n",
        "\n",
        "amount_leaking = int(round((right_bin + left_bin) / 2))\n",
        "print('***************\\nAmount of leakage: {}w\\n***************\\n'.format(amount_leaking))\n",
        "print('Highest Frequency bins: \\n{}'.format(df_bins.head(10)))"
      ],
      "execution_count": 17,
      "outputs": [
        {
          "output_type": "stream",
          "text": [
            "***************\n",
            "Amount of leakage: 166w\n",
            "***************\n",
            "\n",
            "Highest Frequency bins: \n",
            "(163.903, 168.724]      4245\n",
            "(159.083, 163.903]      3230\n",
            "(168.724, 173.545]      2504\n",
            "(1118.396, 1123.217]    2182\n",
            "(173.545, 178.365]      2044\n",
            "(260.317, 265.137]      1942\n",
            "(1113.576, 1118.396]    1378\n",
            "(216.931, 221.751]      1341\n",
            "(265.137, 269.958]      1257\n",
            "(255.496, 260.317]      1231\n",
            "Name: P, dtype: int64\n"
          ],
          "name": "stdout"
        }
      ]
    },
    {
      "cell_type": "markdown",
      "metadata": {
        "colab_type": "text",
        "id": "hJ89r1HZBYW1"
      },
      "source": [
        "# Leakage as Percent of Total\n",
        "How much of the total amount of electricity used due to leakage?  We'll figure this out by taking an hourly resample.  If the hour has less than 600 samples, we feel it doesn't have enough sample to represent the hour."
      ]
    },
    {
      "cell_type": "code",
      "metadata": {
        "colab_type": "code",
        "id": "MyMtuZz4BYW1",
        "outputId": "cc0c6eba-50bc-4458-c509-9bee03f6598a",
        "colab": {
          "base_uri": "https://localhost:8080/",
          "height": 251
        }
      },
      "source": [
        "enough_samples = df_reshaped['P'].resample(rule='H').count() > 600\n",
        "df_kWh = df_reshaped['P'].resample(rule='H').mean()[enough_samples]/1000\n",
        "display(df_kWh.describe())\n",
        "hour_waste = amount_leaking/1000\n",
        "percent_of_total = hour_waste/df_kWh.mean()*100\n",
        "print('\\n**************\\nThe percentage of total amount of electricity used by leakage: {0:.2f}%\\n**************'.format(percent_of_total))"
      ],
      "execution_count": 18,
      "outputs": [
        {
          "output_type": "display_data",
          "data": {
            "text/plain": [
              "count    174.000000\n",
              "mean       0.750604\n",
              "std        0.440836\n",
              "min        0.163933\n",
              "25%        0.385108\n",
              "50%        0.651138\n",
              "75%        1.083492\n",
              "max        2.220034\n",
              "Name: P, dtype: float64"
            ]
          },
          "metadata": {
            "tags": []
          }
        },
        {
          "output_type": "stream",
          "text": [
            "\n",
            "**************\n",
            "The percentage of total amount of electricity used by leakage: 22.12%\n",
            "**************\n"
          ],
          "name": "stdout"
        }
      ]
    },
    {
      "cell_type": "markdown",
      "metadata": {
        "colab_type": "text",
        "id": "diVcvl8yCxou"
      },
      "source": [
        "# Amount and Cost of Yearly Leakage\n",
        "- How much electricity is leaked in a year?\n",
        "- How much money is wasted by the homeowner paying for leaked electricity?\n",
        "\n",
        "We'll use the average - 0.75kWh - as the representative of the average total.  This is based on 174 hours.\n",
        "\n",
        "To convert 166W into kWh, \n",
        "- Divide the amount leaking (166W) by 1000.  This puts the units into K.\n",
        "- Multiple that value by 24 to get all the hours of a day.\n",
        "- Multiple by 365 to capture all the days in the year.\n",
        "\n",
        "The cost to the homeowner depends on how much the company providing electricity is charging.  The [average cost in the US](https://www.eia.gov/electricity/monthly/update/) hovers around 13 cents.\n"
      ]
    },
    {
      "cell_type": "code",
      "metadata": {
        "colab_type": "code",
        "id": "gRmyld_WBYW3",
        "outputId": "0c28426e-2caa-4195-afe1-fffa021ac7ec",
        "colab": {
          "base_uri": "https://localhost:8080/",
          "height": 125
        }
      },
      "source": [
        "kWh = amount_leaking/1000*24*365\n",
        "print('**************\\nThe kWh in a year leaked: {}kWh\\n**************'.format(kWh))\n",
        "money_lost = kWh*.13\n",
        "print('**************\\nMoney lost each year due to leakage: ${0:.2f}\\n**************'.format(kWh*.13))\n"
      ],
      "execution_count": 21,
      "outputs": [
        {
          "output_type": "stream",
          "text": [
            "**************\n",
            "The kWh in a year leaked: 1454.16kWh\n",
            "**************\n",
            "**************\n",
            "Money lost each year due to leakage: $189.04\n",
            "**************\n"
          ],
          "name": "stdout"
        }
      ]
    }
  ]
}