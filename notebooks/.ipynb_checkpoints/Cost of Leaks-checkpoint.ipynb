{
 "cells": [
  {
   "cell_type": "markdown",
   "metadata": {
    "colab_type": "text",
    "id": "view-in-github"
   },
   "source": [
    "<a href=\"https://colab.research.google.com/github/BitKnitting/FitHome_Analysis/blob/master/notebooks/Cost%20of%20Leaks.ipynb\" target=\"_parent\"><img src=\"https://colab.research.google.com/assets/colab-badge.svg\" alt=\"Open In Colab\"/></a>"
   ]
  },
  {
   "cell_type": "markdown",
   "metadata": {
    "colab_type": "text",
    "id": "crUR98mkpX-a"
   },
   "source": [
    "# Leaks\n",
    "This notebook identifies the amount of electricity that is leaking from a home's total electricity use.\n",
    "\n",
    "A [study by the NRDC](https://www.nrdc.org/resources/home-idle-load-devices-wasting-huge-amounts-electricity-when-not-active-use) found the homes in the study on average wasted nearly 23% of their electricity consumption on devices that were not being used but were slurping up electricity.\n",
    "\n",
    "After HVAC, Leaks are one of the largest consumers of electricity.\n",
    "\n",
    "- How much electricity is this house leaking?\n",
    "- What percent of the total amount of electricity used is due to leakage?\n",
    "- How much money is lost each year paying for leaked electricity?\n",
    "\n",
    "How much is this house leaking?  What percent is it of the total amount of electricity used?  How much money is being payed to the electricity company for leakage?"
   ]
  },
  {
   "cell_type": "code",
   "execution_count": 1,
   "metadata": {
    "colab": {},
    "colab_type": "code",
    "id": "siCMJOLFBYWL"
   },
   "outputs": [],
   "source": [
    "import pandas as pd"
   ]
  },
  {
   "cell_type": "markdown",
   "metadata": {
    "colab_type": "text",
    "id": "WemkbmIiBYWP"
   },
   "source": [
    "# Data\n",
    "There are two ways we can get the data:\n",
    "## Directly from Firebase\n",
    "- retrieve the readings into a json file."
   ]
  },
  {
   "cell_type": "code",
   "execution_count": 9,
   "metadata": {
    "colab": {
     "base_uri": "https://localhost:8080/",
     "height": 107
    },
    "colab_type": "code",
    "id": "3w2_L2NaoTx6",
    "outputId": "8710ef02-9c8c-47eb-c972-34cbd4d6c38a"
   },
   "outputs": [
    {
     "name": "stdout",
     "output_type": "stream",
     "text": [
      "  % Total    % Received % Xferd  Average Speed   Time    Time     Time  Current\n",
      "                                 Dload  Upload   Total   Spent    Left  Speed\n",
      "100 7299k  100 7299k    0     0  1110k      0  0:00:06  0:00:06 --:--:-- 1193k\n",
      "CPU times: user 1min 8s, sys: 1.27 s, total: 1min 9s\n",
      "Wall time: 1min 15s\n"
     ]
    }
   ],
   "source": [
    "%%time\n",
    "!curl 'https://fithome-9ebbd.firebaseio.com/flower-09282019/readings.json?print=pretty' > monitor.json  \n",
    "# @title Put into a Pandas dataframe\n",
    "\n",
    "df_needs_reshape = pd.read_json(\"monitor.json\",\"r\", encoding=\"utf8\")\n",
    "df_reshaped = df_needs_reshape.T\n",
    "df_reshaped.head()\n",
    "# The datetime is in UTC time.  We are in Kirkland, WA\n",
    "df_reshaped.index = df_reshaped.index.tz_localize('UTC').tz_convert('US/Pacific')\n",
    "\n"
   ]
  },
  {
   "cell_type": "code",
   "execution_count": 10,
   "metadata": {
    "cellView": "both",
    "colab": {
     "base_uri": "https://localhost:8080/",
     "height": 107
    },
    "colab_type": "code",
    "id": "_jTWKHxwy9yq",
    "outputId": "de41ec79-4908-4658-d039-dc701c65ee54"
   },
   "outputs": [
    {
     "name": "stdout",
     "output_type": "stream",
     "text": [
      "Start date: 2019-10-11 13:46:35-07:00\n",
      "End   date: 2019-10-20 06:15:03-07:00\n",
      "\n",
      "\n",
      "Elapsed time: 8 days 16:28:28\n"
     ]
    }
   ],
   "source": [
    "# @title Start Date and End Data of Series\n",
    "print('Start date: {}'.format(df_reshaped.index.min()))\n",
    "print('End   date: {}'.format(df_reshaped.index.max()))\n",
    "time_between = df_reshaped.index.max() - df_reshaped.index.min()\n",
    "print('\\n\\nElapsed time: {}'.format(time_between))"
   ]
  },
  {
   "cell_type": "markdown",
   "metadata": {
    "colab_type": "text",
    "id": "nu_Eh4CRBYWa"
   },
   "source": [
    "# Save the Data\n",
    "We will save the data locally so we can use it offline.  The columns will be the date, current reading, power reading.  We're not saving the header."
   ]
  },
  {
   "cell_type": "code",
   "execution_count": 0,
   "metadata": {
    "colab": {},
    "colab_type": "code",
    "id": "oS4vdX2nBYWb"
   },
   "outputs": [],
   "source": [
    "\n",
    "df_reshaped.to_csv('data/monitor.csv',header=False)"
   ]
  },
  {
   "cell_type": "markdown",
   "metadata": {
    "colab_type": "text",
    "id": "FFaThsd3BYWd"
   },
   "source": [
    "# Read Local Data\n",
    "If we're not connected to the net, we can still analyze a dataset.  When we load the local dataset, we want the date column to be our datetime index."
   ]
  },
  {
   "cell_type": "code",
   "execution_count": 0,
   "metadata": {
    "colab": {},
    "colab_type": "code",
    "id": "9Zs64-49BYWe",
    "outputId": "fb019ff1-2697-4119-d2bb-60d15652ceb4"
   },
   "outputs": [
    {
     "data": {
      "text/html": [
       "<div>\n",
       "<style scoped>\n",
       "    .dataframe tbody tr th:only-of-type {\n",
       "        vertical-align: middle;\n",
       "    }\n",
       "\n",
       "    .dataframe tbody tr th {\n",
       "        vertical-align: top;\n",
       "    }\n",
       "\n",
       "    .dataframe thead th {\n",
       "        text-align: right;\n",
       "    }\n",
       "</style>\n",
       "<table border=\"1\" class=\"dataframe\">\n",
       "  <thead>\n",
       "    <tr style=\"text-align: right;\">\n",
       "      <th></th>\n",
       "      <th>I</th>\n",
       "      <th>P</th>\n",
       "    </tr>\n",
       "    <tr>\n",
       "      <th>datetime</th>\n",
       "      <th></th>\n",
       "      <th></th>\n",
       "    </tr>\n",
       "  </thead>\n",
       "  <tbody>\n",
       "    <tr>\n",
       "      <td>2019-10-11 13:46:35-07:00</td>\n",
       "      <td>5.039</td>\n",
       "      <td>572.1619</td>\n",
       "    </tr>\n",
       "    <tr>\n",
       "      <td>2019-10-11 13:46:40-07:00</td>\n",
       "      <td>5.059</td>\n",
       "      <td>575.0713</td>\n",
       "    </tr>\n",
       "    <tr>\n",
       "      <td>2019-10-11 13:46:45-07:00</td>\n",
       "      <td>5.032</td>\n",
       "      <td>572.7318</td>\n",
       "    </tr>\n",
       "    <tr>\n",
       "      <td>2019-10-11 13:46:50-07:00</td>\n",
       "      <td>5.037</td>\n",
       "      <td>573.5241</td>\n",
       "    </tr>\n",
       "    <tr>\n",
       "      <td>2019-10-11 13:46:56-07:00</td>\n",
       "      <td>5.042</td>\n",
       "      <td>573.4320</td>\n",
       "    </tr>\n",
       "  </tbody>\n",
       "</table>\n",
       "</div>"
      ],
      "text/plain": [
       "                               I         P\n",
       "datetime                                  \n",
       "2019-10-11 13:46:35-07:00  5.039  572.1619\n",
       "2019-10-11 13:46:40-07:00  5.059  575.0713\n",
       "2019-10-11 13:46:45-07:00  5.032  572.7318\n",
       "2019-10-11 13:46:50-07:00  5.037  573.5241\n",
       "2019-10-11 13:46:56-07:00  5.042  573.4320"
      ]
     },
     "execution_count": 3,
     "metadata": {
      "tags": []
     },
     "output_type": "execute_result"
    }
   ],
   "source": [
    "df_reshaped = pd.read_csv('data/monitor.csv',names=['date','I','P'])\n",
    "df_reshaped['datetime'] = pd.to_datetime(df_reshaped['date'])\n",
    "df_reshaped = df_reshaped.set_index('datetime')\n",
    "df_reshaped.drop(['date'],axis=1,inplace=True)\n",
    "df_reshaped.head()"
   ]
  },
  {
   "cell_type": "markdown",
   "metadata": {
    "colab_type": "text",
    "id": "byP6rvaGBYWh"
   },
   "source": [
    "# Describe the Data\n",
    "Let's look at some interesting stats"
   ]
  },
  {
   "cell_type": "code",
   "execution_count": 11,
   "metadata": {
    "colab": {
     "base_uri": "https://localhost:8080/",
     "height": 294
    },
    "colab_type": "code",
    "id": "_HUEd5zBckSV",
    "outputId": "56d005e8-07ad-458d-ba20-203ced78f1e3"
   },
   "outputs": [
    {
     "data": {
      "text/html": [
       "<div>\n",
       "<style scoped>\n",
       "    .dataframe tbody tr th:only-of-type {\n",
       "        vertical-align: middle;\n",
       "    }\n",
       "\n",
       "    .dataframe tbody tr th {\n",
       "        vertical-align: top;\n",
       "    }\n",
       "\n",
       "    .dataframe thead th {\n",
       "        text-align: right;\n",
       "    }\n",
       "</style>\n",
       "<table border=\"1\" class=\"dataframe\">\n",
       "  <thead>\n",
       "    <tr style=\"text-align: right;\">\n",
       "      <th></th>\n",
       "      <th>I</th>\n",
       "      <th>P</th>\n",
       "    </tr>\n",
       "  </thead>\n",
       "  <tbody>\n",
       "    <tr>\n",
       "      <td>count</td>\n",
       "      <td>124375.000000</td>\n",
       "      <td>124375.000000</td>\n",
       "    </tr>\n",
       "    <tr>\n",
       "      <td>mean</td>\n",
       "      <td>6.921833</td>\n",
       "      <td>745.905095</td>\n",
       "    </tr>\n",
       "    <tr>\n",
       "      <td>std</td>\n",
       "      <td>5.027002</td>\n",
       "      <td>568.365107</td>\n",
       "    </tr>\n",
       "    <tr>\n",
       "      <td>min</td>\n",
       "      <td>0.002000</td>\n",
       "      <td>0.000320</td>\n",
       "    </tr>\n",
       "    <tr>\n",
       "      <td>25%</td>\n",
       "      <td>2.936000</td>\n",
       "      <td>307.670250</td>\n",
       "    </tr>\n",
       "    <tr>\n",
       "      <td>50%</td>\n",
       "      <td>5.279000</td>\n",
       "      <td>546.467500</td>\n",
       "    </tr>\n",
       "    <tr>\n",
       "      <td>75%</td>\n",
       "      <td>10.177500</td>\n",
       "      <td>1120.027000</td>\n",
       "    </tr>\n",
       "    <tr>\n",
       "      <td>max</td>\n",
       "      <td>43.649000</td>\n",
       "      <td>4820.673000</td>\n",
       "    </tr>\n",
       "  </tbody>\n",
       "</table>\n",
       "</div>"
      ],
      "text/plain": [
       "                   I              P\n",
       "count  124375.000000  124375.000000\n",
       "mean        6.921833     745.905095\n",
       "std         5.027002     568.365107\n",
       "min         0.002000       0.000320\n",
       "25%         2.936000     307.670250\n",
       "50%         5.279000     546.467500\n",
       "75%        10.177500    1120.027000\n",
       "max        43.649000    4820.673000"
      ]
     },
     "execution_count": 11,
     "metadata": {},
     "output_type": "execute_result"
    }
   ],
   "source": [
    "# @title Interesting Data Stats\n",
    "df_reshaped.describe()"
   ]
  },
  {
   "cell_type": "markdown",
   "metadata": {
    "colab_type": "text",
    "id": "QqO4n8voBYWt"
   },
   "source": [
    "# Box Plot\n",
    "The box plot gives us a quick summary on how the readings are distributed."
   ]
  },
  {
   "cell_type": "code",
   "execution_count": 12,
   "metadata": {
    "colab": {
     "base_uri": "https://localhost:8080/",
     "height": 486
    },
    "colab_type": "code",
    "id": "53qOKqaCBYWt",
    "outputId": "80af3a6b-8c38-44f5-cf09-4f4df492da22"
   },
   "outputs": [],
   "source": [
    "# @title Box Plot\n",
    "ax = df_reshaped['P'].plot.box(figsize=(3,8))\n",
    "ax.minorticks_on()\n",
    "ax.grid(which='major', linestyle='-', linewidth='0.5', color='red')\n",
    "ax.grid(which='minor', linestyle=':', linewidth='0.5', color='black')"
   ]
  },
  {
   "cell_type": "code",
   "execution_count": 13,
   "metadata": {
    "colab": {
     "base_uri": "https://localhost:8080/",
     "height": 506
    },
    "colab_type": "code",
    "id": "OgAfUtHbBYWw",
    "outputId": "59ed0951-27cc-42fe-c255-e71eb5ebe801",
    "scrolled": true
   },
   "outputs": [
    {
     "data": {
      "image/png": "[encoded data removed]",
      "text/plain": [
       "<Figure size 1152x576 with 1 Axes>"
      ]
     },
     "metadata": {
      "needs_background": "light"
     },
     "output_type": "display_data"
    }
   ],
   "source": [
    " # @title Histogram Distribution\n",
    " df_reshaped['P'].plot.hist(bins=1000, grid=True, edgecolor='k',figsize=(16,8)).autoscale(enable=True, axis='both', tight=True)\n"
   ]
  },
  {
   "cell_type": "markdown",
   "metadata": {
    "colab_type": "text",
    "id": "LQq-TFmnBYWy"
   },
   "source": [
    "# Amount Leaking\n",
    "After putting the readings into 1,000 bins, we take the first bin to identify the amount of electricity that leaks."
   ]
  },
  {
   "cell_type": "code",
   "execution_count": 14,
   "metadata": {
    "colab": {
     "base_uri": "https://localhost:8080/",
     "height": 305
    },
    "colab_type": "code",
    "id": "Qx2vqqHbBYWz",
    "outputId": "a15ea5ff-e08e-4c82-fb22-4af88cd4a7f4"
   },
   "outputs": [
    {
     "name": "stdout",
     "output_type": "stream",
     "text": [
      "***************\n",
      "Amount of leakage: 166w\n",
      "***************\n",
      "\n",
      "Highest Frequency bins: \n",
      "(163.903, 168.724]      4245\n",
      "(159.083, 163.903]      3243\n",
      "(168.724, 173.545]      2504\n",
      "(1118.396, 1123.217]    2182\n",
      "(173.545, 178.365]      2044\n",
      "(260.317, 265.137]      1944\n",
      "(1113.576, 1118.396]    1378\n",
      "(216.931, 221.751]      1341\n",
      "(255.496, 260.317]      1268\n",
      "(265.137, 269.958]      1259\n",
      "Name: P, dtype: int64\n"
     ]
    }
   ],
   "source": [
    "# @title Determine amount Leaking\n",
    "df_bins = df_reshaped['P'].value_counts(bins=1000)\n",
    "\n",
    "left_bin = df_bins.index[0].left\n",
    "right_bin = df_bins.index[0].right\n",
    "\n",
    "amount_leaking = int(round((right_bin + left_bin) / 2))\n",
    "print('***************\\nAmount of leakage: {}w\\n***************\\n'.format(amount_leaking))\n",
    "print('Highest Frequency bins: \\n{}'.format(df_bins.head(10)))"
   ]
  },
  {
   "cell_type": "markdown",
   "metadata": {
    "colab_type": "text",
    "id": "hJ89r1HZBYW1"
   },
   "source": [
    "# Leakage as Percent of Total\n",
    "How much of the total amount of electricity used due to leakage?  We'll figure this out by taking an hourly resample.  If the hour has less than 600 samples, we feel it doesn't have enough sample to represent the hour."
   ]
  },
  {
   "cell_type": "code",
   "execution_count": 15,
   "metadata": {
    "colab": {
     "base_uri": "https://localhost:8080/",
     "height": 251
    },
    "colab_type": "code",
    "id": "MyMtuZz4BYW1",
    "outputId": "cc0c6eba-50bc-4458-c509-9bee03f6598a"
   },
   "outputs": [
    {
     "data": {
      "text/plain": [
       "count    175.000000\n",
       "mean       0.748661\n",
       "std        0.440319\n",
       "min        0.163933\n",
       "25%        0.387965\n",
       "50%        0.648558\n",
       "75%        1.081770\n",
       "max        2.220034\n",
       "Name: P, dtype: float64"
      ]
     },
     "metadata": {},
     "output_type": "display_data"
    },
    {
     "name": "stdout",
     "output_type": "stream",
     "text": [
      "\n",
      "**************\n",
      "The percentage of total amount of electricity used by leakage: 22.17%\n",
      "**************\n"
     ]
    }
   ],
   "source": [
    "enough_samples = df_reshaped['P'].resample(rule='H').count() > 600\n",
    "df_kWh = df_reshaped['P'].resample(rule='H').mean()[enough_samples]/1000\n",
    "display(df_kWh.describe())\n",
    "hour_waste = amount_leaking/1000\n",
    "percent_of_total = hour_waste/df_kWh.mean()*100\n",
    "print('\\n**************\\nThe percentage of total amount of electricity used by leakage: {0:.2f}%\\n**************'.format(percent_of_total))"
   ]
  },
  {
   "cell_type": "markdown",
   "metadata": {
    "colab_type": "text",
    "id": "diVcvl8yCxou"
   },
   "source": [
    "# Amount and Cost of Yearly Leakage\n",
    "- How much electricity is leaked in a year?\n",
    "- How much money is wasted by the homeowner paying for leaked electricity?\n",
    "\n",
    "We'll use the average - 0.75kWh - as the representative of the average total.  This is based on 174 hours.\n",
    "\n",
    "To convert 166W into kWh, \n",
    "- Divide the amount leaking (166W) by 1000.  This puts the units into K.\n",
    "- Multiple that value by 24 to get all the hours of a day.\n",
    "- Multiple by 365 to capture all the days in the year.\n",
    "\n",
    "The cost to the homeowner depends on how much the company providing electricity is charging.  The [average cost in the US](https://www.eia.gov/electricity/monthly/update/) hovers around 13 cents.\n"
   ]
  },
  {
   "cell_type": "code",
   "execution_count": 16,
   "metadata": {
    "colab": {
     "base_uri": "https://localhost:8080/",
     "height": 125
    },
    "colab_type": "code",
    "id": "gRmyld_WBYW3",
    "outputId": "0c28426e-2caa-4195-afe1-fffa021ac7ec"
   },
   "outputs": [
    {
     "name": "stdout",
     "output_type": "stream",
     "text": [
      "**************\n",
      "The kWh in a year leaked: 1454.16kWh\n",
      "**************\n",
      "**************\n",
      "Money lost each year due to leakage: $189.04\n",
      "**************\n"
     ]
    }
   ],
   "source": [
    "kWh = amount_leaking/1000*24*365\n",
    "print('**************\\nThe kWh in a year leaked: {}kWh\\n**************'.format(kWh))\n",
    "money_lost = kWh*.13\n",
    "print('**************\\nMoney lost each year due to leakage: ${0:.2f}\\n**************'.format(kWh*.13))\n"
   ]
  }
 ],
 "metadata": {
  "accelerator": "GPU",
  "colab": {
   "collapsed_sections": [],
   "include_colab_link": true,
   "name": "microwave.ipynb",
   "provenance": []
  },
  "kernelspec": {
   "display_name": "Python 3",
   "language": "python",
   "name": "python3"
  },
  "language_info": {
   "codemirror_mode": {
    "name": "ipython",
    "version": 3
   },
   "file_extension": ".py",
   "mimetype": "text/x-python",
   "name": "python",
   "nbconvert_exporter": "python",
   "pygments_lexer": "ipython3",
   "version": "3.7.4"
  }
 },
 "nbformat": 4,
 "nbformat_minor": 1
}
