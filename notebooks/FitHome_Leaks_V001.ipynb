{
  "nbformat": 4,
  "nbformat_minor": 0,
  "metadata": {
    "accelerator": "GPU",
    "colab": {
      "name": "FitHome_Leaks_V001.ipynb",
      "provenance": [],
      "collapsed_sections": []
    },
    "kernelspec": {
      "display_name": "Python 3",
      "language": "python",
      "name": "python3"
    },
    "language_info": {
      "codemirror_mode": {
        "name": "ipython",
        "version": 3
      },
      "file_extension": ".py",
      "mimetype": "text/x-python",
      "name": "python",
      "nbconvert_exporter": "python",
      "pygments_lexer": "ipython3",
      "version": "3.7.4"
    }
  },
  "cells": [
    {
      "cell_type": "markdown",
      "metadata": {
        "colab_type": "text",
        "id": "crUR98mkpX-a"
      },
      "source": [
        "# FitHome Leaks V001\n",
        "This notebook reads in data that has been collected from a FitHome monitor during the learning process and determines:\n",
        "- The size of the (constant) electricity leak in watts.\n",
        "- The amount of kWh of electricity wasted in one year.\n",
        "- The $ amount spent by the homeowner on electricity leaks\n",
        "- The percentage of total electricity use that is due to leaking.\n",
        "\n",
        "# Importance of Plugging Leaks\n",
        "\n",
        "A [study by the NRDC](https://www.nrdc.org/resources/home-idle-load-devices-wasting-huge-amounts-electricity-when-not-active-use) found the homes in the study on average wasted nearly 23% of their electricity consumption on devices that were not being used but were slurping up electricity.\n",
        "\n",
        "After HVAC, Leaks are one of the largest consumers of electricity.\n",
        "\n",
        "\n",
        "\n",
        "\n",
        "\n",
        "\n"
      ]
    },
    {
      "cell_type": "markdown",
      "metadata": {
        "colab_type": "text",
        "id": "WemkbmIiBYWP"
      },
      "source": [
        "# Data from Firebase\n",
        "Retrieve the readings into a json file."
      ]
    },
    {
      "cell_type": "code",
      "metadata": {
        "colab_type": "code",
        "id": "3w2_L2NaoTx6",
        "outputId": "09fc6710-1a72-422f-d39c-b44afc589c15",
        "colab": {
          "base_uri": "https://localhost:8080/",
          "height": 107
        }
      },
      "source": [
        "%%time\n",
        "!curl 'https://fithome-9ebbd.firebaseio.com/flower-09282019/readings.json?print=pretty' > monitor.json  "
      ],
      "execution_count": 1,
      "outputs": [
        {
          "output_type": "stream",
          "text": [
            "  % Total    % Received % Xferd  Average Speed   Time    Time     Time  Current\n",
            "                                 Dload  Upload   Total   Spent    Left  Speed\n",
            "100 15.4M  100 15.4M    0     0  29.3M      0 --:--:-- --:--:-- --:--:-- 29.2M\n",
            "CPU times: user 10.3 ms, sys: 8.68 ms, total: 19 ms\n",
            "Wall time: 1.13 s\n"
          ],
          "name": "stdout"
        }
      ]
    },
    {
      "cell_type": "code",
      "metadata": {
        "colab_type": "code",
        "id": "2rhBdmdoVJHT",
        "outputId": "b14d04f4-09a8-40a3-e44d-d93373536107",
        "colab": {
          "base_uri": "https://localhost:8080/",
          "height": 53
        }
      },
      "source": [
        "# @title Put into a Pandas dataframe\n",
        "# This can take >= 3 minutes.\n",
        "%%time\n",
        "import pandas as pd\n",
        "df_needs_reshape = pd.read_json(\"monitor.json\",\"r\", encoding=\"utf8\")\n",
        "df_reshaped = df_needs_reshape.T\n",
        "df_reshaped.head()"
      ],
      "execution_count": 2,
      "outputs": [
        {
          "output_type": "stream",
          "text": [
            "CPU times: user 3min 26s, sys: 4.3 s, total: 3min 30s\n",
            "Wall time: 3min 24s\n"
          ],
          "name": "stdout"
        }
      ]
    },
    {
      "cell_type": "code",
      "metadata": {
        "colab_type": "code",
        "id": "1JTN_9vTF6VV",
        "colab": {}
      },
      "source": [
        "# The datetime is in UTC time.  We are in Kirkland, WA\n",
        "df_reshaped.index = df_reshaped.index.tz_localize('UTC').tz_convert('US/Pacific')\n"
      ],
      "execution_count": 0,
      "outputs": []
    },
    {
      "cell_type": "code",
      "metadata": {
        "cellView": "both",
        "colab_type": "code",
        "id": "_jTWKHxwy9yq",
        "outputId": "73ee7ce5-c649-4690-a18e-12fe7c0c761e",
        "colab": {
          "base_uri": "https://localhost:8080/",
          "height": 107
        }
      },
      "source": [
        "# @title Start Date and End Data of Series\n",
        "print('Start date: {}'.format(df_reshaped.index.min()))\n",
        "print('End   date: {}'.format(df_reshaped.index.max()))\n",
        "time_between = df_reshaped.index.max() - df_reshaped.index.min()\n",
        "print('\\n\\nElapsed time: {}'.format(time_between))"
      ],
      "execution_count": 4,
      "outputs": [
        {
          "output_type": "stream",
          "text": [
            "Start date: 2019-10-11 13:46:35-07:00\n",
            "End   date: 2019-10-28 14:53:25-07:00\n",
            "\n",
            "\n",
            "Elapsed time: 17 days 01:06:50\n"
          ],
          "name": "stdout"
        }
      ]
    },
    {
      "cell_type": "markdown",
      "metadata": {
        "colab_type": "text",
        "id": "byP6rvaGBYWh"
      },
      "source": [
        "# Describe the Data\n",
        "Let's look at some interesting stats"
      ]
    },
    {
      "cell_type": "code",
      "metadata": {
        "colab_type": "code",
        "id": "_HUEd5zBckSV",
        "outputId": "9c50757f-3b3c-4d1b-bbba-58cf03c0448a",
        "colab": {
          "base_uri": "https://localhost:8080/",
          "height": 294
        }
      },
      "source": [
        "# @title Interesting Data Stats\n",
        "df_reshaped.describe()"
      ],
      "execution_count": 5,
      "outputs": [
        {
          "output_type": "execute_result",
          "data": {
            "text/html": [
              "<div>\n",
              "<style scoped>\n",
              "    .dataframe tbody tr th:only-of-type {\n",
              "        vertical-align: middle;\n",
              "    }\n",
              "\n",
              "    .dataframe tbody tr th {\n",
              "        vertical-align: top;\n",
              "    }\n",
              "\n",
              "    .dataframe thead th {\n",
              "        text-align: right;\n",
              "    }\n",
              "</style>\n",
              "<table border=\"1\" class=\"dataframe\">\n",
              "  <thead>\n",
              "    <tr style=\"text-align: right;\">\n",
              "      <th></th>\n",
              "      <th>I</th>\n",
              "      <th>P</th>\n",
              "    </tr>\n",
              "  </thead>\n",
              "  <tbody>\n",
              "    <tr>\n",
              "      <th>count</th>\n",
              "      <td>269099.000000</td>\n",
              "      <td>269099.000000</td>\n",
              "    </tr>\n",
              "    <tr>\n",
              "      <th>mean</th>\n",
              "      <td>6.242906</td>\n",
              "      <td>669.482988</td>\n",
              "    </tr>\n",
              "    <tr>\n",
              "      <th>std</th>\n",
              "      <td>4.842123</td>\n",
              "      <td>547.316027</td>\n",
              "    </tr>\n",
              "    <tr>\n",
              "      <th>min</th>\n",
              "      <td>0.002000</td>\n",
              "      <td>0.000320</td>\n",
              "    </tr>\n",
              "    <tr>\n",
              "      <th>25%</th>\n",
              "      <td>2.535000</td>\n",
              "      <td>260.616450</td>\n",
              "    </tr>\n",
              "    <tr>\n",
              "      <th>50%</th>\n",
              "      <td>4.435000</td>\n",
              "      <td>489.738600</td>\n",
              "    </tr>\n",
              "    <tr>\n",
              "      <th>75%</th>\n",
              "      <td>9.292999</td>\n",
              "      <td>942.487700</td>\n",
              "    </tr>\n",
              "    <tr>\n",
              "      <th>max</th>\n",
              "      <td>52.895000</td>\n",
              "      <td>5663.446000</td>\n",
              "    </tr>\n",
              "  </tbody>\n",
              "</table>\n",
              "</div>"
            ],
            "text/plain": [
              "                   I              P\n",
              "count  269099.000000  269099.000000\n",
              "mean        6.242906     669.482988\n",
              "std         4.842123     547.316027\n",
              "min         0.002000       0.000320\n",
              "25%         2.535000     260.616450\n",
              "50%         4.435000     489.738600\n",
              "75%         9.292999     942.487700\n",
              "max        52.895000    5663.446000"
            ]
          },
          "metadata": {
            "tags": []
          },
          "execution_count": 5
        }
      ]
    },
    {
      "cell_type": "markdown",
      "metadata": {
        "colab_type": "text",
        "id": "hJ89r1HZBYW1"
      },
      "source": [
        "# Leakage as Percent of Total\n",
        "__How much of the total amount of electricity used in the past 24 - 48 hours is due to leakage?__\n",
        "\n",
        "- Use the average value of each kWh that has at least 600 samples for the latest 24 to 48 hours.  \n",
        "  - By bounding the kWh to between 24 and 48 hours, we can help the homeowner determine how well their changes to stop electricity leaks is working.\n",
        "  - If there are not at least 600 samples per hour, we feel it doesn't have enough samples to represent the hour.  We won't use that hour in our averaging.\n",
        "\n",
        "## Total Energy\n",
        "Get the average total energy used within the last 24 - 48 hours.\n",
        "\n"
      ]
    },
    {
      "cell_type": "code",
      "metadata": {
        "id": "mmoJ6CZMOIUp",
        "colab_type": "code",
        "outputId": "3e090c68-5082-42ef-80c8-ec0ea9718914",
        "colab": {
          "base_uri": "https://localhost:8080/",
          "height": 71
        }
      },
      "source": [
        "all_power_data = df_reshaped['P']\n",
        "# Convert readings to kWh\n",
        "p_kWh = all_power_data.resample(rule='H').mean()/1000\n",
        "# Set criteria for hourly data to include at least 600 samples.\n",
        "enough_samples = all_power_data.resample(rule='H').count() > 600\n",
        "# Remove hours that don't have enough samples.\n",
        "p_kWh = p_kWh[enough_samples]\n",
        "# Bound the readings to the last 24 - 48 hours.\n",
        "hours_with_enough_samples = len(p_kWh)\n",
        "if (hours_with_enough_samples < 24):\n",
        "    print('--> ERROR: We only have {} hours of readings. We need at least 24 hours.'.format(hours_with_enough_samples))\n",
        "else:\n",
        "    hours_to_use = hours_with_enough_samples if hours_with_enough_samples < 48 else 48\n",
        "# Isolate these rows from all hours.\n",
        "p_kWh_leakage = p_kWh[-hours_to_use:]\n",
        "# Take the average of these readings.\n",
        "average_power_during_hours_to_use = p_kWh_leakage.mean()\n",
        "print('***************************\\nThe average amount of energy used per hour during leakage measurements is {}kWh.\\n***************************'.format(average_power_during_hours_to_use))\n",
        "\n",
        "\n",
        "\n",
        "\n",
        "\n"
      ],
      "execution_count": 6,
      "outputs": [
        {
          "output_type": "stream",
          "text": [
            "***************************\n",
            "The average amount of energy used per hour during leakage measurements is 0.6738384885961429kWh.\n",
            "***************************\n"
          ],
          "name": "stdout"
        }
      ]
    },
    {
      "cell_type": "markdown",
      "metadata": {
        "id": "7FzAf7khOSNb",
        "colab_type": "text"
      },
      "source": [
        "## Amount of Leakage\n",
        "The amount of leakage will be determined by dividing the readings into 1,000 frequency bins and then taking the average of the bin with the highest number of readings.\n",
        "\n",
        "Let's first look at a box plot of the readings.\n",
        "### Box Plot\n",
        "The box plot gives us a quick summary on how the readings are distributed."
      ]
    },
    {
      "cell_type": "code",
      "metadata": {
        "colab_type": "code",
        "id": "53qOKqaCBYWt",
        "outputId": "c79c2ec2-a9c2-4164-e383-f8b0396c165c",
        "colab": {
          "base_uri": "https://localhost:8080/",
          "height": 483
        }
      },
      "source": [
        "# @title Box Plot\n",
        "ax = p_kWh_leakage.plot.box(figsize=(3,8))\n",
        "ax.minorticks_on()\n",
        "ax.grid(which='major', linestyle='-', linewidth='0.5', color='red')\n",
        "ax.grid(which='minor', linestyle=':', linewidth='0.5', color='black')"
      ],
      "execution_count": 7,
      "outputs": [
        {
          "output_type": "display_data",
          "data": {
            "image/png": "[encoded data removed]",
            "text/plain": [
              "<Figure size 216x576 with 1 Axes>"
            ]
          },
          "metadata": {
            "tags": []
          }
        }
      ]
    },
    {
      "cell_type": "markdown",
      "metadata": {
        "colab_type": "text",
        "id": "LQq-TFmnBYWy"
      },
      "source": [
        "### Calculation\n",
        "After putting the readings into 1,000 bins, we take the first bin to identify the amount of electricity that leaks.\n",
        "\n",
        "First, let's look at a histogram of the frequency distribution.\n",
        "#### Histogram"
      ]
    },
    {
      "cell_type": "code",
      "metadata": {
        "id": "jbV5zJkhP6Zv",
        "colab_type": "code",
        "outputId": "18f864a4-8905-4fa6-ee75-893721fe2fa6",
        "colab": {
          "base_uri": "https://localhost:8080/",
          "height": 487
        }
      },
      "source": [
        " p_kWh_leakage.plot.hist(bins=1000, grid=True, edgecolor='k',figsize=(16,8)).autoscale(enable=True, axis='both', tight=True)"
      ],
      "execution_count": 8,
      "outputs": [
        {
          "output_type": "display_data",
          "data": {
            "image/png": "[encoded data removed]",
            "text/plain": [
              "<Figure size 1152x576 with 1 Axes>"
            ]
          },
          "metadata": {
            "tags": []
          }
        }
      ]
    },
    {
      "cell_type": "code",
      "metadata": {
        "colab_type": "code",
        "id": "Qx2vqqHbBYWz",
        "outputId": "2297573c-ac4c-42cd-9869-e1495447dcbd",
        "colab": {
          "base_uri": "https://localhost:8080/",
          "height": 503
        }
      },
      "source": [
        "\n",
        "# @title Determine amount Leaking\n",
        "df_bins = df_reshaped['P'].value_counts(bins=1000)\n",
        "\n",
        "left_bin = df_bins.index[0].left\n",
        "right_bin = df_bins.index[0].right\n",
        "\n",
        "amount_leaking = int(round((right_bin + left_bin) / 2))\n",
        "yearly_leakage = amount_leaking/1000*24*365\n",
        "yearly_cost = round(.13*yearly_leakage,2)\n",
        "\n",
        "print('Highest Frequency bins: \\n{}'.format(df_bins.head(10)))\n",
        "print('\\n***************\\nAmount of electricity leakage: {}w\\n***************\\n'.format(amount_leaking))\n",
        "print('\\n***************\\nAmount of power leaked per year: {}kWh\\n***************\\n'.format(yearly_leakage))\n",
        "print('\\n***************\\nCost per year at $.13/kWh: ${}\\n***************\\n'.format(yearly_cost))\n"
      ],
      "execution_count": 10,
      "outputs": [
        {
          "output_type": "stream",
          "text": [
            "Highest Frequency bins: \n",
            "(158.577, 164.24]     10866\n",
            "(152.913, 158.577]    10347\n",
            "(164.24, 169.904]      7596\n",
            "(254.855, 260.519]     5952\n",
            "(169.904, 175.567]     5690\n",
            "(260.519, 266.182]     5372\n",
            "(249.192, 254.855]     4044\n",
            "(226.538, 232.202]     3153\n",
            "(504.047, 509.71]      2954\n",
            "(509.71, 515.374]      2895\n",
            "Name: P, dtype: int64\n",
            "\n",
            "***************\n",
            "Amount of electricity leakage: 161w\n",
            "***************\n",
            "\n",
            "\n",
            "***************\n",
            "Amount of power leaked per year: 1410.36kWh\n",
            "***************\n",
            "\n",
            "\n",
            "***************\n",
            "Cost per year at $.13/kWh: $183.35\n",
            "***************\n",
            "\n"
          ],
          "name": "stdout"
        }
      ]
    },
    {
      "cell_type": "markdown",
      "metadata": {
        "id": "rgIwNXiFUE7i",
        "colab_type": "text"
      },
      "source": [
        "# % of Average Power Due to Leakage\n",
        "We can now figure out how much of our electricity use is being sucked up by devices when we're not using them."
      ]
    },
    {
      "cell_type": "code",
      "metadata": {
        "id": "-4JDw2CTUW9W",
        "colab_type": "code",
        "outputId": "80eff759-90aa-4fc6-e06a-21f33109aca6",
        "colab": {
          "base_uri": "https://localhost:8080/",
          "height": 107
        }
      },
      "source": [
        "amount_leaking_kWh = amount_leaking/1000\n",
        "leakage_percent = round(amount_leaking_kWh/average_power_during_hours_to_use*100,2)\n",
        "print('\\n***************\\nPercent of the total electricity being leaked: {}%\\n***************\\n'.format(leakage_percent))"
      ],
      "execution_count": 12,
      "outputs": [
        {
          "output_type": "stream",
          "text": [
            "\n",
            "***************\n",
            "Percent of the total electricity being leaked: 23.89%\n",
            "***************\n",
            "\n"
          ],
          "name": "stdout"
        }
      ]
    },
    {
      "cell_type": "markdown",
      "metadata": {
        "id": "B3wOFBYpyKSC",
        "colab_type": "text"
      },
      "source": [
        "# CO2 Equivalency\n",
        "[The EPA](https://www.epa.gov/energy/greenhouse-gases-equivalencies-calculator-calculations-and-references) provides the information needed to convert our electricity leakage into equivalent units of CO2 emission rate, gallons of gas, and barrels of oil.\n",
        "- __CO2 equivalence__: .000707 metric tons CO2/kWh. There are 2,204.62 pounds per metric ton.  "
      ]
    },
    {
      "cell_type": "code",
      "metadata": {
        "id": "if1dvAztUp-8",
        "colab_type": "code",
        "colab": {
          "base_uri": "https://localhost:8080/",
          "height": 107
        },
        "outputId": "567945cb-8a5b-48cd-bf08-cb552fd7d4dc"
      },
      "source": [
        "co2_equivalence_tons = .000707\n",
        "amount_leaking_co2 = round(co2_equivalence_tons*yearly_leakage,2)\n",
        "print('\\n***************\\n{} metric ton(s) of CO2 per year.\\n***************\\n'.format(amount_leaking_co2))"
      ],
      "execution_count": 19,
      "outputs": [
        {
          "output_type": "stream",
          "text": [
            "\n",
            "***************\n",
            "1.0 metric ton(s) of CO2 per year.\n",
            "***************\n",
            "\n"
          ],
          "name": "stdout"
        }
      ]
    },
    {
      "cell_type": "markdown",
      "metadata": {
        "id": "hR4fiKcA2w4C",
        "colab_type": "text"
      },
      "source": [
        "## CO2 Sequestered by a Forest\n",
        "[The EPA](https://www.epa.gov/energy/greenhouse-gases-equivalencies-calculator-calculations-and-references) points out _Growing forests accumulate and store carbon. Through the process of photosynthesis, trees remove CO2 from the atmosphere and store it as cellulose, lignin, and other compounds._\n",
        "\n",
        "The EPA calculation is .85 metric ton CO2 annualy sequestered by one acre of a forest.\n",
        "\n",
        "__What is the equivalent amount of forest would we need to sequester the amount of CO2 our leak generated?__\n"
      ]
    },
    {
      "cell_type": "code",
      "metadata": {
        "id": "MlZxH9x90hKH",
        "colab_type": "code",
        "colab": {
          "base_uri": "https://localhost:8080/",
          "height": 107
        },
        "outputId": "4e7e97cb-f914-4612-afba-54413922c03a"
      },
      "source": [
        "sequestered_per_acre = .85\n",
        "forest_equivalent = round(amount_leaking_co2/sequestered_per_acre,2)\n",
        "print('\\n***************\\nThe equivalent amount of annual forest needed to sequester this amount of CO2 is {} acres.\\n***************\\n'.format(forest_equivalent))\n"
      ],
      "execution_count": 21,
      "outputs": [
        {
          "output_type": "stream",
          "text": [
            "\n",
            "***************\n",
            "The equivalent amount of annual forest needed to sequester this amount of CO2 is 1.18 acres.\n",
            "***************\n",
            "\n"
          ],
          "name": "stdout"
        }
      ]
    },
    {
      "cell_type": "markdown",
      "metadata": {
        "id": "IlUZcii2WH6I",
        "colab_type": "text"
      },
      "source": [
        "## Miles Driven\n",
        "The amount of CO2 emissions per mile is .000409 metric tons.  __What is the equivalent gallons of gas?__"
      ]
    },
    {
      "cell_type": "code",
      "metadata": {
        "id": "Ywo1sb6CWwNm",
        "colab_type": "code",
        "colab": {
          "base_uri": "https://localhost:8080/",
          "height": 107
        },
        "outputId": "1671a4fc-0071-48c8-b42e-f5f076ba5c62"
      },
      "source": [
        "co2_gas_equivalent = .000409\n",
        "gas_equivalent = round(amount_leaking_co2/co2_gas_equivalent)\n",
        "print('\\n***************\\nThe equivalent amount of gallons of gas is  {} gals.\\n***************\\n'.format(gas_equivalent))\n"
      ],
      "execution_count": 17,
      "outputs": [
        {
          "output_type": "stream",
          "text": [
            "\n",
            "***************\n",
            "The equivalent amount of gallons of gas is  2445 gals.\n",
            "***************\n",
            "\n"
          ],
          "name": "stdout"
        }
      ]
    },
    {
      "cell_type": "markdown",
      "metadata": {
        "id": "7tuKNwZnYLVe",
        "colab_type": "text"
      },
      "source": [
        "## Barrels of Oil Consumed\n",
        "This is about CO2 emissions per barrel of oil.  The calculation is 0.43 metric tons of CO2/barrel."
      ]
    },
    {
      "cell_type": "code",
      "metadata": {
        "id": "4Iys5m6w5TS4",
        "colab_type": "code",
        "colab": {
          "base_uri": "https://localhost:8080/",
          "height": 107
        },
        "outputId": "0349918e-98b5-4478-dbc5-0838a3ae073e"
      },
      "source": [
        "co2_oil_equivalent = .43\n",
        "oil_equivalent = round(amount_leaking/co2_oil_equivalent)\n",
        "print('\\n***************\\nThe equivalent amount of barrels of oil is {} barrels.\\n***************\\n'.format(oil_equivalent))\n"
      ],
      "execution_count": 22,
      "outputs": [
        {
          "output_type": "stream",
          "text": [
            "\n",
            "***************\n",
            "The equivalent amount of barrels of oil is 374 barrels.\n",
            "***************\n",
            "\n"
          ],
          "name": "stdout"
        }
      ]
    },
    {
      "cell_type": "code",
      "metadata": {
        "id": "5_a3NLnXZkZY",
        "colab_type": "code",
        "colab": {}
      },
      "source": [
        ""
      ],
      "execution_count": 0,
      "outputs": []
    }
  ]
}