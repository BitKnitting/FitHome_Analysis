{
  "nbformat": 4,
  "nbformat_minor": 0,
  "metadata": {
    "colab": {
      "name": "EDA_UKDale_microwave.ipynb",
      "provenance": [],
      "include_colab_link": true
    },
    "kernelspec": {
      "name": "python3",
      "display_name": "Python 3"
    },
    "accelerator": "GPU"
  },
  "cells": [
    {
      "cell_type": "markdown",
      "metadata": {
        "id": "view-in-github",
        "colab_type": "text"
      },
      "source": [
        "<a href=\"https://colab.research.google.com/github/BitKnitting/FitHome_Analysis/blob/master/notebooks/UK_DALE_noodling/EDA_UKDale_GoogleBlog.ipynb\" target=\"_parent\"><img src=\"https://colab.research.google.com/assets/colab-badge.svg\" alt=\"Open In Colab\"/></a>"
      ]
    },
    {
      "cell_type": "markdown",
      "metadata": {
        "id": "moa8pdhzdjHh",
        "colab_type": "text"
      },
      "source": [
        "# Goal\n",
        "To explore/replicate the EDA done in _[AI in depth: monitoring home appliances from power readings with ML](https://cloud.google.com/blog/products/ai-machine-learning/monitoring-home-appliances-from-power-readings-with-ml)_.\n",
        "- [GitHub location where notebooks discussed in the blog are posted](https://github.com/GoogleCloudPlatform/professional-services/tree/master/examples/e2e-home-appliance-status-monitoring/notebook).  The interesting notebook for this discussion is [EnergyDisaggregationEDA.ipynb](https://github.com/GoogleCloudPlatform/professional-services/blob/master/examples/e2e-home-appliance-status-monitoring/notebook/EnergyDisaggregationEDA.ipynb)\n"
      ]
    },
    {
      "cell_type": "markdown",
      "metadata": {
        "id": "4OD-Bi30eHRm",
        "colab_type": "text"
      },
      "source": [
        "# Get the data\n",
        "While we could have used We downloaded the prepocessed file discussed in the blog post from [here](https://console.cloud.google.com/storage/browser/_details/gcp_blog/e2e_demo/processed_h2_appliance.csv) to our google drive.     \n",
        "  \n",
        "The preprocessed data includes the data noted in the blog post that was used in their examples: _We demonstrate our solution using the data from house #2, for which the dataset includes a total of 18 appliances’ power consumption. Given the granularity of the dataset (a sample rate of ⅙ Hz), it is difficult to estimate appliances with relatively tiny power usage. As a result, appliances such as laptops and computer monitors are removed from this demo. Based on a data exploration study shown below, we selected eight appliances out of the original 18 items as our target appliances: a treadmill, washing machine, dishwasher, microwave, toaster, electric kettle, rice cooker and “cooker,” a.k.a., electric stovetop._"
      ]
    },
    {
      "cell_type": "code",
      "metadata": {
        "id": "l_fe8hbv6xcv",
        "colab_type": "code",
        "outputId": "d649d154-0431-45ca-b747-ffb2cd318c69",
        "colab": {
          "base_uri": "https://localhost:8080/",
          "height": 35
        }
      },
      "source": [
        "# @title Mount Google Drive\n",
        "from google.colab import drive\n",
        "drive.mount('/content/drive')"
      ],
      "execution_count": 2,
      "outputs": [
        {
          "output_type": "stream",
          "text": [
            "Drive already mounted at /content/drive; to attempt to forcibly remount, call drive.mount(\"/content/drive\", force_remount=True).\n"
          ],
          "name": "stdout"
        }
      ]
    },
    {
      "cell_type": "code",
      "metadata": {
        "id": "xvt1pFGygLGj",
        "colab_type": "code",
        "colab": {}
      },
      "source": [
        "import pandas as pd"
      ],
      "execution_count": 0,
      "outputs": []
    },
    {
      "cell_type": "code",
      "metadata": {
        "id": "7iiQN9uYf1Ed",
        "colab_type": "code",
        "colab": {
          "base_uri": "https://localhost:8080/",
          "height": 53
        },
        "outputId": "075106f8-dab4-43e8-81e3-49e3a49e33ad"
      },
      "source": [
        "%%time\n",
        " \n",
        "with open('/content/drive/My Drive/Colab Notebooks/e2e_demo_processed_h2_appliance.csv') as f:\n",
        "    input_data = pd.read_csv(f, \n",
        "                            index_col=0,\n",
        "                            parse_dates=True)"
      ],
      "execution_count": 4,
      "outputs": [
        {
          "output_type": "stream",
          "text": [
            "CPU times: user 10.1 s, sys: 1.67 s, total: 11.8 s\n",
            "Wall time: 12.4 s\n"
          ],
          "name": "stdout"
        }
      ]
    },
    {
      "cell_type": "code",
      "metadata": {
        "id": "zXA06TQwCFe1",
        "colab_type": "code",
        "colab": {}
      },
      "source": [
        "# @title copying data to another dataframe\n",
        "energy_data = input_data"
      ],
      "execution_count": 0,
      "outputs": []
    },
    {
      "cell_type": "code",
      "metadata": {
        "id": "rSqNynBLHdCb",
        "colab_type": "code",
        "colab": {
          "base_uri": "https://localhost:8080/",
          "height": 426
        },
        "outputId": "30c14686-86fb-4297-f2e9-5ff216dd26bc"
      },
      "source": [
        "# @title Let's take a peek...\n",
        "energy_data.head()"
      ],
      "execution_count": 6,
      "outputs": [
        {
          "output_type": "execute_result",
          "data": {
            "text/html": [
              "<div>\n",
              "<style scoped>\n",
              "    .dataframe tbody tr th:only-of-type {\n",
              "        vertical-align: middle;\n",
              "    }\n",
              "\n",
              "    .dataframe tbody tr th {\n",
              "        vertical-align: top;\n",
              "    }\n",
              "\n",
              "    .dataframe thead th {\n",
              "        text-align: right;\n",
              "    }\n",
              "</style>\n",
              "<table border=\"1\" class=\"dataframe\">\n",
              "  <thead>\n",
              "    <tr style=\"text-align: right;\">\n",
              "      <th></th>\n",
              "      <th>modem</th>\n",
              "      <th>cooker</th>\n",
              "      <th>rice_cooker</th>\n",
              "      <th>kettle</th>\n",
              "      <th>aggregate</th>\n",
              "      <th>monitor</th>\n",
              "      <th>laptop</th>\n",
              "      <th>router</th>\n",
              "      <th>server_hdd</th>\n",
              "      <th>server</th>\n",
              "      <th>speakers</th>\n",
              "      <th>playstation</th>\n",
              "      <th>toaster</th>\n",
              "      <th>fridge</th>\n",
              "      <th>microwave</th>\n",
              "      <th>laptop2</th>\n",
              "      <th>running_machine</th>\n",
              "      <th>washing_machine</th>\n",
              "      <th>dish_washer</th>\n",
              "    </tr>\n",
              "    <tr>\n",
              "      <th>time</th>\n",
              "      <th></th>\n",
              "      <th></th>\n",
              "      <th></th>\n",
              "      <th></th>\n",
              "      <th></th>\n",
              "      <th></th>\n",
              "      <th></th>\n",
              "      <th></th>\n",
              "      <th></th>\n",
              "      <th></th>\n",
              "      <th></th>\n",
              "      <th></th>\n",
              "      <th></th>\n",
              "      <th></th>\n",
              "      <th></th>\n",
              "      <th></th>\n",
              "      <th></th>\n",
              "      <th></th>\n",
              "      <th></th>\n",
              "    </tr>\n",
              "  </thead>\n",
              "  <tbody>\n",
              "    <tr>\n",
              "      <th>2013-02-17 23:39:19</th>\n",
              "      <td>NaN</td>\n",
              "      <td>NaN</td>\n",
              "      <td>NaN</td>\n",
              "      <td>NaN</td>\n",
              "      <td>NaN</td>\n",
              "      <td>62.0</td>\n",
              "      <td>14.0</td>\n",
              "      <td>NaN</td>\n",
              "      <td>NaN</td>\n",
              "      <td>21.0</td>\n",
              "      <td>3.0</td>\n",
              "      <td>NaN</td>\n",
              "      <td>NaN</td>\n",
              "      <td>NaN</td>\n",
              "      <td>NaN</td>\n",
              "      <td>NaN</td>\n",
              "      <td>NaN</td>\n",
              "      <td>NaN</td>\n",
              "      <td>NaN</td>\n",
              "    </tr>\n",
              "    <tr>\n",
              "      <th>2013-02-17 23:39:25</th>\n",
              "      <td>NaN</td>\n",
              "      <td>NaN</td>\n",
              "      <td>NaN</td>\n",
              "      <td>NaN</td>\n",
              "      <td>NaN</td>\n",
              "      <td>61.0</td>\n",
              "      <td>14.0</td>\n",
              "      <td>NaN</td>\n",
              "      <td>NaN</td>\n",
              "      <td>21.0</td>\n",
              "      <td>3.0</td>\n",
              "      <td>NaN</td>\n",
              "      <td>NaN</td>\n",
              "      <td>NaN</td>\n",
              "      <td>NaN</td>\n",
              "      <td>NaN</td>\n",
              "      <td>NaN</td>\n",
              "      <td>NaN</td>\n",
              "      <td>NaN</td>\n",
              "    </tr>\n",
              "    <tr>\n",
              "      <th>2013-02-17 23:39:31</th>\n",
              "      <td>NaN</td>\n",
              "      <td>NaN</td>\n",
              "      <td>NaN</td>\n",
              "      <td>NaN</td>\n",
              "      <td>NaN</td>\n",
              "      <td>62.0</td>\n",
              "      <td>14.0</td>\n",
              "      <td>NaN</td>\n",
              "      <td>NaN</td>\n",
              "      <td>21.0</td>\n",
              "      <td>3.0</td>\n",
              "      <td>NaN</td>\n",
              "      <td>NaN</td>\n",
              "      <td>NaN</td>\n",
              "      <td>NaN</td>\n",
              "      <td>NaN</td>\n",
              "      <td>NaN</td>\n",
              "      <td>NaN</td>\n",
              "      <td>NaN</td>\n",
              "    </tr>\n",
              "    <tr>\n",
              "      <th>2013-02-17 23:39:37</th>\n",
              "      <td>NaN</td>\n",
              "      <td>NaN</td>\n",
              "      <td>NaN</td>\n",
              "      <td>NaN</td>\n",
              "      <td>NaN</td>\n",
              "      <td>62.0</td>\n",
              "      <td>14.0</td>\n",
              "      <td>NaN</td>\n",
              "      <td>NaN</td>\n",
              "      <td>22.0</td>\n",
              "      <td>3.0</td>\n",
              "      <td>NaN</td>\n",
              "      <td>NaN</td>\n",
              "      <td>NaN</td>\n",
              "      <td>NaN</td>\n",
              "      <td>NaN</td>\n",
              "      <td>NaN</td>\n",
              "      <td>NaN</td>\n",
              "      <td>NaN</td>\n",
              "    </tr>\n",
              "    <tr>\n",
              "      <th>2013-02-17 23:39:43</th>\n",
              "      <td>NaN</td>\n",
              "      <td>NaN</td>\n",
              "      <td>NaN</td>\n",
              "      <td>NaN</td>\n",
              "      <td>NaN</td>\n",
              "      <td>62.0</td>\n",
              "      <td>14.0</td>\n",
              "      <td>NaN</td>\n",
              "      <td>NaN</td>\n",
              "      <td>22.0</td>\n",
              "      <td>3.0</td>\n",
              "      <td>NaN</td>\n",
              "      <td>NaN</td>\n",
              "      <td>NaN</td>\n",
              "      <td>NaN</td>\n",
              "      <td>NaN</td>\n",
              "      <td>NaN</td>\n",
              "      <td>NaN</td>\n",
              "      <td>NaN</td>\n",
              "    </tr>\n",
              "  </tbody>\n",
              "</table>\n",
              "</div>"
            ],
            "text/plain": [
              "                     modem  cooker  ...  washing_machine  dish_washer\n",
              "time                                ...                              \n",
              "2013-02-17 23:39:19    NaN     NaN  ...              NaN          NaN\n",
              "2013-02-17 23:39:25    NaN     NaN  ...              NaN          NaN\n",
              "2013-02-17 23:39:31    NaN     NaN  ...              NaN          NaN\n",
              "2013-02-17 23:39:37    NaN     NaN  ...              NaN          NaN\n",
              "2013-02-17 23:39:43    NaN     NaN  ...              NaN          NaN\n",
              "\n",
              "[5 rows x 19 columns]"
            ]
          },
          "metadata": {
            "tags": []
          },
          "execution_count": 6
        }
      ]
    },
    {
      "cell_type": "markdown",
      "metadata": {
        "id": "wSG6qN1Pg9hB",
        "colab_type": "text"
      },
      "source": [
        "#EDA"
      ]
    },
    {
      "cell_type": "code",
      "metadata": {
        "id": "DfLkBEgng_mZ",
        "colab_type": "code",
        "colab": {
          "base_uri": "https://localhost:8080/",
          "height": 332
        },
        "outputId": "cda49d7e-5bc9-4230-8d56-dd256426b865"
      },
      "source": [
        "print(energy_data.shape)\n",
        "energy_data.describe()"
      ],
      "execution_count": 28,
      "outputs": [
        {
          "output_type": "stream",
          "text": [
            "(7074143, 19)\n"
          ],
          "name": "stdout"
        },
        {
          "output_type": "execute_result",
          "data": {
            "text/html": [
              "<div>\n",
              "<style scoped>\n",
              "    .dataframe tbody tr th:only-of-type {\n",
              "        vertical-align: middle;\n",
              "    }\n",
              "\n",
              "    .dataframe tbody tr th {\n",
              "        vertical-align: top;\n",
              "    }\n",
              "\n",
              "    .dataframe thead th {\n",
              "        text-align: right;\n",
              "    }\n",
              "</style>\n",
              "<table border=\"1\" class=\"dataframe\">\n",
              "  <thead>\n",
              "    <tr style=\"text-align: right;\">\n",
              "      <th></th>\n",
              "      <th>modem</th>\n",
              "      <th>cooker</th>\n",
              "      <th>rice_cooker</th>\n",
              "      <th>kettle</th>\n",
              "      <th>aggregate</th>\n",
              "      <th>monitor</th>\n",
              "      <th>laptop</th>\n",
              "      <th>router</th>\n",
              "      <th>server_hdd</th>\n",
              "      <th>server</th>\n",
              "      <th>speakers</th>\n",
              "      <th>playstation</th>\n",
              "      <th>toaster</th>\n",
              "      <th>fridge</th>\n",
              "      <th>microwave</th>\n",
              "      <th>laptop2</th>\n",
              "      <th>running_machine</th>\n",
              "      <th>washing_machine</th>\n",
              "      <th>dish_washer</th>\n",
              "    </tr>\n",
              "  </thead>\n",
              "  <tbody>\n",
              "    <tr>\n",
              "      <th>count</th>\n",
              "      <td>1.677592e+06</td>\n",
              "      <td>1.679203e+06</td>\n",
              "      <td>2.080995e+06</td>\n",
              "      <td>2.094523e+06</td>\n",
              "      <td>2.780373e+06</td>\n",
              "      <td>2.805646e+06</td>\n",
              "      <td>2.804685e+06</td>\n",
              "      <td>2.795349e+06</td>\n",
              "      <td>2.094586e+06</td>\n",
              "      <td>2.806036e+06</td>\n",
              "      <td>2.801065e+06</td>\n",
              "      <td>1.686903e+06</td>\n",
              "      <td>1.685322e+06</td>\n",
              "      <td>1.687285e+06</td>\n",
              "      <td>1.685519e+06</td>\n",
              "      <td>1.878770e+06</td>\n",
              "      <td>2.089140e+06</td>\n",
              "      <td>1.686220e+06</td>\n",
              "      <td>1.687175e+06</td>\n",
              "    </tr>\n",
              "    <tr>\n",
              "      <th>mean</th>\n",
              "      <td>8.986482e+00</td>\n",
              "      <td>2.065712e-01</td>\n",
              "      <td>3.308586e+00</td>\n",
              "      <td>2.999901e+01</td>\n",
              "      <td>3.373776e+02</td>\n",
              "      <td>2.280847e+01</td>\n",
              "      <td>9.580602e+00</td>\n",
              "      <td>9.967840e+00</td>\n",
              "      <td>2.765108e+00</td>\n",
              "      <td>1.771830e+01</td>\n",
              "      <td>5.928921e+00</td>\n",
              "      <td>9.457248e-01</td>\n",
              "      <td>6.086540e-01</td>\n",
              "      <td>4.585795e+01</td>\n",
              "      <td>6.709595e+00</td>\n",
              "      <td>4.134341e+00</td>\n",
              "      <td>3.399004e+00</td>\n",
              "      <td>1.157243e+01</td>\n",
              "      <td>4.292514e+01</td>\n",
              "    </tr>\n",
              "    <tr>\n",
              "      <th>std</th>\n",
              "      <td>5.898772e-01</td>\n",
              "      <td>5.411729e+00</td>\n",
              "      <td>2.974451e+01</td>\n",
              "      <td>2.916419e+02</td>\n",
              "      <td>4.892145e+02</td>\n",
              "      <td>2.940439e+01</td>\n",
              "      <td>1.393829e+01</td>\n",
              "      <td>6.628239e+00</td>\n",
              "      <td>4.685827e+00</td>\n",
              "      <td>8.784269e+00</td>\n",
              "      <td>3.880836e+00</td>\n",
              "      <td>1.112636e+00</td>\n",
              "      <td>1.804222e+01</td>\n",
              "      <td>4.545345e+01</td>\n",
              "      <td>9.170054e+01</td>\n",
              "      <td>9.744350e+00</td>\n",
              "      <td>2.375296e+01</td>\n",
              "      <td>1.219902e+02</td>\n",
              "      <td>2.839677e+02</td>\n",
              "    </tr>\n",
              "    <tr>\n",
              "      <th>min</th>\n",
              "      <td>0.000000e+00</td>\n",
              "      <td>0.000000e+00</td>\n",
              "      <td>0.000000e+00</td>\n",
              "      <td>0.000000e+00</td>\n",
              "      <td>1.090000e+02</td>\n",
              "      <td>0.000000e+00</td>\n",
              "      <td>0.000000e+00</td>\n",
              "      <td>0.000000e+00</td>\n",
              "      <td>0.000000e+00</td>\n",
              "      <td>0.000000e+00</td>\n",
              "      <td>0.000000e+00</td>\n",
              "      <td>0.000000e+00</td>\n",
              "      <td>0.000000e+00</td>\n",
              "      <td>7.000000e+00</td>\n",
              "      <td>0.000000e+00</td>\n",
              "      <td>0.000000e+00</td>\n",
              "      <td>0.000000e+00</td>\n",
              "      <td>0.000000e+00</td>\n",
              "      <td>0.000000e+00</td>\n",
              "    </tr>\n",
              "    <tr>\n",
              "      <th>25%</th>\n",
              "      <td>9.000000e+00</td>\n",
              "      <td>0.000000e+00</td>\n",
              "      <td>1.000000e+00</td>\n",
              "      <td>1.000000e+00</td>\n",
              "      <td>1.670000e+02</td>\n",
              "      <td>0.000000e+00</td>\n",
              "      <td>0.000000e+00</td>\n",
              "      <td>6.000000e+00</td>\n",
              "      <td>0.000000e+00</td>\n",
              "      <td>1.300000e+01</td>\n",
              "      <td>3.000000e+00</td>\n",
              "      <td>1.000000e+00</td>\n",
              "      <td>0.000000e+00</td>\n",
              "      <td>1.100000e+01</td>\n",
              "      <td>0.000000e+00</td>\n",
              "      <td>0.000000e+00</td>\n",
              "      <td>1.000000e+00</td>\n",
              "      <td>3.000000e+00</td>\n",
              "      <td>1.000000e+00</td>\n",
              "    </tr>\n",
              "    <tr>\n",
              "      <th>50%</th>\n",
              "      <td>9.000000e+00</td>\n",
              "      <td>0.000000e+00</td>\n",
              "      <td>1.000000e+00</td>\n",
              "      <td>1.000000e+00</td>\n",
              "      <td>2.120000e+02</td>\n",
              "      <td>0.000000e+00</td>\n",
              "      <td>0.000000e+00</td>\n",
              "      <td>6.000000e+00</td>\n",
              "      <td>1.000000e+00</td>\n",
              "      <td>1.400000e+01</td>\n",
              "      <td>3.000000e+00</td>\n",
              "      <td>1.000000e+00</td>\n",
              "      <td>0.000000e+00</td>\n",
              "      <td>1.100000e+01</td>\n",
              "      <td>0.000000e+00</td>\n",
              "      <td>0.000000e+00</td>\n",
              "      <td>1.000000e+00</td>\n",
              "      <td>3.000000e+00</td>\n",
              "      <td>1.000000e+00</td>\n",
              "    </tr>\n",
              "    <tr>\n",
              "      <th>75%</th>\n",
              "      <td>9.000000e+00</td>\n",
              "      <td>0.000000e+00</td>\n",
              "      <td>1.000000e+00</td>\n",
              "      <td>1.000000e+00</td>\n",
              "      <td>3.000000e+02</td>\n",
              "      <td>6.000000e+01</td>\n",
              "      <td>1.600000e+01</td>\n",
              "      <td>1.800000e+01</td>\n",
              "      <td>1.000000e+00</td>\n",
              "      <td>1.700000e+01</td>\n",
              "      <td>1.000000e+01</td>\n",
              "      <td>1.000000e+00</td>\n",
              "      <td>1.000000e+00</td>\n",
              "      <td>8.700000e+01</td>\n",
              "      <td>0.000000e+00</td>\n",
              "      <td>0.000000e+00</td>\n",
              "      <td>1.000000e+00</td>\n",
              "      <td>4.000000e+00</td>\n",
              "      <td>1.000000e+00</td>\n",
              "    </tr>\n",
              "    <tr>\n",
              "      <th>max</th>\n",
              "      <td>2.650000e+02</td>\n",
              "      <td>3.532000e+03</td>\n",
              "      <td>1.017000e+03</td>\n",
              "      <td>3.998000e+03</td>\n",
              "      <td>1.652900e+04</td>\n",
              "      <td>1.300000e+03</td>\n",
              "      <td>2.100000e+03</td>\n",
              "      <td>2.630000e+02</td>\n",
              "      <td>1.917000e+03</td>\n",
              "      <td>4.790000e+02</td>\n",
              "      <td>2.051000e+03</td>\n",
              "      <td>3.110000e+02</td>\n",
              "      <td>3.216000e+03</td>\n",
              "      <td>1.826000e+03</td>\n",
              "      <td>2.668000e+03</td>\n",
              "      <td>2.621000e+03</td>\n",
              "      <td>1.349000e+03</td>\n",
              "      <td>2.974000e+03</td>\n",
              "      <td>3.964000e+03</td>\n",
              "    </tr>\n",
              "  </tbody>\n",
              "</table>\n",
              "</div>"
            ],
            "text/plain": [
              "              modem        cooker  ...  washing_machine   dish_washer\n",
              "count  1.677592e+06  1.679203e+06  ...     1.686220e+06  1.687175e+06\n",
              "mean   8.986482e+00  2.065712e-01  ...     1.157243e+01  4.292514e+01\n",
              "std    5.898772e-01  5.411729e+00  ...     1.219902e+02  2.839677e+02\n",
              "min    0.000000e+00  0.000000e+00  ...     0.000000e+00  0.000000e+00\n",
              "25%    9.000000e+00  0.000000e+00  ...     3.000000e+00  1.000000e+00\n",
              "50%    9.000000e+00  0.000000e+00  ...     3.000000e+00  1.000000e+00\n",
              "75%    9.000000e+00  0.000000e+00  ...     4.000000e+00  1.000000e+00\n",
              "max    2.650000e+02  3.532000e+03  ...     2.974000e+03  3.964000e+03\n",
              "\n",
              "[8 rows x 19 columns]"
            ]
          },
          "metadata": {
            "tags": []
          },
          "execution_count": 28
        }
      ]
    },
    {
      "cell_type": "code",
      "metadata": {
        "id": "_tRHb_Bdgrt2",
        "colab_type": "code",
        "colab": {
          "base_uri": "https://localhost:8080/",
          "height": 35
        },
        "outputId": "d6f20b00-5f32-47a0-be76-d9cb9c7a8a1a"
      },
      "source": [
        "# @title Start / end of datetimes in the dataset\n",
        "energy_data.index.min(), energy_data.index.max()"
      ],
      "execution_count": 29,
      "outputs": [
        {
          "output_type": "execute_result",
          "data": {
            "text/plain": [
              "(Timestamp('2013-02-17 23:39:19'), Timestamp('2013-10-10 13:15:58'))"
            ]
          },
          "metadata": {
            "tags": []
          },
          "execution_count": 29
        }
      ]
    },
    {
      "cell_type": "markdown",
      "metadata": {
        "id": "dyteHB8QhiBt",
        "colab_type": "text"
      },
      "source": [
        "# Use Subset of Data\n",
        "The blog post notes: _The data for House #2 spans from late February to early October 2013. We used data from June to the end of September in our demo system due to missing data at both ends of the period._"
      ]
    },
    {
      "cell_type": "code",
      "metadata": {
        "id": "KEgro9szhPsz",
        "colab_type": "code",
        "colab": {
          "base_uri": "https://localhost:8080/",
          "height": 332
        },
        "outputId": "db8898e2-6592-481d-9e4e-98692582f15f"
      },
      "source": [
        "cutoff_st = '2013-06-01 00:00:00'\n",
        "cutoff_et = '2013-09-30 23:59:59'\n",
        "energy_data = energy_data.loc[cutoff_st:cutoff_et]\n",
        "print('{}, {}'.format(energy_data.index.min(), energy_data.index.max()))\n",
        "energy_data.describe()"
      ],
      "execution_count": 7,
      "outputs": [
        {
          "output_type": "stream",
          "text": [
            "2013-06-01 00:00:00, 2013-09-30 23:59:58\n"
          ],
          "name": "stdout"
        },
        {
          "output_type": "execute_result",
          "data": {
            "text/html": [
              "<div>\n",
              "<style scoped>\n",
              "    .dataframe tbody tr th:only-of-type {\n",
              "        vertical-align: middle;\n",
              "    }\n",
              "\n",
              "    .dataframe tbody tr th {\n",
              "        vertical-align: top;\n",
              "    }\n",
              "\n",
              "    .dataframe thead th {\n",
              "        text-align: right;\n",
              "    }\n",
              "</style>\n",
              "<table border=\"1\" class=\"dataframe\">\n",
              "  <thead>\n",
              "    <tr style=\"text-align: right;\">\n",
              "      <th></th>\n",
              "      <th>modem</th>\n",
              "      <th>cooker</th>\n",
              "      <th>rice_cooker</th>\n",
              "      <th>kettle</th>\n",
              "      <th>aggregate</th>\n",
              "      <th>monitor</th>\n",
              "      <th>laptop</th>\n",
              "      <th>router</th>\n",
              "      <th>server_hdd</th>\n",
              "      <th>server</th>\n",
              "      <th>speakers</th>\n",
              "      <th>playstation</th>\n",
              "      <th>toaster</th>\n",
              "      <th>fridge</th>\n",
              "      <th>microwave</th>\n",
              "      <th>laptop2</th>\n",
              "      <th>running_machine</th>\n",
              "      <th>washing_machine</th>\n",
              "      <th>dish_washer</th>\n",
              "    </tr>\n",
              "  </thead>\n",
              "  <tbody>\n",
              "    <tr>\n",
              "      <th>count</th>\n",
              "      <td>1.393005e+06</td>\n",
              "      <td>1.396874e+06</td>\n",
              "      <td>1.396576e+06</td>\n",
              "      <td>1.402749e+06</td>\n",
              "      <td>1.391002e+06</td>\n",
              "      <td>1.402752e+06</td>\n",
              "      <td>1.402774e+06</td>\n",
              "      <td>1.397161e+06</td>\n",
              "      <td>1.402784e+06</td>\n",
              "      <td>1.402794e+06</td>\n",
              "      <td>1.402525e+06</td>\n",
              "      <td>1.402212e+06</td>\n",
              "      <td>1.400604e+06</td>\n",
              "      <td>1.402672e+06</td>\n",
              "      <td>1.400815e+06</td>\n",
              "      <td>1.390381e+06</td>\n",
              "      <td>1.402192e+06</td>\n",
              "      <td>1.402098e+06</td>\n",
              "      <td>1.402556e+06</td>\n",
              "    </tr>\n",
              "    <tr>\n",
              "      <th>mean</th>\n",
              "      <td>8.990243e+00</td>\n",
              "      <td>2.148003e-01</td>\n",
              "      <td>3.353873e+00</td>\n",
              "      <td>2.640869e+01</td>\n",
              "      <td>3.071325e+02</td>\n",
              "      <td>2.113359e+01</td>\n",
              "      <td>8.875795e+00</td>\n",
              "      <td>6.109266e+00</td>\n",
              "      <td>6.007625e-01</td>\n",
              "      <td>1.382387e+01</td>\n",
              "      <td>6.382900e+00</td>\n",
              "      <td>9.452758e-01</td>\n",
              "      <td>5.645793e-01</td>\n",
              "      <td>4.712189e+01</td>\n",
              "      <td>6.772695e+00</td>\n",
              "      <td>4.107219e+00</td>\n",
              "      <td>3.195568e+00</td>\n",
              "      <td>1.175946e+01</td>\n",
              "      <td>4.153590e+01</td>\n",
              "    </tr>\n",
              "    <tr>\n",
              "      <th>std</th>\n",
              "      <td>6.217024e-01</td>\n",
              "      <td>5.571905e+00</td>\n",
              "      <td>2.983225e+01</td>\n",
              "      <td>2.729250e+02</td>\n",
              "      <td>4.566821e+02</td>\n",
              "      <td>2.870907e+01</td>\n",
              "      <td>1.293091e+01</td>\n",
              "      <td>4.329827e-01</td>\n",
              "      <td>2.140922e+00</td>\n",
              "      <td>9.514190e-01</td>\n",
              "      <td>3.732126e+00</td>\n",
              "      <td>8.617581e-01</td>\n",
              "      <td>1.659793e+01</td>\n",
              "      <td>4.513692e+01</td>\n",
              "      <td>9.192325e+01</td>\n",
              "      <td>9.795207e+00</td>\n",
              "      <td>2.368819e+01</td>\n",
              "      <td>1.232902e+02</td>\n",
              "      <td>2.793435e+02</td>\n",
              "    </tr>\n",
              "    <tr>\n",
              "      <th>min</th>\n",
              "      <td>0.000000e+00</td>\n",
              "      <td>0.000000e+00</td>\n",
              "      <td>0.000000e+00</td>\n",
              "      <td>0.000000e+00</td>\n",
              "      <td>1.090000e+02</td>\n",
              "      <td>0.000000e+00</td>\n",
              "      <td>0.000000e+00</td>\n",
              "      <td>0.000000e+00</td>\n",
              "      <td>0.000000e+00</td>\n",
              "      <td>9.000000e+00</td>\n",
              "      <td>2.000000e+00</td>\n",
              "      <td>0.000000e+00</td>\n",
              "      <td>0.000000e+00</td>\n",
              "      <td>9.000000e+00</td>\n",
              "      <td>0.000000e+00</td>\n",
              "      <td>0.000000e+00</td>\n",
              "      <td>0.000000e+00</td>\n",
              "      <td>0.000000e+00</td>\n",
              "      <td>0.000000e+00</td>\n",
              "    </tr>\n",
              "    <tr>\n",
              "      <th>25%</th>\n",
              "      <td>9.000000e+00</td>\n",
              "      <td>0.000000e+00</td>\n",
              "      <td>1.000000e+00</td>\n",
              "      <td>1.000000e+00</td>\n",
              "      <td>1.470000e+02</td>\n",
              "      <td>0.000000e+00</td>\n",
              "      <td>0.000000e+00</td>\n",
              "      <td>6.000000e+00</td>\n",
              "      <td>0.000000e+00</td>\n",
              "      <td>1.300000e+01</td>\n",
              "      <td>3.000000e+00</td>\n",
              "      <td>1.000000e+00</td>\n",
              "      <td>0.000000e+00</td>\n",
              "      <td>1.100000e+01</td>\n",
              "      <td>0.000000e+00</td>\n",
              "      <td>0.000000e+00</td>\n",
              "      <td>1.000000e+00</td>\n",
              "      <td>3.000000e+00</td>\n",
              "      <td>1.000000e+00</td>\n",
              "    </tr>\n",
              "    <tr>\n",
              "      <th>50%</th>\n",
              "      <td>9.000000e+00</td>\n",
              "      <td>0.000000e+00</td>\n",
              "      <td>1.000000e+00</td>\n",
              "      <td>1.000000e+00</td>\n",
              "      <td>1.970000e+02</td>\n",
              "      <td>0.000000e+00</td>\n",
              "      <td>0.000000e+00</td>\n",
              "      <td>6.000000e+00</td>\n",
              "      <td>1.000000e+00</td>\n",
              "      <td>1.400000e+01</td>\n",
              "      <td>3.000000e+00</td>\n",
              "      <td>1.000000e+00</td>\n",
              "      <td>0.000000e+00</td>\n",
              "      <td>1.100000e+01</td>\n",
              "      <td>0.000000e+00</td>\n",
              "      <td>0.000000e+00</td>\n",
              "      <td>1.000000e+00</td>\n",
              "      <td>3.000000e+00</td>\n",
              "      <td>1.000000e+00</td>\n",
              "    </tr>\n",
              "    <tr>\n",
              "      <th>75%</th>\n",
              "      <td>9.000000e+00</td>\n",
              "      <td>0.000000e+00</td>\n",
              "      <td>1.000000e+00</td>\n",
              "      <td>1.000000e+00</td>\n",
              "      <td>2.730000e+02</td>\n",
              "      <td>6.000000e+01</td>\n",
              "      <td>1.900000e+01</td>\n",
              "      <td>6.000000e+00</td>\n",
              "      <td>1.000000e+00</td>\n",
              "      <td>1.400000e+01</td>\n",
              "      <td>1.000000e+01</td>\n",
              "      <td>1.000000e+00</td>\n",
              "      <td>1.000000e+00</td>\n",
              "      <td>8.700000e+01</td>\n",
              "      <td>0.000000e+00</td>\n",
              "      <td>0.000000e+00</td>\n",
              "      <td>1.000000e+00</td>\n",
              "      <td>4.000000e+00</td>\n",
              "      <td>1.000000e+00</td>\n",
              "    </tr>\n",
              "    <tr>\n",
              "      <th>max</th>\n",
              "      <td>2.650000e+02</td>\n",
              "      <td>3.532000e+03</td>\n",
              "      <td>8.210000e+02</td>\n",
              "      <td>3.998000e+03</td>\n",
              "      <td>6.361000e+03</td>\n",
              "      <td>3.640000e+02</td>\n",
              "      <td>2.100000e+03</td>\n",
              "      <td>1.340000e+02</td>\n",
              "      <td>1.917000e+03</td>\n",
              "      <td>3.300000e+01</td>\n",
              "      <td>2.400000e+01</td>\n",
              "      <td>1.200000e+02</td>\n",
              "      <td>3.216000e+03</td>\n",
              "      <td>1.826000e+03</td>\n",
              "      <td>2.668000e+03</td>\n",
              "      <td>2.621000e+03</td>\n",
              "      <td>1.349000e+03</td>\n",
              "      <td>2.974000e+03</td>\n",
              "      <td>3.955000e+03</td>\n",
              "    </tr>\n",
              "  </tbody>\n",
              "</table>\n",
              "</div>"
            ],
            "text/plain": [
              "              modem        cooker  ...  washing_machine   dish_washer\n",
              "count  1.393005e+06  1.396874e+06  ...     1.402098e+06  1.402556e+06\n",
              "mean   8.990243e+00  2.148003e-01  ...     1.175946e+01  4.153590e+01\n",
              "std    6.217024e-01  5.571905e+00  ...     1.232902e+02  2.793435e+02\n",
              "min    0.000000e+00  0.000000e+00  ...     0.000000e+00  0.000000e+00\n",
              "25%    9.000000e+00  0.000000e+00  ...     3.000000e+00  1.000000e+00\n",
              "50%    9.000000e+00  0.000000e+00  ...     3.000000e+00  1.000000e+00\n",
              "75%    9.000000e+00  0.000000e+00  ...     4.000000e+00  1.000000e+00\n",
              "max    2.650000e+02  3.532000e+03  ...     2.974000e+03  3.955000e+03\n",
              "\n",
              "[8 rows x 19 columns]"
            ]
          },
          "metadata": {
            "tags": []
          },
          "execution_count": 7
        }
      ]
    },
    {
      "cell_type": "markdown",
      "metadata": {
        "id": "n6lOXxVAjQLu",
        "colab_type": "text"
      },
      "source": [
        "# Handle Missing Values\n",
        "At this step, we're replacing missing readings.  The notebook that goes with the blog post, they have:\n",
        "`energy_data = energy_data.fillna(method='ffill').fillna(method='bfill')`\n",
        "Notice that some of the values in the first rows is NaN.  This is where the bfill method comes in handy.  The rest of the missing values will use the ffil method.\n"
      ]
    },
    {
      "cell_type": "code",
      "metadata": {
        "id": "PRItPrDulpkr",
        "colab_type": "code",
        "colab": {
          "base_uri": "https://localhost:8080/",
          "height": 426
        },
        "outputId": "e65f4a68-4734-4412-a711-e16e1544e685"
      },
      "source": [
        "energy_data = energy_data.fillna(method='ffill').fillna(method='bfill')\n",
        "energy_data.head()"
      ],
      "execution_count": 8,
      "outputs": [
        {
          "output_type": "execute_result",
          "data": {
            "text/html": [
              "<div>\n",
              "<style scoped>\n",
              "    .dataframe tbody tr th:only-of-type {\n",
              "        vertical-align: middle;\n",
              "    }\n",
              "\n",
              "    .dataframe tbody tr th {\n",
              "        vertical-align: top;\n",
              "    }\n",
              "\n",
              "    .dataframe thead th {\n",
              "        text-align: right;\n",
              "    }\n",
              "</style>\n",
              "<table border=\"1\" class=\"dataframe\">\n",
              "  <thead>\n",
              "    <tr style=\"text-align: right;\">\n",
              "      <th></th>\n",
              "      <th>modem</th>\n",
              "      <th>cooker</th>\n",
              "      <th>rice_cooker</th>\n",
              "      <th>kettle</th>\n",
              "      <th>aggregate</th>\n",
              "      <th>monitor</th>\n",
              "      <th>laptop</th>\n",
              "      <th>router</th>\n",
              "      <th>server_hdd</th>\n",
              "      <th>server</th>\n",
              "      <th>speakers</th>\n",
              "      <th>playstation</th>\n",
              "      <th>toaster</th>\n",
              "      <th>fridge</th>\n",
              "      <th>microwave</th>\n",
              "      <th>laptop2</th>\n",
              "      <th>running_machine</th>\n",
              "      <th>washing_machine</th>\n",
              "      <th>dish_washer</th>\n",
              "    </tr>\n",
              "    <tr>\n",
              "      <th>time</th>\n",
              "      <th></th>\n",
              "      <th></th>\n",
              "      <th></th>\n",
              "      <th></th>\n",
              "      <th></th>\n",
              "      <th></th>\n",
              "      <th></th>\n",
              "      <th></th>\n",
              "      <th></th>\n",
              "      <th></th>\n",
              "      <th></th>\n",
              "      <th></th>\n",
              "      <th></th>\n",
              "      <th></th>\n",
              "      <th></th>\n",
              "      <th></th>\n",
              "      <th></th>\n",
              "      <th></th>\n",
              "      <th></th>\n",
              "    </tr>\n",
              "  </thead>\n",
              "  <tbody>\n",
              "    <tr>\n",
              "      <th>2013-06-01 00:00:00</th>\n",
              "      <td>9.0</td>\n",
              "      <td>0.0</td>\n",
              "      <td>1.0</td>\n",
              "      <td>1.0</td>\n",
              "      <td>266.0</td>\n",
              "      <td>60.0</td>\n",
              "      <td>47.0</td>\n",
              "      <td>6.0</td>\n",
              "      <td>1.0</td>\n",
              "      <td>13.0</td>\n",
              "      <td>10.0</td>\n",
              "      <td>0.0</td>\n",
              "      <td>0.0</td>\n",
              "      <td>10.0</td>\n",
              "      <td>0.0</td>\n",
              "      <td>0.0</td>\n",
              "      <td>1.0</td>\n",
              "      <td>3.0</td>\n",
              "      <td>0.0</td>\n",
              "    </tr>\n",
              "    <tr>\n",
              "      <th>2013-06-01 00:00:01</th>\n",
              "      <td>9.0</td>\n",
              "      <td>0.0</td>\n",
              "      <td>1.0</td>\n",
              "      <td>1.0</td>\n",
              "      <td>266.0</td>\n",
              "      <td>60.0</td>\n",
              "      <td>47.0</td>\n",
              "      <td>6.0</td>\n",
              "      <td>1.0</td>\n",
              "      <td>13.0</td>\n",
              "      <td>10.0</td>\n",
              "      <td>0.0</td>\n",
              "      <td>0.0</td>\n",
              "      <td>10.0</td>\n",
              "      <td>0.0</td>\n",
              "      <td>0.0</td>\n",
              "      <td>1.0</td>\n",
              "      <td>3.0</td>\n",
              "      <td>0.0</td>\n",
              "    </tr>\n",
              "    <tr>\n",
              "      <th>2013-06-01 00:00:02</th>\n",
              "      <td>9.0</td>\n",
              "      <td>0.0</td>\n",
              "      <td>1.0</td>\n",
              "      <td>1.0</td>\n",
              "      <td>266.0</td>\n",
              "      <td>60.0</td>\n",
              "      <td>47.0</td>\n",
              "      <td>6.0</td>\n",
              "      <td>1.0</td>\n",
              "      <td>13.0</td>\n",
              "      <td>10.0</td>\n",
              "      <td>0.0</td>\n",
              "      <td>0.0</td>\n",
              "      <td>10.0</td>\n",
              "      <td>0.0</td>\n",
              "      <td>0.0</td>\n",
              "      <td>1.0</td>\n",
              "      <td>3.0</td>\n",
              "      <td>0.0</td>\n",
              "    </tr>\n",
              "    <tr>\n",
              "      <th>2013-06-01 00:00:06</th>\n",
              "      <td>9.0</td>\n",
              "      <td>0.0</td>\n",
              "      <td>1.0</td>\n",
              "      <td>1.0</td>\n",
              "      <td>275.0</td>\n",
              "      <td>60.0</td>\n",
              "      <td>53.0</td>\n",
              "      <td>6.0</td>\n",
              "      <td>1.0</td>\n",
              "      <td>14.0</td>\n",
              "      <td>10.0</td>\n",
              "      <td>0.0</td>\n",
              "      <td>0.0</td>\n",
              "      <td>10.0</td>\n",
              "      <td>0.0</td>\n",
              "      <td>0.0</td>\n",
              "      <td>1.0</td>\n",
              "      <td>3.0</td>\n",
              "      <td>0.0</td>\n",
              "    </tr>\n",
              "    <tr>\n",
              "      <th>2013-06-01 00:00:07</th>\n",
              "      <td>9.0</td>\n",
              "      <td>0.0</td>\n",
              "      <td>1.0</td>\n",
              "      <td>1.0</td>\n",
              "      <td>275.0</td>\n",
              "      <td>60.0</td>\n",
              "      <td>53.0</td>\n",
              "      <td>7.0</td>\n",
              "      <td>1.0</td>\n",
              "      <td>14.0</td>\n",
              "      <td>10.0</td>\n",
              "      <td>0.0</td>\n",
              "      <td>0.0</td>\n",
              "      <td>10.0</td>\n",
              "      <td>0.0</td>\n",
              "      <td>0.0</td>\n",
              "      <td>1.0</td>\n",
              "      <td>3.0</td>\n",
              "      <td>0.0</td>\n",
              "    </tr>\n",
              "  </tbody>\n",
              "</table>\n",
              "</div>"
            ],
            "text/plain": [
              "                     modem  cooker  ...  washing_machine  dish_washer\n",
              "time                                ...                              \n",
              "2013-06-01 00:00:00    9.0     0.0  ...              3.0          0.0\n",
              "2013-06-01 00:00:01    9.0     0.0  ...              3.0          0.0\n",
              "2013-06-01 00:00:02    9.0     0.0  ...              3.0          0.0\n",
              "2013-06-01 00:00:06    9.0     0.0  ...              3.0          0.0\n",
              "2013-06-01 00:00:07    9.0     0.0  ...              3.0          0.0\n",
              "\n",
              "[5 rows x 19 columns]"
            ]
          },
          "metadata": {
            "tags": []
          },
          "execution_count": 8
        }
      ]
    },
    {
      "cell_type": "markdown",
      "metadata": {
        "id": "A5xmDRObmLwi",
        "colab_type": "text"
      },
      "source": [
        "# Resample \n",
        "Now we'll resample so the sample rate is constant.  Let's first look at some of the current sampling times."
      ]
    },
    {
      "cell_type": "code",
      "metadata": {
        "id": "qn6lCvowlrEi",
        "colab_type": "code",
        "colab": {
          "base_uri": "https://localhost:8080/",
          "height": 593
        },
        "outputId": "1395e3a5-0d5e-4679-dc86-77b952778b1d"
      },
      "source": [
        "# @title Time Between Readings\n",
        "energy_data.index.to_series().diff().head(30)"
      ],
      "execution_count": 54,
      "outputs": [
        {
          "output_type": "execute_result",
          "data": {
            "text/plain": [
              "time\n",
              "2013-06-01 00:00:00        NaT\n",
              "2013-06-01 00:00:01   00:00:01\n",
              "2013-06-01 00:00:02   00:00:01\n",
              "2013-06-01 00:00:06   00:00:04\n",
              "2013-06-01 00:00:07   00:00:01\n",
              "2013-06-01 00:00:08   00:00:01\n",
              "2013-06-01 00:00:12   00:00:04\n",
              "2013-06-01 00:00:13   00:00:01\n",
              "2013-06-01 00:00:14   00:00:01\n",
              "2013-06-01 00:00:18   00:00:04\n",
              "2013-06-01 00:00:19   00:00:01\n",
              "2013-06-01 00:00:20   00:00:01\n",
              "2013-06-01 00:00:25   00:00:05\n",
              "2013-06-01 00:00:26   00:00:01\n",
              "2013-06-01 00:00:27   00:00:01\n",
              "2013-06-01 00:00:31   00:00:04\n",
              "2013-06-01 00:00:32   00:00:01\n",
              "2013-06-01 00:00:33   00:00:01\n",
              "2013-06-01 00:00:37   00:00:04\n",
              "2013-06-01 00:00:38   00:00:01\n",
              "2013-06-01 00:00:39   00:00:01\n",
              "2013-06-01 00:00:43   00:00:04\n",
              "2013-06-01 00:00:44   00:00:01\n",
              "2013-06-01 00:00:45   00:00:01\n",
              "2013-06-01 00:00:50   00:00:05\n",
              "2013-06-01 00:00:51   00:00:01\n",
              "2013-06-01 00:00:56   00:00:05\n",
              "2013-06-01 00:00:57   00:00:01\n",
              "2013-06-01 00:00:58   00:00:01\n",
              "2013-06-01 00:01:02   00:00:04\n",
              "Name: time, dtype: timedelta64[ns]"
            ]
          },
          "metadata": {
            "tags": []
          },
          "execution_count": 54
        }
      ]
    },
    {
      "cell_type": "markdown",
      "metadata": {
        "id": "Go2JthK2mhRK",
        "colab_type": "text"
      },
      "source": [
        "The readings point to an attempt to sample every second.  However - as to be expected - sometimes the readings were not able to record every second.  The blog resampled to a frequency of 6 seconds.  Why?  It made more sense to resample to a frequence of 5 seconds.  "
      ]
    },
    {
      "cell_type": "code",
      "metadata": {
        "id": "MD9SJOBdmFnJ",
        "colab_type": "code",
        "colab": {
          "base_uri": "https://localhost:8080/",
          "height": 642
        },
        "outputId": "d9e4d9d8-b30e-4f7b-a391-180572e5de2c"
      },
      "source": [
        "energy_data = energy_data.asfreq(freq='5S', method='ffill')\n",
        "print(energy_data.shape)\n",
        "print(energy_data.describe())\n",
        "energy_data.head()"
      ],
      "execution_count": 10,
      "outputs": [
        {
          "output_type": "stream",
          "text": [
            "(2108160, 19)\n",
            "              modem        cooker  ...  washing_machine   dish_washer\n",
            "count  2.108160e+06  2.108160e+06  ...     2.108160e+06  2.108160e+06\n",
            "mean   8.993621e+00  1.806495e-01  ...     1.021123e+01  3.349499e+01\n",
            "std    6.625698e-01  5.022085e+00  ...     1.103023e+02  2.505962e+02\n",
            "min    0.000000e+00  0.000000e+00  ...     0.000000e+00  0.000000e+00\n",
            "25%    9.000000e+00  0.000000e+00  ...     3.000000e+00  1.000000e+00\n",
            "50%    9.000000e+00  0.000000e+00  ...     4.000000e+00  1.000000e+00\n",
            "75%    9.000000e+00  0.000000e+00  ...     4.000000e+00  1.000000e+00\n",
            "max    2.650000e+02  3.532000e+03  ...     2.974000e+03  3.955000e+03\n",
            "\n",
            "[8 rows x 19 columns]\n"
          ],
          "name": "stdout"
        },
        {
          "output_type": "execute_result",
          "data": {
            "text/html": [
              "<div>\n",
              "<style scoped>\n",
              "    .dataframe tbody tr th:only-of-type {\n",
              "        vertical-align: middle;\n",
              "    }\n",
              "\n",
              "    .dataframe tbody tr th {\n",
              "        vertical-align: top;\n",
              "    }\n",
              "\n",
              "    .dataframe thead th {\n",
              "        text-align: right;\n",
              "    }\n",
              "</style>\n",
              "<table border=\"1\" class=\"dataframe\">\n",
              "  <thead>\n",
              "    <tr style=\"text-align: right;\">\n",
              "      <th></th>\n",
              "      <th>modem</th>\n",
              "      <th>cooker</th>\n",
              "      <th>rice_cooker</th>\n",
              "      <th>kettle</th>\n",
              "      <th>aggregate</th>\n",
              "      <th>monitor</th>\n",
              "      <th>laptop</th>\n",
              "      <th>router</th>\n",
              "      <th>server_hdd</th>\n",
              "      <th>server</th>\n",
              "      <th>speakers</th>\n",
              "      <th>playstation</th>\n",
              "      <th>toaster</th>\n",
              "      <th>fridge</th>\n",
              "      <th>microwave</th>\n",
              "      <th>laptop2</th>\n",
              "      <th>running_machine</th>\n",
              "      <th>washing_machine</th>\n",
              "      <th>dish_washer</th>\n",
              "    </tr>\n",
              "    <tr>\n",
              "      <th>time</th>\n",
              "      <th></th>\n",
              "      <th></th>\n",
              "      <th></th>\n",
              "      <th></th>\n",
              "      <th></th>\n",
              "      <th></th>\n",
              "      <th></th>\n",
              "      <th></th>\n",
              "      <th></th>\n",
              "      <th></th>\n",
              "      <th></th>\n",
              "      <th></th>\n",
              "      <th></th>\n",
              "      <th></th>\n",
              "      <th></th>\n",
              "      <th></th>\n",
              "      <th></th>\n",
              "      <th></th>\n",
              "      <th></th>\n",
              "    </tr>\n",
              "  </thead>\n",
              "  <tbody>\n",
              "    <tr>\n",
              "      <th>2013-06-01 00:00:00</th>\n",
              "      <td>9.0</td>\n",
              "      <td>0.0</td>\n",
              "      <td>1.0</td>\n",
              "      <td>1.0</td>\n",
              "      <td>266.0</td>\n",
              "      <td>60.0</td>\n",
              "      <td>47.0</td>\n",
              "      <td>6.0</td>\n",
              "      <td>1.0</td>\n",
              "      <td>13.0</td>\n",
              "      <td>10.0</td>\n",
              "      <td>0.0</td>\n",
              "      <td>0.0</td>\n",
              "      <td>10.0</td>\n",
              "      <td>0.0</td>\n",
              "      <td>0.0</td>\n",
              "      <td>1.0</td>\n",
              "      <td>3.0</td>\n",
              "      <td>0.0</td>\n",
              "    </tr>\n",
              "    <tr>\n",
              "      <th>2013-06-01 00:00:05</th>\n",
              "      <td>9.0</td>\n",
              "      <td>0.0</td>\n",
              "      <td>1.0</td>\n",
              "      <td>1.0</td>\n",
              "      <td>266.0</td>\n",
              "      <td>60.0</td>\n",
              "      <td>47.0</td>\n",
              "      <td>6.0</td>\n",
              "      <td>1.0</td>\n",
              "      <td>13.0</td>\n",
              "      <td>10.0</td>\n",
              "      <td>0.0</td>\n",
              "      <td>0.0</td>\n",
              "      <td>10.0</td>\n",
              "      <td>0.0</td>\n",
              "      <td>0.0</td>\n",
              "      <td>1.0</td>\n",
              "      <td>3.0</td>\n",
              "      <td>0.0</td>\n",
              "    </tr>\n",
              "    <tr>\n",
              "      <th>2013-06-01 00:00:10</th>\n",
              "      <td>9.0</td>\n",
              "      <td>0.0</td>\n",
              "      <td>1.0</td>\n",
              "      <td>1.0</td>\n",
              "      <td>275.0</td>\n",
              "      <td>60.0</td>\n",
              "      <td>53.0</td>\n",
              "      <td>7.0</td>\n",
              "      <td>1.0</td>\n",
              "      <td>14.0</td>\n",
              "      <td>10.0</td>\n",
              "      <td>0.0</td>\n",
              "      <td>0.0</td>\n",
              "      <td>10.0</td>\n",
              "      <td>0.0</td>\n",
              "      <td>0.0</td>\n",
              "      <td>1.0</td>\n",
              "      <td>3.0</td>\n",
              "      <td>0.0</td>\n",
              "    </tr>\n",
              "    <tr>\n",
              "      <th>2013-06-01 00:00:15</th>\n",
              "      <td>9.0</td>\n",
              "      <td>0.0</td>\n",
              "      <td>1.0</td>\n",
              "      <td>1.0</td>\n",
              "      <td>262.0</td>\n",
              "      <td>60.0</td>\n",
              "      <td>50.0</td>\n",
              "      <td>7.0</td>\n",
              "      <td>1.0</td>\n",
              "      <td>14.0</td>\n",
              "      <td>10.0</td>\n",
              "      <td>1.0</td>\n",
              "      <td>0.0</td>\n",
              "      <td>10.0</td>\n",
              "      <td>0.0</td>\n",
              "      <td>0.0</td>\n",
              "      <td>1.0</td>\n",
              "      <td>3.0</td>\n",
              "      <td>1.0</td>\n",
              "    </tr>\n",
              "    <tr>\n",
              "      <th>2013-06-01 00:00:20</th>\n",
              "      <td>9.0</td>\n",
              "      <td>0.0</td>\n",
              "      <td>1.0</td>\n",
              "      <td>1.0</td>\n",
              "      <td>266.0</td>\n",
              "      <td>60.0</td>\n",
              "      <td>52.0</td>\n",
              "      <td>6.0</td>\n",
              "      <td>1.0</td>\n",
              "      <td>14.0</td>\n",
              "      <td>10.0</td>\n",
              "      <td>1.0</td>\n",
              "      <td>0.0</td>\n",
              "      <td>10.0</td>\n",
              "      <td>0.0</td>\n",
              "      <td>0.0</td>\n",
              "      <td>1.0</td>\n",
              "      <td>3.0</td>\n",
              "      <td>1.0</td>\n",
              "    </tr>\n",
              "  </tbody>\n",
              "</table>\n",
              "</div>"
            ],
            "text/plain": [
              "                     modem  cooker  ...  washing_machine  dish_washer\n",
              "time                                ...                              \n",
              "2013-06-01 00:00:00    9.0     0.0  ...              3.0          0.0\n",
              "2013-06-01 00:00:05    9.0     0.0  ...              3.0          0.0\n",
              "2013-06-01 00:00:10    9.0     0.0  ...              3.0          0.0\n",
              "2013-06-01 00:00:15    9.0     0.0  ...              3.0          1.0\n",
              "2013-06-01 00:00:20    9.0     0.0  ...              3.0          1.0\n",
              "\n",
              "[5 rows x 19 columns]"
            ]
          },
          "metadata": {
            "tags": []
          },
          "execution_count": 10
        }
      ]
    },
    {
      "cell_type": "markdown",
      "metadata": {
        "id": "kupSVyIEpcNh",
        "colab_type": "text"
      },
      "source": [
        "# Change the Datatype\n",
        "The power values are floats with no decimal resolution."
      ]
    },
    {
      "cell_type": "code",
      "metadata": {
        "id": "TjthDArwnI31",
        "colab_type": "code",
        "colab": {
          "base_uri": "https://localhost:8080/",
          "height": 467
        },
        "outputId": "cb1a28aa-9499-4208-c6d1-016d61f68be5"
      },
      "source": [
        "energy_data.info()"
      ],
      "execution_count": 11,
      "outputs": [
        {
          "output_type": "stream",
          "text": [
            "<class 'pandas.core.frame.DataFrame'>\n",
            "DatetimeIndex: 2108160 entries, 2013-06-01 00:00:00 to 2013-09-30 23:59:55\n",
            "Freq: 5S\n",
            "Data columns (total 19 columns):\n",
            "modem              float64\n",
            "cooker             float64\n",
            "rice_cooker        float64\n",
            "kettle             float64\n",
            "aggregate          float64\n",
            "monitor            float64\n",
            "laptop             float64\n",
            "router             float64\n",
            "server_hdd         float64\n",
            "server             float64\n",
            "speakers           float64\n",
            "playstation        float64\n",
            "toaster            float64\n",
            "fridge             float64\n",
            "microwave          float64\n",
            "laptop2            float64\n",
            "running_machine    float64\n",
            "washing_machine    float64\n",
            "dish_washer        float64\n",
            "dtypes: float64(19)\n",
            "memory usage: 321.7 MB\n"
          ],
          "name": "stdout"
        }
      ]
    },
    {
      "cell_type": "markdown",
      "metadata": {
        "id": "hK7AvCYhpoyq",
        "colab_type": "text"
      },
      "source": [
        "These get reset to ints."
      ]
    },
    {
      "cell_type": "code",
      "metadata": {
        "id": "xo5poFBVpmj0",
        "colab_type": "code",
        "colab": {
          "base_uri": "https://localhost:8080/",
          "height": 467
        },
        "outputId": "35eb719a-1927-45cb-8e62-b8d02fa0c3b9"
      },
      "source": [
        "energy_data = energy_data.astype(int)\n",
        "energy_data.info()"
      ],
      "execution_count": 12,
      "outputs": [
        {
          "output_type": "stream",
          "text": [
            "<class 'pandas.core.frame.DataFrame'>\n",
            "DatetimeIndex: 2108160 entries, 2013-06-01 00:00:00 to 2013-09-30 23:59:55\n",
            "Freq: 5S\n",
            "Data columns (total 19 columns):\n",
            "modem              int64\n",
            "cooker             int64\n",
            "rice_cooker        int64\n",
            "kettle             int64\n",
            "aggregate          int64\n",
            "monitor            int64\n",
            "laptop             int64\n",
            "router             int64\n",
            "server_hdd         int64\n",
            "server             int64\n",
            "speakers           int64\n",
            "playstation        int64\n",
            "toaster            int64\n",
            "fridge             int64\n",
            "microwave          int64\n",
            "laptop2            int64\n",
            "running_machine    int64\n",
            "washing_machine    int64\n",
            "dish_washer        int64\n",
            "dtypes: int64(19)\n",
            "memory usage: 321.7 MB\n"
          ],
          "name": "stdout"
        }
      ]
    },
    {
      "cell_type": "markdown",
      "metadata": {
        "id": "rhVcO7Y75ooM",
        "colab_type": "text"
      },
      "source": [
        "# Drop the Aggregate Column\n",
        "The dataset has a column that is an aggregate of power readings.  The blog post drops this.  Instead of the aggregate, the values of the columns of devices are summed and used as the gross.\n",
        "\n",
        "For example, let's look at the first row."
      ]
    },
    {
      "cell_type": "code",
      "metadata": {
        "id": "JuHNE__z5-Cs",
        "colab_type": "code",
        "colab": {
          "base_uri": "https://localhost:8080/",
          "height": 147
        },
        "outputId": "6bdff0e8-a88e-42be-f865-50d42570c8f9"
      },
      "source": [
        "first_row = energy_data[:1]\n",
        "first_row"
      ],
      "execution_count": 13,
      "outputs": [
        {
          "output_type": "execute_result",
          "data": {
            "text/html": [
              "<div>\n",
              "<style scoped>\n",
              "    .dataframe tbody tr th:only-of-type {\n",
              "        vertical-align: middle;\n",
              "    }\n",
              "\n",
              "    .dataframe tbody tr th {\n",
              "        vertical-align: top;\n",
              "    }\n",
              "\n",
              "    .dataframe thead th {\n",
              "        text-align: right;\n",
              "    }\n",
              "</style>\n",
              "<table border=\"1\" class=\"dataframe\">\n",
              "  <thead>\n",
              "    <tr style=\"text-align: right;\">\n",
              "      <th></th>\n",
              "      <th>modem</th>\n",
              "      <th>cooker</th>\n",
              "      <th>rice_cooker</th>\n",
              "      <th>kettle</th>\n",
              "      <th>aggregate</th>\n",
              "      <th>monitor</th>\n",
              "      <th>laptop</th>\n",
              "      <th>router</th>\n",
              "      <th>server_hdd</th>\n",
              "      <th>server</th>\n",
              "      <th>speakers</th>\n",
              "      <th>playstation</th>\n",
              "      <th>toaster</th>\n",
              "      <th>fridge</th>\n",
              "      <th>microwave</th>\n",
              "      <th>laptop2</th>\n",
              "      <th>running_machine</th>\n",
              "      <th>washing_machine</th>\n",
              "      <th>dish_washer</th>\n",
              "    </tr>\n",
              "    <tr>\n",
              "      <th>time</th>\n",
              "      <th></th>\n",
              "      <th></th>\n",
              "      <th></th>\n",
              "      <th></th>\n",
              "      <th></th>\n",
              "      <th></th>\n",
              "      <th></th>\n",
              "      <th></th>\n",
              "      <th></th>\n",
              "      <th></th>\n",
              "      <th></th>\n",
              "      <th></th>\n",
              "      <th></th>\n",
              "      <th></th>\n",
              "      <th></th>\n",
              "      <th></th>\n",
              "      <th></th>\n",
              "      <th></th>\n",
              "      <th></th>\n",
              "    </tr>\n",
              "  </thead>\n",
              "  <tbody>\n",
              "    <tr>\n",
              "      <th>2013-06-01</th>\n",
              "      <td>9</td>\n",
              "      <td>0</td>\n",
              "      <td>1</td>\n",
              "      <td>1</td>\n",
              "      <td>266</td>\n",
              "      <td>60</td>\n",
              "      <td>47</td>\n",
              "      <td>6</td>\n",
              "      <td>1</td>\n",
              "      <td>13</td>\n",
              "      <td>10</td>\n",
              "      <td>0</td>\n",
              "      <td>0</td>\n",
              "      <td>10</td>\n",
              "      <td>0</td>\n",
              "      <td>0</td>\n",
              "      <td>1</td>\n",
              "      <td>3</td>\n",
              "      <td>0</td>\n",
              "    </tr>\n",
              "  </tbody>\n",
              "</table>\n",
              "</div>"
            ],
            "text/plain": [
              "            modem  cooker  ...  washing_machine  dish_washer\n",
              "time                       ...                              \n",
              "2013-06-01      9       0  ...                3            0\n",
              "\n",
              "[1 rows x 19 columns]"
            ]
          },
          "metadata": {
            "tags": []
          },
          "execution_count": 13
        }
      ]
    },
    {
      "cell_type": "markdown",
      "metadata": {
        "id": "TRBrKNTH6Nn8",
        "colab_type": "text"
      },
      "source": [
        "We'll drop the aggregate column and then sum the values of the columns."
      ]
    },
    {
      "cell_type": "code",
      "metadata": {
        "id": "Hdjj-aso6TDA",
        "colab_type": "code",
        "colab": {
          "base_uri": "https://localhost:8080/",
          "height": 255
        },
        "outputId": "f790de26-9cd7-4f9c-f708-bcbdadf8f592"
      },
      "source": [
        "first_row.drop(columns=['aggregate'])\n",
        "first_row['gross'] = first_row.sum(axis=1)\n",
        "first_row"
      ],
      "execution_count": 14,
      "outputs": [
        {
          "output_type": "stream",
          "text": [
            "/usr/local/lib/python3.6/dist-packages/ipykernel_launcher.py:2: SettingWithCopyWarning: \n",
            "A value is trying to be set on a copy of a slice from a DataFrame.\n",
            "Try using .loc[row_indexer,col_indexer] = value instead\n",
            "\n",
            "See the caveats in the documentation: http://pandas.pydata.org/pandas-docs/stable/user_guide/indexing.html#returning-a-view-versus-a-copy\n",
            "  \n"
          ],
          "name": "stderr"
        },
        {
          "output_type": "execute_result",
          "data": {
            "text/html": [
              "<div>\n",
              "<style scoped>\n",
              "    .dataframe tbody tr th:only-of-type {\n",
              "        vertical-align: middle;\n",
              "    }\n",
              "\n",
              "    .dataframe tbody tr th {\n",
              "        vertical-align: top;\n",
              "    }\n",
              "\n",
              "    .dataframe thead th {\n",
              "        text-align: right;\n",
              "    }\n",
              "</style>\n",
              "<table border=\"1\" class=\"dataframe\">\n",
              "  <thead>\n",
              "    <tr style=\"text-align: right;\">\n",
              "      <th></th>\n",
              "      <th>modem</th>\n",
              "      <th>cooker</th>\n",
              "      <th>rice_cooker</th>\n",
              "      <th>kettle</th>\n",
              "      <th>aggregate</th>\n",
              "      <th>monitor</th>\n",
              "      <th>laptop</th>\n",
              "      <th>router</th>\n",
              "      <th>server_hdd</th>\n",
              "      <th>server</th>\n",
              "      <th>speakers</th>\n",
              "      <th>playstation</th>\n",
              "      <th>toaster</th>\n",
              "      <th>fridge</th>\n",
              "      <th>microwave</th>\n",
              "      <th>laptop2</th>\n",
              "      <th>running_machine</th>\n",
              "      <th>washing_machine</th>\n",
              "      <th>dish_washer</th>\n",
              "      <th>gross</th>\n",
              "    </tr>\n",
              "    <tr>\n",
              "      <th>time</th>\n",
              "      <th></th>\n",
              "      <th></th>\n",
              "      <th></th>\n",
              "      <th></th>\n",
              "      <th></th>\n",
              "      <th></th>\n",
              "      <th></th>\n",
              "      <th></th>\n",
              "      <th></th>\n",
              "      <th></th>\n",
              "      <th></th>\n",
              "      <th></th>\n",
              "      <th></th>\n",
              "      <th></th>\n",
              "      <th></th>\n",
              "      <th></th>\n",
              "      <th></th>\n",
              "      <th></th>\n",
              "      <th></th>\n",
              "      <th></th>\n",
              "    </tr>\n",
              "  </thead>\n",
              "  <tbody>\n",
              "    <tr>\n",
              "      <th>2013-06-01</th>\n",
              "      <td>9</td>\n",
              "      <td>0</td>\n",
              "      <td>1</td>\n",
              "      <td>1</td>\n",
              "      <td>266</td>\n",
              "      <td>60</td>\n",
              "      <td>47</td>\n",
              "      <td>6</td>\n",
              "      <td>1</td>\n",
              "      <td>13</td>\n",
              "      <td>10</td>\n",
              "      <td>0</td>\n",
              "      <td>0</td>\n",
              "      <td>10</td>\n",
              "      <td>0</td>\n",
              "      <td>0</td>\n",
              "      <td>1</td>\n",
              "      <td>3</td>\n",
              "      <td>0</td>\n",
              "      <td>428</td>\n",
              "    </tr>\n",
              "  </tbody>\n",
              "</table>\n",
              "</div>"
            ],
            "text/plain": [
              "            modem  cooker  rice_cooker  ...  washing_machine  dish_washer  gross\n",
              "time                                    ...                                     \n",
              "2013-06-01      9       0            1  ...                3            0    428\n",
              "\n",
              "[1 rows x 20 columns]"
            ]
          },
          "metadata": {
            "tags": []
          },
          "execution_count": 14
        }
      ]
    },
    {
      "cell_type": "markdown",
      "metadata": {
        "id": "iU3AIFTd6g0Y",
        "colab_type": "text"
      },
      "source": [
        "The gross column was added.  Summing all the columns in a row means axis=1 is needed as a parameter.\n",
        "\n",
        "Now we'll do this to the entire dataset."
      ]
    },
    {
      "cell_type": "markdown",
      "metadata": {
        "id": "MpiEM8kn6uCb",
        "colab_type": "text"
      },
      "source": [
        ""
      ]
    },
    {
      "cell_type": "code",
      "metadata": {
        "id": "l6jeCNQypvMo",
        "colab_type": "code",
        "colab": {
          "base_uri": "https://localhost:8080/",
          "height": 426
        },
        "outputId": "fd3ff973-20eb-4bb2-c5df-8385d607626c"
      },
      "source": [
        "energy_data.drop(columns=['aggregate'],inplace=True)\n",
        "energy_data['gross'] = energy_data.sum(axis=1)\n",
        "energy_data.head()"
      ],
      "execution_count": 15,
      "outputs": [
        {
          "output_type": "execute_result",
          "data": {
            "text/html": [
              "<div>\n",
              "<style scoped>\n",
              "    .dataframe tbody tr th:only-of-type {\n",
              "        vertical-align: middle;\n",
              "    }\n",
              "\n",
              "    .dataframe tbody tr th {\n",
              "        vertical-align: top;\n",
              "    }\n",
              "\n",
              "    .dataframe thead th {\n",
              "        text-align: right;\n",
              "    }\n",
              "</style>\n",
              "<table border=\"1\" class=\"dataframe\">\n",
              "  <thead>\n",
              "    <tr style=\"text-align: right;\">\n",
              "      <th></th>\n",
              "      <th>modem</th>\n",
              "      <th>cooker</th>\n",
              "      <th>rice_cooker</th>\n",
              "      <th>kettle</th>\n",
              "      <th>monitor</th>\n",
              "      <th>laptop</th>\n",
              "      <th>router</th>\n",
              "      <th>server_hdd</th>\n",
              "      <th>server</th>\n",
              "      <th>speakers</th>\n",
              "      <th>playstation</th>\n",
              "      <th>toaster</th>\n",
              "      <th>fridge</th>\n",
              "      <th>microwave</th>\n",
              "      <th>laptop2</th>\n",
              "      <th>running_machine</th>\n",
              "      <th>washing_machine</th>\n",
              "      <th>dish_washer</th>\n",
              "      <th>gross</th>\n",
              "    </tr>\n",
              "    <tr>\n",
              "      <th>time</th>\n",
              "      <th></th>\n",
              "      <th></th>\n",
              "      <th></th>\n",
              "      <th></th>\n",
              "      <th></th>\n",
              "      <th></th>\n",
              "      <th></th>\n",
              "      <th></th>\n",
              "      <th></th>\n",
              "      <th></th>\n",
              "      <th></th>\n",
              "      <th></th>\n",
              "      <th></th>\n",
              "      <th></th>\n",
              "      <th></th>\n",
              "      <th></th>\n",
              "      <th></th>\n",
              "      <th></th>\n",
              "      <th></th>\n",
              "    </tr>\n",
              "  </thead>\n",
              "  <tbody>\n",
              "    <tr>\n",
              "      <th>2013-06-01 00:00:00</th>\n",
              "      <td>9</td>\n",
              "      <td>0</td>\n",
              "      <td>1</td>\n",
              "      <td>1</td>\n",
              "      <td>60</td>\n",
              "      <td>47</td>\n",
              "      <td>6</td>\n",
              "      <td>1</td>\n",
              "      <td>13</td>\n",
              "      <td>10</td>\n",
              "      <td>0</td>\n",
              "      <td>0</td>\n",
              "      <td>10</td>\n",
              "      <td>0</td>\n",
              "      <td>0</td>\n",
              "      <td>1</td>\n",
              "      <td>3</td>\n",
              "      <td>0</td>\n",
              "      <td>162</td>\n",
              "    </tr>\n",
              "    <tr>\n",
              "      <th>2013-06-01 00:00:05</th>\n",
              "      <td>9</td>\n",
              "      <td>0</td>\n",
              "      <td>1</td>\n",
              "      <td>1</td>\n",
              "      <td>60</td>\n",
              "      <td>47</td>\n",
              "      <td>6</td>\n",
              "      <td>1</td>\n",
              "      <td>13</td>\n",
              "      <td>10</td>\n",
              "      <td>0</td>\n",
              "      <td>0</td>\n",
              "      <td>10</td>\n",
              "      <td>0</td>\n",
              "      <td>0</td>\n",
              "      <td>1</td>\n",
              "      <td>3</td>\n",
              "      <td>0</td>\n",
              "      <td>162</td>\n",
              "    </tr>\n",
              "    <tr>\n",
              "      <th>2013-06-01 00:00:10</th>\n",
              "      <td>9</td>\n",
              "      <td>0</td>\n",
              "      <td>1</td>\n",
              "      <td>1</td>\n",
              "      <td>60</td>\n",
              "      <td>53</td>\n",
              "      <td>7</td>\n",
              "      <td>1</td>\n",
              "      <td>14</td>\n",
              "      <td>10</td>\n",
              "      <td>0</td>\n",
              "      <td>0</td>\n",
              "      <td>10</td>\n",
              "      <td>0</td>\n",
              "      <td>0</td>\n",
              "      <td>1</td>\n",
              "      <td>3</td>\n",
              "      <td>0</td>\n",
              "      <td>170</td>\n",
              "    </tr>\n",
              "    <tr>\n",
              "      <th>2013-06-01 00:00:15</th>\n",
              "      <td>9</td>\n",
              "      <td>0</td>\n",
              "      <td>1</td>\n",
              "      <td>1</td>\n",
              "      <td>60</td>\n",
              "      <td>50</td>\n",
              "      <td>7</td>\n",
              "      <td>1</td>\n",
              "      <td>14</td>\n",
              "      <td>10</td>\n",
              "      <td>1</td>\n",
              "      <td>0</td>\n",
              "      <td>10</td>\n",
              "      <td>0</td>\n",
              "      <td>0</td>\n",
              "      <td>1</td>\n",
              "      <td>3</td>\n",
              "      <td>1</td>\n",
              "      <td>169</td>\n",
              "    </tr>\n",
              "    <tr>\n",
              "      <th>2013-06-01 00:00:20</th>\n",
              "      <td>9</td>\n",
              "      <td>0</td>\n",
              "      <td>1</td>\n",
              "      <td>1</td>\n",
              "      <td>60</td>\n",
              "      <td>52</td>\n",
              "      <td>6</td>\n",
              "      <td>1</td>\n",
              "      <td>14</td>\n",
              "      <td>10</td>\n",
              "      <td>1</td>\n",
              "      <td>0</td>\n",
              "      <td>10</td>\n",
              "      <td>0</td>\n",
              "      <td>0</td>\n",
              "      <td>1</td>\n",
              "      <td>3</td>\n",
              "      <td>1</td>\n",
              "      <td>170</td>\n",
              "    </tr>\n",
              "  </tbody>\n",
              "</table>\n",
              "</div>"
            ],
            "text/plain": [
              "                     modem  cooker  ...  dish_washer  gross\n",
              "time                                ...                    \n",
              "2013-06-01 00:00:00      9       0  ...            0    162\n",
              "2013-06-01 00:00:05      9       0  ...            0    162\n",
              "2013-06-01 00:00:10      9       0  ...            0    170\n",
              "2013-06-01 00:00:15      9       0  ...            1    169\n",
              "2013-06-01 00:00:20      9       0  ...            1    170\n",
              "\n",
              "[5 rows x 19 columns]"
            ]
          },
          "metadata": {
            "tags": []
          },
          "execution_count": 15
        }
      ]
    },
    {
      "cell_type": "markdown",
      "metadata": {
        "id": "85FFkdO562L7",
        "colab_type": "text"
      },
      "source": [
        "Notice how the value for gross in the first row of energy_data is the same as the value calculated for first_row."
      ]
    },
    {
      "cell_type": "markdown",
      "metadata": {
        "id": "bnPrTL-57K6l",
        "colab_type": "text"
      },
      "source": [
        "# Look at the Selected Appliances\n",
        "Recall the blog post states: _Based on a data exploration study shown below, we selected eight appliances out of the original 18 items as our target appliances: a treadmill, washing machine, dishwasher, microwave, toaster, electric kettle, rice cooker and “cooker,” a.k.a., electric stovetop._"
      ]
    },
    {
      "cell_type": "code",
      "metadata": {
        "id": "eC7c_P_17WxA",
        "colab_type": "code",
        "colab": {
          "base_uri": "https://localhost:8080/",
          "height": 35
        },
        "outputId": "755ca0da-6713-4c88-feb3-f70954a89862"
      },
      "source": [
        "appliance_cols = ['running_machine', 'washing_machine', 'dish_washer',\n",
        "                  'microwave', 'toaster', 'kettle', 'rice_cooker', 'cooker']\n",
        "print(appliance_cols)"
      ],
      "execution_count": 16,
      "outputs": [
        {
          "output_type": "stream",
          "text": [
            "['running_machine', 'washing_machine', 'dish_washer', 'microwave', 'toaster', 'kettle', 'rice_cooker', 'cooker']\n"
          ],
          "name": "stdout"
        }
      ]
    },
    {
      "cell_type": "markdown",
      "metadata": {
        "id": "OKd54ca-7p7X",
        "colab_type": "text"
      },
      "source": [
        "# Sum Power Readings of Selected Appliances\n",
        "The blog post goes on to sum the power readings of the selected appliances to compare with the gross power readings calculated in an earlier step."
      ]
    },
    {
      "cell_type": "code",
      "metadata": {
        "id": "ChMItorG7XpC",
        "colab_type": "code",
        "colab": {
          "base_uri": "https://localhost:8080/",
          "height": 426
        },
        "outputId": "005e6dd5-6c61-4ee5-9614-dd1df7cb68fd"
      },
      "source": [
        "energy_data['app_sum'] = energy_data[appliance_cols].sum(axis=1)\n",
        "energy_data.head()"
      ],
      "execution_count": 17,
      "outputs": [
        {
          "output_type": "execute_result",
          "data": {
            "text/html": [
              "<div>\n",
              "<style scoped>\n",
              "    .dataframe tbody tr th:only-of-type {\n",
              "        vertical-align: middle;\n",
              "    }\n",
              "\n",
              "    .dataframe tbody tr th {\n",
              "        vertical-align: top;\n",
              "    }\n",
              "\n",
              "    .dataframe thead th {\n",
              "        text-align: right;\n",
              "    }\n",
              "</style>\n",
              "<table border=\"1\" class=\"dataframe\">\n",
              "  <thead>\n",
              "    <tr style=\"text-align: right;\">\n",
              "      <th></th>\n",
              "      <th>modem</th>\n",
              "      <th>cooker</th>\n",
              "      <th>rice_cooker</th>\n",
              "      <th>kettle</th>\n",
              "      <th>monitor</th>\n",
              "      <th>laptop</th>\n",
              "      <th>router</th>\n",
              "      <th>server_hdd</th>\n",
              "      <th>server</th>\n",
              "      <th>speakers</th>\n",
              "      <th>playstation</th>\n",
              "      <th>toaster</th>\n",
              "      <th>fridge</th>\n",
              "      <th>microwave</th>\n",
              "      <th>laptop2</th>\n",
              "      <th>running_machine</th>\n",
              "      <th>washing_machine</th>\n",
              "      <th>dish_washer</th>\n",
              "      <th>gross</th>\n",
              "      <th>app_sum</th>\n",
              "    </tr>\n",
              "    <tr>\n",
              "      <th>time</th>\n",
              "      <th></th>\n",
              "      <th></th>\n",
              "      <th></th>\n",
              "      <th></th>\n",
              "      <th></th>\n",
              "      <th></th>\n",
              "      <th></th>\n",
              "      <th></th>\n",
              "      <th></th>\n",
              "      <th></th>\n",
              "      <th></th>\n",
              "      <th></th>\n",
              "      <th></th>\n",
              "      <th></th>\n",
              "      <th></th>\n",
              "      <th></th>\n",
              "      <th></th>\n",
              "      <th></th>\n",
              "      <th></th>\n",
              "      <th></th>\n",
              "    </tr>\n",
              "  </thead>\n",
              "  <tbody>\n",
              "    <tr>\n",
              "      <th>2013-06-01 00:00:00</th>\n",
              "      <td>9</td>\n",
              "      <td>0</td>\n",
              "      <td>1</td>\n",
              "      <td>1</td>\n",
              "      <td>60</td>\n",
              "      <td>47</td>\n",
              "      <td>6</td>\n",
              "      <td>1</td>\n",
              "      <td>13</td>\n",
              "      <td>10</td>\n",
              "      <td>0</td>\n",
              "      <td>0</td>\n",
              "      <td>10</td>\n",
              "      <td>0</td>\n",
              "      <td>0</td>\n",
              "      <td>1</td>\n",
              "      <td>3</td>\n",
              "      <td>0</td>\n",
              "      <td>162</td>\n",
              "      <td>6</td>\n",
              "    </tr>\n",
              "    <tr>\n",
              "      <th>2013-06-01 00:00:05</th>\n",
              "      <td>9</td>\n",
              "      <td>0</td>\n",
              "      <td>1</td>\n",
              "      <td>1</td>\n",
              "      <td>60</td>\n",
              "      <td>47</td>\n",
              "      <td>6</td>\n",
              "      <td>1</td>\n",
              "      <td>13</td>\n",
              "      <td>10</td>\n",
              "      <td>0</td>\n",
              "      <td>0</td>\n",
              "      <td>10</td>\n",
              "      <td>0</td>\n",
              "      <td>0</td>\n",
              "      <td>1</td>\n",
              "      <td>3</td>\n",
              "      <td>0</td>\n",
              "      <td>162</td>\n",
              "      <td>6</td>\n",
              "    </tr>\n",
              "    <tr>\n",
              "      <th>2013-06-01 00:00:10</th>\n",
              "      <td>9</td>\n",
              "      <td>0</td>\n",
              "      <td>1</td>\n",
              "      <td>1</td>\n",
              "      <td>60</td>\n",
              "      <td>53</td>\n",
              "      <td>7</td>\n",
              "      <td>1</td>\n",
              "      <td>14</td>\n",
              "      <td>10</td>\n",
              "      <td>0</td>\n",
              "      <td>0</td>\n",
              "      <td>10</td>\n",
              "      <td>0</td>\n",
              "      <td>0</td>\n",
              "      <td>1</td>\n",
              "      <td>3</td>\n",
              "      <td>0</td>\n",
              "      <td>170</td>\n",
              "      <td>6</td>\n",
              "    </tr>\n",
              "    <tr>\n",
              "      <th>2013-06-01 00:00:15</th>\n",
              "      <td>9</td>\n",
              "      <td>0</td>\n",
              "      <td>1</td>\n",
              "      <td>1</td>\n",
              "      <td>60</td>\n",
              "      <td>50</td>\n",
              "      <td>7</td>\n",
              "      <td>1</td>\n",
              "      <td>14</td>\n",
              "      <td>10</td>\n",
              "      <td>1</td>\n",
              "      <td>0</td>\n",
              "      <td>10</td>\n",
              "      <td>0</td>\n",
              "      <td>0</td>\n",
              "      <td>1</td>\n",
              "      <td>3</td>\n",
              "      <td>1</td>\n",
              "      <td>169</td>\n",
              "      <td>7</td>\n",
              "    </tr>\n",
              "    <tr>\n",
              "      <th>2013-06-01 00:00:20</th>\n",
              "      <td>9</td>\n",
              "      <td>0</td>\n",
              "      <td>1</td>\n",
              "      <td>1</td>\n",
              "      <td>60</td>\n",
              "      <td>52</td>\n",
              "      <td>6</td>\n",
              "      <td>1</td>\n",
              "      <td>14</td>\n",
              "      <td>10</td>\n",
              "      <td>1</td>\n",
              "      <td>0</td>\n",
              "      <td>10</td>\n",
              "      <td>0</td>\n",
              "      <td>0</td>\n",
              "      <td>1</td>\n",
              "      <td>3</td>\n",
              "      <td>1</td>\n",
              "      <td>170</td>\n",
              "      <td>7</td>\n",
              "    </tr>\n",
              "  </tbody>\n",
              "</table>\n",
              "</div>"
            ],
            "text/plain": [
              "                     modem  cooker  rice_cooker  ...  dish_washer  gross  app_sum\n",
              "time                                             ...                             \n",
              "2013-06-01 00:00:00      9       0            1  ...            0    162        6\n",
              "2013-06-01 00:00:05      9       0            1  ...            0    162        6\n",
              "2013-06-01 00:00:10      9       0            1  ...            0    170        6\n",
              "2013-06-01 00:00:15      9       0            1  ...            1    169        7\n",
              "2013-06-01 00:00:20      9       0            1  ...            1    170        7\n",
              "\n",
              "[5 rows x 20 columns]"
            ]
          },
          "metadata": {
            "tags": []
          },
          "execution_count": 17
        }
      ]
    },
    {
      "cell_type": "markdown",
      "metadata": {
        "id": "gNLa_JXF89m3",
        "colab_type": "text"
      },
      "source": [
        "# Plot\n",
        "Looking at a subset of the data..."
      ]
    },
    {
      "cell_type": "code",
      "metadata": {
        "id": "zzzk248l9BB3",
        "colab_type": "code",
        "colab": {
          "base_uri": "https://localhost:8080/",
          "height": 35
        },
        "outputId": "1609c3bc-ccfe-450a-afbc-5367fe4fd926"
      },
      "source": [
        "st = '2013-07-04 00:00:00'\n",
        "et = '2013-07-05 00:00:00'\n",
        "sub_df = energy_data.loc[st:et]\n",
        "print(sub_df.shape)"
      ],
      "execution_count": 18,
      "outputs": [
        {
          "output_type": "stream",
          "text": [
            "(17281, 20)\n"
          ],
          "name": "stdout"
        }
      ]
    },
    {
      "cell_type": "code",
      "metadata": {
        "id": "fVvVBkaV9Z-0",
        "colab_type": "code",
        "colab": {}
      },
      "source": [
        "import matplotlib.pyplot as plt"
      ],
      "execution_count": 0,
      "outputs": []
    },
    {
      "cell_type": "markdown",
      "metadata": {
        "id": "UfpWNgbs91NA",
        "colab_type": "text"
      },
      "source": [
        "From the blog post: _...shows the comparisons between aggregate power consumption of selected appliances (`app_sum`) and the whole-house power consumption (`gross`). It is worth noting that the input to our demo system is the gross consumption (the blue curve) because this is the most readily available power usage data, and is even measurable outside the home._\n",
        "\n",
        "This statement is a bit confusing.  Because earlier we deleted the aggregate column and replaced with the gross column. (?)"
      ]
    },
    {
      "cell_type": "code",
      "metadata": {
        "id": "3lxH_FTQ76e2",
        "colab_type": "code",
        "colab": {
          "base_uri": "https://localhost:8080/",
          "height": 542
        },
        "outputId": "4fa77661-a9b7-4b04-eb9a-709cd7bede43"
      },
      "source": [
        "fig, ax = plt.subplots(1, 1, figsize=(15, 8))\n",
        "ax = sub_df[['gross', 'app_sum']].plot(ax=ax)\n",
        "ax.grid(True)\n",
        "ax.set_title('House 2')\n",
        "ax.set_ylabel('Power consumption in watts')"
      ],
      "execution_count": 20,
      "outputs": [
        {
          "output_type": "execute_result",
          "data": {
            "text/plain": [
              "Text(0, 0.5, 'Power consumption in watts')"
            ]
          },
          "metadata": {
            "tags": []
          },
          "execution_count": 20
        },
        {
          "output_type": "display_data",
          "data": {
            "image/png": "[encoded data removed]",
            "text/plain": [
              "<Figure size 1080x576 with 1 Axes>"
            ]
          },
          "metadata": {
            "tags": []
          }
        }
      ]
    },
    {
      "cell_type": "markdown",
      "metadata": {
        "id": "35mDj0lnAP_D",
        "colab_type": "text"
      },
      "source": [
        "# Determine ON/OFF\n",
        "When is each appliance on or off?  The blog notes:  \n",
        "  \n",
        "_We assume an appliance to be “on” if its power consumption is larger than one standard deviation from the sample mean of its power readings, given the fact that appliances are off most of the time and hence most of the readings are near zero._  \n",
        "  \n",
        "This part of the code creates columns for each appliance with the suffix _on .  Values are 1 if the power reading is > than the the standard deviation.  If it isn't, the value in the column is a zero.  This way, each appliance has a label column."
      ]
    },
    {
      "cell_type": "code",
      "metadata": {
        "id": "t8BvKyHDJLyW",
        "colab_type": "code",
        "colab": {
          "base_uri": "https://localhost:8080/",
          "height": 161
        },
        "outputId": "07877430-a14a-4fa5-8d06-9f15b3dc35a1"
      },
      "source": [
        "# @title Let's check out the std dev for each appliance\n",
        "for i,app in enumerate(appliance_cols):\n",
        "  sd = round(energy_data[app].std(),2)\n",
        "  print('standard deviation for {} : {}W'.format(app,sd))\n"
      ],
      "execution_count": 38,
      "outputs": [
        {
          "output_type": "stream",
          "text": [
            "standard deviation for running_machine : 21.46W\n",
            "standard deviation for washing_machine : 110.3W\n",
            "standard deviation for dish_washer : 250.6W\n",
            "standard deviation for microwave : 82.31W\n",
            "standard deviation for toaster : 14.78W\n",
            "standard deviation for kettle : 359.79W\n",
            "standard deviation for rice_cooker : 26.9W\n",
            "standard deviation for cooker : 5.02W\n"
          ],
          "name": "stdout"
        }
      ]
    },
    {
      "cell_type": "code",
      "metadata": {
        "id": "RiynAyREKUSe",
        "colab_type": "code",
        "colab": {
          "base_uri": "https://localhost:8080/",
          "height": 526
        },
        "outputId": "df314332-9f56-48c8-d22e-94fc7b92b5eb"
      },
      "source": [
        "# @title zoom in on microwave readings\n",
        "microwave = sub_df['microwave']\n",
        "microwave.plot(figsize=(15, 8),grid=True)"
      ],
      "execution_count": 41,
      "outputs": [
        {
          "output_type": "execute_result",
          "data": {
            "text/plain": [
              "<matplotlib.axes._subplots.AxesSubplot at 0x7fc83e9405f8>"
            ]
          },
          "metadata": {
            "tags": []
          },
          "execution_count": 41
        },
        {
          "output_type": "display_data",
          "data": {
            "image/png": "[encoded data removed]",
            "text/plain": [
              "<Figure size 1080x576 with 1 Axes>"
            ]
          },
          "metadata": {
            "tags": []
          }
        }
      ]
    },
    {
      "cell_type": "markdown",
      "metadata": {
        "id": "NzyKM-TfLEWf",
        "colab_type": "text"
      },
      "source": [
        "At this resolution, it makes sense to use just the standard deviation as a cut off because it looks like there is a dramatic change from off to on.  However, looking more closely:"
      ]
    },
    {
      "cell_type": "code",
      "metadata": {
        "id": "4t0K6kClL4zT",
        "colab_type": "code",
        "colab": {
          "base_uri": "https://localhost:8080/",
          "height": 53
        },
        "outputId": "b3cf7f6d-8c3f-47c8-f8e5-2473583a6c97"
      },
      "source": [
        "import datetime\n",
        "now = datetime.datetime.now()\n",
        "print(now.month)\n",
        "now.day"
      ],
      "execution_count": 46,
      "outputs": [
        {
          "output_type": "stream",
          "text": [
            "11\n"
          ],
          "name": "stdout"
        },
        {
          "output_type": "execute_result",
          "data": {
            "text/plain": [
              "17"
            ]
          },
          "metadata": {
            "tags": []
          },
          "execution_count": 46
        }
      ]
    },
    {
      "cell_type": "code",
      "metadata": {
        "id": "JOPEns_ULRRg",
        "colab_type": "code",
        "colab": {
          "base_uri": "https://localhost:8080/",
          "height": 515
        },
        "outputId": "d9f317e0-b119-45f9-a1c6-f64a6728d2dc"
      },
      "source": [
        "microwave['2013-07-04 17:56':'2013-07-04 18:00'].plot(figsize=(15, 8),grid=True)"
      ],
      "execution_count": 57,
      "outputs": [
        {
          "output_type": "execute_result",
          "data": {
            "text/plain": [
              "<matplotlib.axes._subplots.AxesSubplot at 0x7fc83e0a1c88>"
            ]
          },
          "metadata": {
            "tags": []
          },
          "execution_count": 57
        },
        {
          "output_type": "display_data",
          "data": {
            "image/png": "[encoded data removed]",
            "text/plain": [
              "<Figure size 1080x576 with 1 Axes>"
            ]
          },
          "metadata": {
            "tags": []
          }
        }
      ]
    },
    {
      "cell_type": "markdown",
      "metadata": {
        "id": "i5HfXcalNDUM",
        "colab_type": "text"
      },
      "source": [
        "part of the signature is lopped off.  For example, for the microwave reading that began at 5:58PM, there is a gradual rise in watts. Then prior to turning off, there is a slight bump in watts.  \n",
        "  \n",
        "Isn't this information important for training?\n",
        "\n",
        "Also - would current and reactive power readings help \"fine tune\" the autodection of whether an appliance is on or off?"
      ]
    },
    {
      "cell_type": "code",
      "metadata": {
        "id": "LiR6xI5AM2S2",
        "colab_type": "code",
        "colab": {}
      },
      "source": [
        ""
      ],
      "execution_count": 0,
      "outputs": []
    },
    {
      "cell_type": "code",
      "metadata": {
        "id": "-AwSLvzLA8kl",
        "colab_type": "code",
        "colab": {
          "base_uri": "https://localhost:8080/",
          "height": 161
        },
        "outputId": "3aeea39f-e2ea-48cf-b105-e735a2f589b7"
      },
      "source": [
        "for i,app in enumerate(appliance_cols):\n",
        "    lb = energy_data[app].std()\n",
        "    ub = energy_data[app].max() - lb\n",
        "    # energy_data[app + '_on'] = energy_data[app].apply(\n",
        "    #   lambda x: 1 if x > lb else 0)\n",
        "    print('standard deviation for {},{}:{}'.format(lb,ub,app))\n"
      ],
      "execution_count": 26,
      "outputs": [
        {
          "output_type": "stream",
          "text": [
            "standard deviation for 21.46307316104856,1327.5369268389513:running_machine\n",
            "standard deviation for 110.30234098468421,2863.697659015316:washing_machine\n",
            "standard deviation for 250.59622137658752,3704.4037786234126:dish_washer\n",
            "standard deviation for 82.31060841636922,2585.689391583631:microwave\n",
            "standard deviation for 14.776962580898735,3201.2230374191013:toaster\n",
            "standard deviation for 359.7872983330898,3638.21270166691:kettle\n",
            "standard deviation for 26.901424252362602,794.0985757476374:rice_cooker\n",
            "standard deviation for 5.0220847945729,3526.977915205427:cooker\n"
          ],
          "name": "stdout"
        }
      ]
    },
    {
      "cell_type": "code",
      "metadata": {
        "id": "oDFJTwmR-sHi",
        "colab_type": "code",
        "colab": {}
      },
      "source": [
        "\n",
        "import numpy as np"
      ],
      "execution_count": 0,
      "outputs": []
    },
    {
      "cell_type": "code",
      "metadata": {
        "id": "VIRJIrlz9Hlx",
        "colab_type": "code",
        "colab": {}
      },
      "source": [
        "nrow = int(np.ceil(np.sqrt(len(appliance_cols))))\n",
        "ncol = int(np.ceil(1.0 * len(appliance_cols) / nrow))"
      ],
      "execution_count": 0,
      "outputs": []
    },
    {
      "cell_type": "code",
      "metadata": {
        "id": "Z1HHpmoZ-mx4",
        "colab_type": "code",
        "colab": {
          "base_uri": "https://localhost:8080/",
          "height": 35
        },
        "outputId": "8b924526-a18b-4779-9529-735e6f5b65d7"
      },
      "source": [
        "len(appliance_cols)"
      ],
      "execution_count": 66,
      "outputs": [
        {
          "output_type": "execute_result",
          "data": {
            "text/plain": [
              "8"
            ]
          },
          "metadata": {
            "tags": []
          },
          "execution_count": 66
        }
      ]
    },
    {
      "cell_type": "code",
      "metadata": {
        "id": "cT98sMoh-oTy",
        "colab_type": "code",
        "colab": {
          "base_uri": "https://localhost:8080/",
          "height": 35
        },
        "outputId": "3e598e81-89c3-428a-9f7d-24e15b7340e5"
      },
      "source": [
        "nrow = np.ceil(np.sqrt(len(appliance_cols)))\n",
        "nrow"
      ],
      "execution_count": 70,
      "outputs": [
        {
          "output_type": "execute_result",
          "data": {
            "text/plain": [
              "3.0"
            ]
          },
          "metadata": {
            "tags": []
          },
          "execution_count": 70
        }
      ]
    },
    {
      "cell_type": "code",
      "metadata": {
        "id": "3WpUlW7t-w5o",
        "colab_type": "code",
        "colab": {
          "base_uri": "https://localhost:8080/",
          "height": 35
        },
        "outputId": "f1df5c4b-3233-4810-d6ae-6abc784e247a"
      },
      "source": [
        "ncol = int(np.ceil(len(appliance_cols) / nrow))\n",
        "ncol"
      ],
      "execution_count": 74,
      "outputs": [
        {
          "output_type": "execute_result",
          "data": {
            "text/plain": [
              "3"
            ]
          },
          "metadata": {
            "tags": []
          },
          "execution_count": 74
        }
      ]
    },
    {
      "cell_type": "code",
      "metadata": {
        "id": "9f0wVuE1_HU4",
        "colab_type": "code",
        "colab": {
          "base_uri": "https://localhost:8080/",
          "height": 657
        },
        "outputId": "785f6770-259a-4e20-a7c3-352ee8eb572b"
      },
      "source": [
        "nrow = int(np.ceil(np.sqrt(len(appliance_cols))))\n",
        "ncol = int(np.ceil(1.0 * len(appliance_cols) / nrow))\n",
        "\n",
        "fig, axes = plt.subplots(nrow, ncol, figsize=(5*ncol, 3*nrow))\n",
        "axes[-1, -1].axis('off')\n",
        "\n",
        "for i, app in enumerate(appliance_cols):\n",
        "  row_ix = i // 3\n",
        "  col_ix = i % 3\n",
        "  ax = axes[row_ix][col_ix]\n",
        "  lb = energy_data[app].std()\n",
        "  ub = energy_data[app].max() - lb\n",
        "  energy_data[app + '_on'] = energy_data[app].apply(\n",
        "      lambda x: 1 if x > lb else 0)\n",
        "  energy_data[app][(energy_data[app] > lb) & \n",
        "                   (energy_data[app] < ub)].plot.hist(bins=20, ax=ax)\n",
        "  ax.set_title(app)\n",
        "  ax.grid(True)\n",
        "\n",
        "plt.tight_layout()"
      ],
      "execution_count": 75,
      "outputs": [
        {
          "output_type": "display_data",
          "data": {
            "image/png": "[encoded data removed]",
            "text/plain": [
              "<Figure size 1080x648 with 9 Axes>"
            ]
          },
          "metadata": {
            "tags": []
          }
        }
      ]
    },
    {
      "cell_type": "code",
      "metadata": {
        "id": "tZsb8lCY_1ou",
        "colab_type": "code",
        "colab": {}
      },
      "source": [
        ""
      ],
      "execution_count": 0,
      "outputs": []
    }
  ]
}