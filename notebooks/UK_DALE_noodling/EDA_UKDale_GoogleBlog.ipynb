{
  "nbformat": 4,
  "nbformat_minor": 0,
  "metadata": {
    "colab": {
      "name": "EDA_UKDale_microwave.ipynb",
      "provenance": [],
      "include_colab_link": true
    },
    "kernelspec": {
      "name": "python3",
      "display_name": "Python 3"
    },
    "accelerator": "GPU"
  },
  "cells": [
    {
      "cell_type": "markdown",
      "metadata": {
        "id": "view-in-github",
        "colab_type": "text"
      },
      "source": [
        "<a href=\"https://colab.research.google.com/github/BitKnitting/FitHome_Analysis/blob/master/notebooks/UK_DALE_noodling/EDA_UKDale_GoogleBlog.ipynb\" target=\"_parent\"><img src=\"https://colab.research.google.com/assets/colab-badge.svg\" alt=\"Open In Colab\"/></a>"
      ]
    },
    {
      "cell_type": "markdown",
      "metadata": {
        "id": "moa8pdhzdjHh",
        "colab_type": "text"
      },
      "source": [
        "# Goal\n",
        "To explore/replicate the EDA done in _[AI in depth: monitoring home appliances from power readings with ML](https://cloud.google.com/blog/products/ai-machine-learning/monitoring-home-appliances-from-power-readings-with-ml)_.\n",
        "- [GitHub location where notebooks discussed in the blog are posted](https://github.com/GoogleCloudPlatform/professional-services/tree/master/examples/e2e-home-appliance-status-monitoring/notebook).  The interesting notebook for this discussion is [EnergyDisaggregationEDA.ipynb](https://github.com/GoogleCloudPlatform/professional-services/blob/master/examples/e2e-home-appliance-status-monitoring/notebook/EnergyDisaggregationEDA.ipynb)\n"
      ]
    },
    {
      "cell_type": "code",
      "metadata": {
        "id": "SQMTExUe7iGw",
        "colab_type": "code",
        "colab": {}
      },
      "source": [
        "import pandas as pd"
      ],
      "execution_count": 0,
      "outputs": []
    },
    {
      "cell_type": "markdown",
      "metadata": {
        "id": "4OD-Bi30eHRm",
        "colab_type": "text"
      },
      "source": [
        "# Get the data\n",
        "While we could have used We downloaded the prepocessed file discussed in the blog post from [here](https://console.cloud.google.com/storage/browser/_details/gcp_blog/e2e_demo/processed_h2_appliance.csv) to our google drive."
      ]
    },
    {
      "cell_type": "code",
      "metadata": {
        "id": "k-8gdorNeGSc",
        "colab_type": "code",
        "colab": {}
      },
      "source": [
        ""
      ],
      "execution_count": 0,
      "outputs": []
    },
    {
      "cell_type": "code",
      "metadata": {
        "id": "l_fe8hbv6xcv",
        "colab_type": "code",
        "outputId": "f79e5a6f-ffcb-45f4-e3a5-e49d49bea875",
        "colab": {
          "base_uri": "https://localhost:8080/",
          "height": 127
        }
      },
      "source": [
        "# @title Mount Google Drive\n",
        "from google.colab import drive\n",
        "drive.mount('/content/drive')"
      ],
      "execution_count": 0,
      "outputs": [
        {
          "output_type": "stream",
          "text": [
            "Go to this URL in a browser: https://accounts.google.com/o/oauth2/auth?client_id=947318989803-6bn6qk8qdgf4n4g3pfee6491hc0brc4i.apps.googleusercontent.com&redirect_uri=urn%3Aietf%3Awg%3Aoauth%3A2.0%3Aoob&scope=email%20https%3A%2F%2Fwww.googleapis.com%2Fauth%2Fdocs.test%20https%3A%2F%2Fwww.googleapis.com%2Fauth%2Fdrive%20https%3A%2F%2Fwww.googleapis.com%2Fauth%2Fdrive.photos.readonly%20https%3A%2F%2Fwww.googleapis.com%2Fauth%2Fpeopleapi.readonly&response_type=code\n",
            "\n",
            "Enter your authorization code:\n",
            "··········\n",
            "Mounted at /content/drive\n"
          ],
          "name": "stdout"
        }
      ]
    },
    {
      "cell_type": "code",
      "metadata": {
        "id": "r8Uh6_fK7JIw",
        "colab_type": "code",
        "outputId": "6db01d07-f8bf-4082-bc92-ce45f378f27c",
        "colab": {
          "base_uri": "https://localhost:8080/",
          "height": 557
        }
      },
      "source": [
        "filename = '/content/drive/My Drive/Colab Notebooks/microwave_house1.pkl'\n",
        "df = pd.read_pickle(filename)\n",
        "# dMonitor['datetime'] = pd.to_datetime(dMonitor['DateTime'])\n",
        "# dMonitor = dMonitor.set_index('datetime')\n",
        "# dMonitor.drop(['DateTime'], axis=1, inplace=True) \n",
        "\n",
        "microwave_df = df['power']['active']\n",
        "display(microwave_df.head())\n",
        "display(microwave_df.index)\n",
        "display(microwave_df.shape)\n",
        "display(microwave_df.describe())\n",
        "display(microwave_df.index.min())\n",
        "display(microwave_df.index.max())"
      ],
      "execution_count": 0,
      "outputs": [
        {
          "output_type": "display_data",
          "data": {
            "text/plain": [
              "2012-12-14 22:21:33+00:00    1.0\n",
              "2012-12-14 22:21:39+00:00    1.0\n",
              "2012-12-14 22:21:45+00:00    1.0\n",
              "2012-12-14 22:21:51+00:00    1.0\n",
              "2012-12-14 22:21:57+00:00    1.0\n",
              "Name: active, dtype: float32"
            ]
          },
          "metadata": {
            "tags": []
          }
        },
        {
          "output_type": "display_data",
          "data": {
            "text/plain": [
              "DatetimeIndex(['2012-12-14 22:21:33+00:00', '2012-12-14 22:21:39+00:00',\n",
              "               '2012-12-14 22:21:45+00:00', '2012-12-14 22:21:51+00:00',\n",
              "               '2012-12-14 22:21:57+00:00', '2012-12-14 22:22:03+00:00',\n",
              "               '2012-12-14 22:22:09+00:00', '2012-12-14 22:22:15+00:00',\n",
              "               '2012-12-14 22:22:21+00:00', '2012-12-14 22:22:27+00:00',\n",
              "               ...\n",
              "               '2017-04-26 18:31:46+01:00', '2017-04-26 18:31:54+01:00',\n",
              "               '2017-04-26 18:32:02+01:00', '2017-04-26 18:32:13+01:00',\n",
              "               '2017-04-26 18:32:28+01:00', '2017-04-26 18:32:34+01:00',\n",
              "               '2017-04-26 18:32:41+01:00', '2017-04-26 18:32:50+01:00',\n",
              "               '2017-04-26 18:32:55+01:00', '2017-04-26 18:33:03+01:00'],\n",
              "              dtype='datetime64[ns, Europe/London]', length=19406625, freq=None)"
            ]
          },
          "metadata": {
            "tags": []
          }
        },
        {
          "output_type": "display_data",
          "data": {
            "text/plain": [
              "(19406625,)"
            ]
          },
          "metadata": {
            "tags": []
          }
        },
        {
          "output_type": "display_data",
          "data": {
            "text/plain": [
              "count    1.940662e+07\n",
              "mean     7.517833e+00\n",
              "std      1.049106e+02\n",
              "min      0.000000e+00\n",
              "25%      1.000000e+00\n",
              "50%      1.000000e+00\n",
              "75%      1.000000e+00\n",
              "max      3.267000e+03\n",
              "Name: active, dtype: float64"
            ]
          },
          "metadata": {
            "tags": []
          }
        },
        {
          "output_type": "display_data",
          "data": {
            "text/plain": [
              "Timestamp('2012-12-14 22:21:33+0000', tz='Europe/London')"
            ]
          },
          "metadata": {
            "tags": []
          }
        },
        {
          "output_type": "display_data",
          "data": {
            "text/plain": [
              "Timestamp('2017-04-26 18:33:03+0100', tz='Europe/London')"
            ]
          },
          "metadata": {
            "tags": []
          }
        }
      ]
    },
    {
      "cell_type": "code",
      "metadata": {
        "id": "Ujc8XcSd7nwh",
        "colab_type": "code",
        "outputId": "cb980cce-d1f6-43f8-af0e-05afa82caa69",
        "colab": {
          "base_uri": "https://localhost:8080/",
          "height": 478
        }
      },
      "source": [
        "microwave_df['2015-02-05 08:00':'2015-02-05 08:15'].plot(figsize=(16,8),grid=True)"
      ],
      "execution_count": 0,
      "outputs": [
        {
          "output_type": "execute_result",
          "data": {
            "text/plain": [
              "<matplotlib.axes._subplots.AxesSubplot at 0x7fc9793d7390>"
            ]
          },
          "metadata": {
            "tags": []
          },
          "execution_count": 41
        },
        {
          "output_type": "display_data",
          "data": {
            "image/png": "[encoded data removed]",
            "text/plain": [
              "<Figure size 1152x576 with 1 Axes>"
            ]
          },
          "metadata": {
            "tags": []
          }
        }
      ]
    },
    {
      "cell_type": "code",
      "metadata": {
        "id": "rSqNynBLHdCb",
        "colab_type": "code",
        "colab": {}
      },
      "source": [
        ""
      ],
      "execution_count": 0,
      "outputs": []
    }
  ]
}