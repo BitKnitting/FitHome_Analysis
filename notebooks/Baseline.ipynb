{
  "nbformat": 4,
  "nbformat_minor": 0,
  "metadata": {
    "colab": {
      "name": "Baseline.ipynb",
      "provenance": [],
      "include_colab_link": true
    },
    "kernelspec": {
      "name": "python3",
      "display_name": "Python 3"
    }
  },
  "cells": [
    {
      "cell_type": "markdown",
      "metadata": {
        "id": "view-in-github",
        "colab_type": "text"
      },
      "source": [
        "<a href=\"https://colab.research.google.com/github/BitKnitting/FitHome_Analysis/blob/master/notebooks/Baseline.ipynb\" target=\"_parent\"><img src=\"https://colab.research.google.com/assets/colab-badge.svg\" alt=\"Open In Colab\"/></a>"
      ]
    },
    {
      "cell_type": "markdown",
      "metadata": {
        "id": "ozX2gumL3YH-",
        "colab_type": "text"
      },
      "source": [
        "# Calculating Baseline\n",
        "Insights provided to the homeowner by the FitHome experience begins with knowledge of the home's initial electrcitiy consumption.\n",
        "\n",
        "We take an average daily value to determine the starting baseline of a homeowner's electricity consumption.  \n",
        "\n",
        "The  challenge with providing the baseline is getting enough readings for a long enough window of time.\n",
        "\n",
        "__We constrain a baseline to be at least three days worth of readings in which there are enough readings to represent 24 hours for a day.__\n",
        "\n",
        "The goal of this notebook is to provide a walkthough on how we calculate a home's baseline average daily electricity use."
      ]
    },
    {
      "cell_type": "markdown",
      "metadata": {
        "id": "oX2T_sFm3xaJ",
        "colab_type": "text"
      },
      "source": [
        "#Data from Firebase\n",
        "Our data comes from the Firebase RT db that the home's monitor is publishing to.  Data is retrieved and put into the baseline.json file.\n"
      ]
    },
    {
      "cell_type": "code",
      "metadata": {
        "id": "SRGAo85o3Wgu",
        "colab_type": "code",
        "outputId": "d05dc558-45bb-4c34-9fb1-bbf5ac25431d",
        "colab": {
          "base_uri": "https://localhost:8080/",
          "height": 107
        }
      },
      "source": [
        "%%time\n",
        "!curl 'https://fithome-9ebbd.firebaseio.com/flower-09282019/readings.json?print=pretty' > baseline.json "
      ],
      "execution_count": 1,
      "outputs": [
        {
          "output_type": "stream",
          "text": [
            "  % Total    % Received % Xferd  Average Speed   Time    Time     Time  Current\n",
            "                                 Dload  Upload   Total   Spent    Left  Speed\n",
            "100 18.0M  100 18.0M    0     0  2065k      0  0:00:08  0:00:08 --:--:-- 5406k\n",
            "CPU times: user 80.7 ms, sys: 20.8 ms, total: 102 ms\n",
            "Wall time: 10.4 s\n"
          ],
          "name": "stdout"
        }
      ]
    },
    {
      "cell_type": "markdown",
      "metadata": {
        "id": "bVZLysvb0Drh",
        "colab_type": "text"
      },
      "source": [
        "# Pandas Dataframe\n",
        "Now that we have a copy of the data, we must get it into a structure that has all the amazing math/transform goop...Ooohh - we've got - PANDAS!"
      ]
    },
    {
      "cell_type": "code",
      "metadata": {
        "id": "JOB5RKrf38dQ",
        "colab_type": "code",
        "outputId": "44f508b1-cbdd-449b-e84f-911302da1218",
        "colab": {
          "base_uri": "https://localhost:8080/",
          "height": 143
        }
      },
      "source": [
        "# @title Put into a Pandas dataframe\n",
        "# This can take >= 3 minutes.\n",
        "%%time\n",
        "import pandas as pd\n",
        "df_needs_reshape = pd.read_json(\"baseline.json\",\"r\", encoding=\"utf8\")\n",
        "df_reshaped = df_needs_reshape.T\n",
        "# The datetime is in UTC time.  We are in the US Pacific Timeframe.\n",
        "df_reshaped.index = df_reshaped.index.tz_localize('UTC').tz_convert('US/Pacific')\n",
        "# @title Start Date and End Data of Series\n",
        "print('Start date: {}'.format(df_reshaped.index.min()))\n",
        "print('End   date: {}'.format(df_reshaped.index.max()))\n",
        "time_between = df_reshaped.index.max() - df_reshaped.index.min()\n",
        "print('\\n\\nElapsed time: {}'.format(time_between))"
      ],
      "execution_count": 58,
      "outputs": [
        {
          "output_type": "stream",
          "text": [
            "Start date: 2019-10-11 13:46:35-07:00\n",
            "End   date: 2019-10-31 08:40:27-07:00\n",
            "\n",
            "\n",
            "Elapsed time: 19 days 18:53:52\n",
            "CPU times: user 4min 2s, sys: 6.12 s, total: 4min 8s\n",
            "Wall time: 3min 59s\n"
          ],
          "name": "stdout"
        }
      ]
    },
    {
      "cell_type": "markdown",
      "metadata": {
        "id": "bbVKtb0w49Xs",
        "colab_type": "text"
      },
      "source": [
        "# Describe the Data\n",
        "Let's look at some interesting stats"
      ]
    },
    {
      "cell_type": "code",
      "metadata": {
        "id": "cgc-qHcZ5BR3",
        "colab_type": "code",
        "outputId": "28b2a7c7-ca9e-4360-c84d-aa669abfda7c",
        "colab": {
          "base_uri": "https://localhost:8080/",
          "height": 294
        }
      },
      "source": [
        "# @title Interesting Data Stats\n",
        "df_reshaped.describe()"
      ],
      "execution_count": 59,
      "outputs": [
        {
          "output_type": "execute_result",
          "data": {
            "text/html": [
              "<div>\n",
              "<style scoped>\n",
              "    .dataframe tbody tr th:only-of-type {\n",
              "        vertical-align: middle;\n",
              "    }\n",
              "\n",
              "    .dataframe tbody tr th {\n",
              "        vertical-align: top;\n",
              "    }\n",
              "\n",
              "    .dataframe thead th {\n",
              "        text-align: right;\n",
              "    }\n",
              "</style>\n",
              "<table border=\"1\" class=\"dataframe\">\n",
              "  <thead>\n",
              "    <tr style=\"text-align: right;\">\n",
              "      <th></th>\n",
              "      <th>I</th>\n",
              "      <th>P</th>\n",
              "    </tr>\n",
              "  </thead>\n",
              "  <tbody>\n",
              "    <tr>\n",
              "      <th>count</th>\n",
              "      <td>314616.000000</td>\n",
              "      <td>314616.000000</td>\n",
              "    </tr>\n",
              "    <tr>\n",
              "      <th>mean</th>\n",
              "      <td>6.175310</td>\n",
              "      <td>660.158902</td>\n",
              "    </tr>\n",
              "    <tr>\n",
              "      <th>std</th>\n",
              "      <td>4.876879</td>\n",
              "      <td>546.450344</td>\n",
              "    </tr>\n",
              "    <tr>\n",
              "      <th>min</th>\n",
              "      <td>0.002000</td>\n",
              "      <td>0.000320</td>\n",
              "    </tr>\n",
              "    <tr>\n",
              "      <th>25%</th>\n",
              "      <td>2.525000</td>\n",
              "      <td>259.579800</td>\n",
              "    </tr>\n",
              "    <tr>\n",
              "      <th>50%</th>\n",
              "      <td>4.309000</td>\n",
              "      <td>479.150850</td>\n",
              "    </tr>\n",
              "    <tr>\n",
              "      <th>75%</th>\n",
              "      <td>8.495000</td>\n",
              "      <td>896.704275</td>\n",
              "    </tr>\n",
              "    <tr>\n",
              "      <th>max</th>\n",
              "      <td>52.895000</td>\n",
              "      <td>5663.446000</td>\n",
              "    </tr>\n",
              "  </tbody>\n",
              "</table>\n",
              "</div>"
            ],
            "text/plain": [
              "                   I              P\n",
              "count  314616.000000  314616.000000\n",
              "mean        6.175310     660.158902\n",
              "std         4.876879     546.450344\n",
              "min         0.002000       0.000320\n",
              "25%         2.525000     259.579800\n",
              "50%         4.309000     479.150850\n",
              "75%         8.495000     896.704275\n",
              "max        52.895000    5663.446000"
            ]
          },
          "metadata": {
            "tags": []
          },
          "execution_count": 59
        }
      ]
    },
    {
      "cell_type": "markdown",
      "metadata": {
        "id": "HzKwBV0T5F14",
        "colab_type": "text"
      },
      "source": [
        "# Baseline\n",
        "The baseline is the amout of kWh used on a daily average for at least 3 days.  The readings are received while the monitor is in Learning mode.  Once there is enough readings to calculate a baseling, the FitHome experience changes state to Active mode.  Active mode is where the FitHome experience starts giving personalized insights about minimizing electricity use without any lifestyle changes.\n",
        "\n",
        "Below are the steps taken to come up with a baseline kWh value.\n",
        "\n",
        "## Daily Readings\n",
        "Get the days that have enough readings to be included."
      ]
    },
    {
      "cell_type": "code",
      "metadata": {
        "id": "i3v7APRJkxEW",
        "colab_type": "code",
        "colab": {
          "base_uri": "https://localhost:8080/",
          "height": 143
        },
        "outputId": "24013ba9-58b1-4f44-e22f-69e99196860f"
      },
      "source": [
        "all_power_data = df_reshaped['P']\n",
        "daily_readings = all_power_data.resample(rule='D').mean()\n",
        "enough_samples = all_power_data.resample(rule='D').count() > all_power_data.resample(rule='D').count().quantile(.7)\n",
        "daily_readings_kWh = daily_readings[enough_samples]/1000\n",
        "daily_readings_kWh"
      ],
      "execution_count": 62,
      "outputs": [
        {
          "output_type": "execute_result",
          "data": {
            "text/plain": [
              "2019-10-22 00:00:00-07:00    0.332787\n",
              "2019-10-23 00:00:00-07:00    0.383072\n",
              "2019-10-24 00:00:00-07:00    0.587490\n",
              "2019-10-25 00:00:00-07:00    0.916216\n",
              "2019-10-27 00:00:00-07:00    0.570707\n",
              "2019-10-28 00:00:00-07:00    0.570248\n",
              "Name: P, dtype: float64"
            ]
          },
          "metadata": {
            "tags": []
          },
          "execution_count": 62
        }
      ]
    },
    {
      "cell_type": "markdown",
      "metadata": {
        "id": "ixqcwnDv2GdY",
        "colab_type": "text"
      },
      "source": [
        "## Calculate Baseline\n",
        "We have at least three days of readings that are acceptable to being used in the baseline calculation.  The average of these values will be our baseline value."
      ]
    },
    {
      "cell_type": "code",
      "metadata": {
        "id": "ckWXbhhAgprN",
        "colab_type": "code",
        "colab": {
          "base_uri": "https://localhost:8080/",
          "height": 107
        },
        "outputId": "4701a57e-7cf8-478c-9597-cd54508aba4d"
      },
      "source": [
        "baseline_kWh = round(daily_readings_kWh.mean(),2)\n",
        "print('\\n************************\\nThe baseline is: {} kWh.\\n************************\\n'.format(baseline_kWh))\n"
      ],
      "execution_count": 66,
      "outputs": [
        {
          "output_type": "stream",
          "text": [
            "\n",
            "************************\n",
            "The baseline is: 0.56 kWh.\n",
            "************************\n",
            "\n"
          ],
          "name": "stdout"
        }
      ]
    }
  ]
}