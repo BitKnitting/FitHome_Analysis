{
  "nbformat": 4,
  "nbformat_minor": 0,
  "metadata": {
    "colab": {
      "name": "Baseline.ipynb",
      "provenance": [],
      "include_colab_link": true
    },
    "kernelspec": {
      "name": "python3",
      "display_name": "Python 3"
    }
  },
  "cells": [
    {
      "cell_type": "markdown",
      "metadata": {
        "id": "view-in-github",
        "colab_type": "text"
      },
      "source": [
        "<a href=\"https://colab.research.google.com/github/BitKnitting/FitHome_Analysis/blob/master/notebooks/Baseline.ipynb\" target=\"_parent\"><img src=\"https://colab.research.google.com/assets/colab-badge.svg\" alt=\"Open In Colab\"/></a>"
      ]
    },
    {
      "cell_type": "markdown",
      "metadata": {
        "id": "ozX2gumL3YH-",
        "colab_type": "text"
      },
      "source": [
        "# Calculating Baseline\n",
        "The active part of the FitHome experience begins with knowledge of initial consumption."
      ]
    },
    {
      "cell_type": "markdown",
      "metadata": {
        "id": "oX2T_sFm3xaJ",
        "colab_type": "text"
      },
      "source": [
        "#Data from Firebase\n",
        "Retrieve the readings into a json file."
      ]
    },
    {
      "cell_type": "code",
      "metadata": {
        "id": "SRGAo85o3Wgu",
        "colab_type": "code",
        "outputId": "d05dc558-45bb-4c34-9fb1-bbf5ac25431d",
        "colab": {
          "base_uri": "https://localhost:8080/",
          "height": 107
        }
      },
      "source": [
        "%%time\n",
        "!curl 'https://fithome-9ebbd.firebaseio.com/flower-09282019/readings.json?print=pretty' > baseline.json "
      ],
      "execution_count": 1,
      "outputs": [
        {
          "output_type": "stream",
          "text": [
            "  % Total    % Received % Xferd  Average Speed   Time    Time     Time  Current\n",
            "                                 Dload  Upload   Total   Spent    Left  Speed\n",
            "100 18.0M  100 18.0M    0     0  2065k      0  0:00:08  0:00:08 --:--:-- 5406k\n",
            "CPU times: user 80.7 ms, sys: 20.8 ms, total: 102 ms\n",
            "Wall time: 10.4 s\n"
          ],
          "name": "stdout"
        }
      ]
    },
    {
      "cell_type": "code",
      "metadata": {
        "id": "JOB5RKrf38dQ",
        "colab_type": "code",
        "outputId": "f9b5dd1e-2dae-4500-b39c-e392defe615e",
        "colab": {
          "base_uri": "https://localhost:8080/",
          "height": 53
        }
      },
      "source": [
        "# @title Put into a Pandas dataframe\n",
        "# This can take >= 3 minutes.\n",
        "%%time\n",
        "import pandas as pd\n",
        "df_needs_reshape = pd.read_json(\"baseline.json\",\"r\", encoding=\"utf8\")\n",
        "df_reshaped = df_needs_reshape.T\n",
        "df_reshaped.head()"
      ],
      "execution_count": 2,
      "outputs": [
        {
          "output_type": "stream",
          "text": [
            "CPU times: user 4min 4s, sys: 7.14 s, total: 4min 11s\n",
            "Wall time: 4min\n"
          ],
          "name": "stdout"
        }
      ]
    },
    {
      "cell_type": "code",
      "metadata": {
        "id": "s_Vvnl784v2t",
        "colab_type": "code",
        "colab": {}
      },
      "source": [
        "# The datetime is in UTC time.  We are in Kirkland, WA\n",
        "df_reshaped.index = df_reshaped.index.tz_localize('UTC').tz_convert('US/Pacific')"
      ],
      "execution_count": 0,
      "outputs": []
    },
    {
      "cell_type": "code",
      "metadata": {
        "id": "Xnz2gzSj428l",
        "colab_type": "code",
        "outputId": "3a898537-1f24-4c36-a868-c7d0f55f8176",
        "colab": {
          "base_uri": "https://localhost:8080/",
          "height": 107
        }
      },
      "source": [
        "# @title Start Date and End Data of Series\n",
        "print('Start date: {}'.format(df_reshaped.index.min()))\n",
        "print('End   date: {}'.format(df_reshaped.index.max()))\n",
        "time_between = df_reshaped.index.max() - df_reshaped.index.min()\n",
        "print('\\n\\nElapsed time: {}'.format(time_between))"
      ],
      "execution_count": 4,
      "outputs": [
        {
          "output_type": "stream",
          "text": [
            "Start date: 2019-10-11 13:46:35-07:00\n",
            "End   date: 2019-10-31 08:40:27-07:00\n",
            "\n",
            "\n",
            "Elapsed time: 19 days 18:53:52\n"
          ],
          "name": "stdout"
        }
      ]
    },
    {
      "cell_type": "markdown",
      "metadata": {
        "id": "bbVKtb0w49Xs",
        "colab_type": "text"
      },
      "source": [
        "# Describe the Data\n",
        "Let's look at some interesting stats"
      ]
    },
    {
      "cell_type": "code",
      "metadata": {
        "id": "cgc-qHcZ5BR3",
        "colab_type": "code",
        "outputId": "7ac204fe-eca2-4874-ec81-b475ae9de6ca",
        "colab": {
          "base_uri": "https://localhost:8080/",
          "height": 294
        }
      },
      "source": [
        "# @title Interesting Data Stats\n",
        "df_reshaped.describe()"
      ],
      "execution_count": 5,
      "outputs": [
        {
          "output_type": "execute_result",
          "data": {
            "text/html": [
              "<div>\n",
              "<style scoped>\n",
              "    .dataframe tbody tr th:only-of-type {\n",
              "        vertical-align: middle;\n",
              "    }\n",
              "\n",
              "    .dataframe tbody tr th {\n",
              "        vertical-align: top;\n",
              "    }\n",
              "\n",
              "    .dataframe thead th {\n",
              "        text-align: right;\n",
              "    }\n",
              "</style>\n",
              "<table border=\"1\" class=\"dataframe\">\n",
              "  <thead>\n",
              "    <tr style=\"text-align: right;\">\n",
              "      <th></th>\n",
              "      <th>I</th>\n",
              "      <th>P</th>\n",
              "    </tr>\n",
              "  </thead>\n",
              "  <tbody>\n",
              "    <tr>\n",
              "      <th>count</th>\n",
              "      <td>314616.000000</td>\n",
              "      <td>314616.000000</td>\n",
              "    </tr>\n",
              "    <tr>\n",
              "      <th>mean</th>\n",
              "      <td>6.175310</td>\n",
              "      <td>660.158902</td>\n",
              "    </tr>\n",
              "    <tr>\n",
              "      <th>std</th>\n",
              "      <td>4.876879</td>\n",
              "      <td>546.450344</td>\n",
              "    </tr>\n",
              "    <tr>\n",
              "      <th>min</th>\n",
              "      <td>0.002000</td>\n",
              "      <td>0.000320</td>\n",
              "    </tr>\n",
              "    <tr>\n",
              "      <th>25%</th>\n",
              "      <td>2.525000</td>\n",
              "      <td>259.579800</td>\n",
              "    </tr>\n",
              "    <tr>\n",
              "      <th>50%</th>\n",
              "      <td>4.309000</td>\n",
              "      <td>479.150850</td>\n",
              "    </tr>\n",
              "    <tr>\n",
              "      <th>75%</th>\n",
              "      <td>8.495000</td>\n",
              "      <td>896.704275</td>\n",
              "    </tr>\n",
              "    <tr>\n",
              "      <th>max</th>\n",
              "      <td>52.895000</td>\n",
              "      <td>5663.446000</td>\n",
              "    </tr>\n",
              "  </tbody>\n",
              "</table>\n",
              "</div>"
            ],
            "text/plain": [
              "                   I              P\n",
              "count  314616.000000  314616.000000\n",
              "mean        6.175310     660.158902\n",
              "std         4.876879     546.450344\n",
              "min         0.002000       0.000320\n",
              "25%         2.525000     259.579800\n",
              "50%         4.309000     479.150850\n",
              "75%         8.495000     896.704275\n",
              "max        52.895000    5663.446000"
            ]
          },
          "metadata": {
            "tags": []
          },
          "execution_count": 5
        }
      ]
    },
    {
      "cell_type": "markdown",
      "metadata": {
        "id": "HzKwBV0T5F14",
        "colab_type": "text"
      },
      "source": [
        "# Daily Average Electricity Use\n",
        "\n",
        "- goup data into days.\n",
        "- use only days which have enough samples in each hour."
      ]
    },
    {
      "cell_type": "code",
      "metadata": {
        "id": "ckWXbhhAgprN",
        "colab_type": "code",
        "colab": {
          "base_uri": "https://localhost:8080/",
          "height": 233
        },
        "outputId": "9a155cf2-94fb-45b8-ccc1-ae3e38834d1d"
      },
      "source": [
        "all_power_data.resample(rule='H').count() > 600"
      ],
      "execution_count": 19,
      "outputs": [
        {
          "output_type": "execute_result",
          "data": {
            "text/plain": [
              "2019-10-11 13:00:00-07:00    False\n",
              "2019-10-11 14:00:00-07:00     True\n",
              "2019-10-11 15:00:00-07:00     True\n",
              "2019-10-11 16:00:00-07:00     True\n",
              "2019-10-11 17:00:00-07:00     True\n",
              "                             ...  \n",
              "2019-10-31 04:00:00-07:00     True\n",
              "2019-10-31 05:00:00-07:00     True\n",
              "2019-10-31 06:00:00-07:00     True\n",
              "2019-10-31 07:00:00-07:00     True\n",
              "2019-10-31 08:00:00-07:00    False\n",
              "Freq: H, Name: P, Length: 476, dtype: bool"
            ]
          },
          "metadata": {
            "tags": []
          },
          "execution_count": 19
        }
      ]
    },
    {
      "cell_type": "code",
      "metadata": {
        "id": "EN0dcUb_g-pO",
        "colab_type": "code",
        "colab": {
          "base_uri": "https://localhost:8080/",
          "height": 413
        },
        "outputId": "584512bf-a508-4a3e-e122-e448be639e52"
      },
      "source": [
        "count_per_day = all_power_data.resample(rule='D').count() > 17350\n",
        "count_per_day"
      ],
      "execution_count": 25,
      "outputs": [
        {
          "output_type": "execute_result",
          "data": {
            "text/plain": [
              "2019-10-11 00:00:00-07:00    False\n",
              "2019-10-12 00:00:00-07:00    False\n",
              "2019-10-13 00:00:00-07:00    False\n",
              "2019-10-14 00:00:00-07:00    False\n",
              "2019-10-15 00:00:00-07:00    False\n",
              "2019-10-16 00:00:00-07:00    False\n",
              "2019-10-17 00:00:00-07:00    False\n",
              "2019-10-18 00:00:00-07:00    False\n",
              "2019-10-19 00:00:00-07:00    False\n",
              "2019-10-20 00:00:00-07:00    False\n",
              "2019-10-21 00:00:00-07:00    False\n",
              "2019-10-22 00:00:00-07:00     True\n",
              "2019-10-23 00:00:00-07:00     True\n",
              "2019-10-24 00:00:00-07:00     True\n",
              "2019-10-25 00:00:00-07:00     True\n",
              "2019-10-26 00:00:00-07:00    False\n",
              "2019-10-27 00:00:00-07:00     True\n",
              "2019-10-28 00:00:00-07:00     True\n",
              "2019-10-29 00:00:00-07:00    False\n",
              "2019-10-30 00:00:00-07:00    False\n",
              "2019-10-31 00:00:00-07:00    False\n",
              "Freq: D, Name: P, dtype: bool"
            ]
          },
          "metadata": {
            "tags": []
          },
          "execution_count": 25
        }
      ]
    },
    {
      "cell_type": "code",
      "metadata": {
        "id": "Eza2LdXO5z40",
        "colab_type": "code",
        "outputId": "467f1a72-99db-4e7c-83fb-fef6fe2eb8e0",
        "colab": {
          "base_uri": "https://localhost:8080/",
          "height": 179
        }
      },
      "source": [
        "all_power_data = df_reshaped['P']\n",
        "# Convert readings to kWh\n",
        "p_hourly_kWh = all_power_data.resample(rule='H').mean()/1000\n",
        "\n",
        "display(p_hourly_kWh.describe())"
      ],
      "execution_count": 13,
      "outputs": [
        {
          "output_type": "display_data",
          "data": {
            "text/plain": [
              "count    446.000000\n",
              "mean       0.664325\n",
              "std        0.426886\n",
              "min        0.157123\n",
              "25%        0.314058\n",
              "50%        0.539219\n",
              "75%        0.953748\n",
              "max        2.220034\n",
              "Name: P, dtype: float64"
            ]
          },
          "metadata": {
            "tags": []
          }
        }
      ]
    },
    {
      "cell_type": "code",
      "metadata": {
        "id": "iyDbQJKX55fa",
        "colab_type": "code",
        "colab": {
          "base_uri": "https://localhost:8080/",
          "height": 107
        },
        "outputId": "bec6904d-4511-41d5-eedb-f58c3bf5b539"
      },
      "source": [
        "# Set criteria for hourly data to include at least 600 samples.\n",
        "p_hourly_kWh = p_hourly_kWh.resample(rule='H').count() > 600\n",
        "p_hourly_kWh.describe()\n"
      ],
      "execution_count": 15,
      "outputs": [
        {
          "output_type": "execute_result",
          "data": {
            "text/plain": [
              "count       476\n",
              "unique        1\n",
              "top       False\n",
              "freq        476\n",
              "Name: P, dtype: object"
            ]
          },
          "metadata": {
            "tags": []
          },
          "execution_count": 15
        }
      ]
    },
    {
      "cell_type": "code",
      "metadata": {
        "id": "kM5htNOHf10r",
        "colab_type": "code",
        "colab": {}
      },
      "source": [
        ""
      ],
      "execution_count": 0,
      "outputs": []
    }
  ]
}