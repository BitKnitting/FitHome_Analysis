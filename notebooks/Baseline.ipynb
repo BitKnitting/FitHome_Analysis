{
  "nbformat": 4,
  "nbformat_minor": 0,
  "metadata": {
    "colab": {
      "name": "Baseline.ipynb",
      "provenance": [],
      "include_colab_link": true
    },
    "kernelspec": {
      "name": "python3",
      "display_name": "Python 3"
    }
  },
  "cells": [
    {
      "cell_type": "markdown",
      "metadata": {
        "id": "view-in-github",
        "colab_type": "text"
      },
      "source": [
        "<a href=\"https://colab.research.google.com/github/BitKnitting/FitHome_Analysis/blob/master/notebooks/Baseline.ipynb\" target=\"_parent\"><img src=\"https://colab.research.google.com/assets/colab-badge.svg\" alt=\"Open In Colab\"/></a>"
      ]
    },
    {
      "cell_type": "markdown",
      "metadata": {
        "id": "ozX2gumL3YH-",
        "colab_type": "text"
      },
      "source": [
        "# Calculating Baseline\n",
        "The active part of the FitHome experience begins with knowledge of initial consumption."
      ]
    },
    {
      "cell_type": "markdown",
      "metadata": {
        "id": "oX2T_sFm3xaJ",
        "colab_type": "text"
      },
      "source": [
        "#Data from Firebase\n",
        "Retrieve the readings into a json file."
      ]
    },
    {
      "cell_type": "code",
      "metadata": {
        "id": "SRGAo85o3Wgu",
        "colab_type": "code",
        "colab": {
          "base_uri": "https://localhost:8080/",
          "height": 107
        },
        "outputId": "375009db-2817-40b1-f159-12a919e51be9"
      },
      "source": [
        "%%time\n",
        "!curl 'https://fithome-9ebbd.firebaseio.com/flower-09282019/readings.json?print=pretty' > baseline.json "
      ],
      "execution_count": 1,
      "outputs": [
        {
          "output_type": "stream",
          "text": [
            "  % Total    % Received % Xferd  Average Speed   Time    Time     Time  Current\n",
            "                                 Dload  Upload   Total   Spent    Left  Speed\n",
            "100 17.3M  100 17.3M    0     0  2641k      0  0:00:06  0:00:06 --:--:-- 5542k\n",
            "CPU times: user 43 ms, sys: 11.1 ms, total: 54.2 ms\n",
            "Wall time: 7.64 s\n"
          ],
          "name": "stdout"
        }
      ]
    },
    {
      "cell_type": "code",
      "metadata": {
        "id": "JOB5RKrf38dQ",
        "colab_type": "code",
        "colab": {
          "base_uri": "https://localhost:8080/",
          "height": 53
        },
        "outputId": "fbc40b0a-7334-43a7-c66b-59fac50c48ea"
      },
      "source": [
        "# @title Put into a Pandas dataframe\n",
        "# This can take >= 3 minutes.\n",
        "%%time\n",
        "import pandas as pd\n",
        "df_needs_reshape = pd.read_json(\"baseline.json\",\"r\", encoding=\"utf8\")\n",
        "df_reshaped = df_needs_reshape.T\n",
        "df_reshaped.head()"
      ],
      "execution_count": 4,
      "outputs": [
        {
          "output_type": "stream",
          "text": [
            "CPU times: user 2min 46s, sys: 4.09 s, total: 2min 50s\n",
            "Wall time: 2min 43s\n"
          ],
          "name": "stdout"
        }
      ]
    },
    {
      "cell_type": "code",
      "metadata": {
        "id": "s_Vvnl784v2t",
        "colab_type": "code",
        "colab": {}
      },
      "source": [
        "# The datetime is in UTC time.  We are in Kirkland, WA\n",
        "df_reshaped.index = df_reshaped.index.tz_localize('UTC').tz_convert('US/Pacific')"
      ],
      "execution_count": 0,
      "outputs": []
    },
    {
      "cell_type": "code",
      "metadata": {
        "id": "Xnz2gzSj428l",
        "colab_type": "code",
        "colab": {
          "base_uri": "https://localhost:8080/",
          "height": 107
        },
        "outputId": "80e3ee2c-331b-4cd9-d2fd-8bbac710d2c7"
      },
      "source": [
        "# @title Start Date and End Data of Series\n",
        "print('Start date: {}'.format(df_reshaped.index.min()))\n",
        "print('End   date: {}'.format(df_reshaped.index.max()))\n",
        "time_between = df_reshaped.index.max() - df_reshaped.index.min()\n",
        "print('\\n\\nElapsed time: {}'.format(time_between))"
      ],
      "execution_count": 6,
      "outputs": [
        {
          "output_type": "stream",
          "text": [
            "Start date: 2019-10-11 13:46:35-07:00\n",
            "End   date: 2019-10-30 15:53:37-07:00\n",
            "\n",
            "\n",
            "Elapsed time: 19 days 02:07:02\n"
          ],
          "name": "stdout"
        }
      ]
    },
    {
      "cell_type": "markdown",
      "metadata": {
        "id": "bbVKtb0w49Xs",
        "colab_type": "text"
      },
      "source": [
        "# Describe the Data\n",
        "Let's look at some interesting stats"
      ]
    },
    {
      "cell_type": "code",
      "metadata": {
        "id": "cgc-qHcZ5BR3",
        "colab_type": "code",
        "colab": {
          "base_uri": "https://localhost:8080/",
          "height": 294
        },
        "outputId": "7594d006-3815-4e68-9c17-ce79532d115a"
      },
      "source": [
        "# @title Interesting Data Stats\n",
        "df_reshaped.describe()"
      ],
      "execution_count": 7,
      "outputs": [
        {
          "output_type": "execute_result",
          "data": {
            "text/html": [
              "<div>\n",
              "<style scoped>\n",
              "    .dataframe tbody tr th:only-of-type {\n",
              "        vertical-align: middle;\n",
              "    }\n",
              "\n",
              "    .dataframe tbody tr th {\n",
              "        vertical-align: top;\n",
              "    }\n",
              "\n",
              "    .dataframe thead th {\n",
              "        text-align: right;\n",
              "    }\n",
              "</style>\n",
              "<table border=\"1\" class=\"dataframe\">\n",
              "  <thead>\n",
              "    <tr style=\"text-align: right;\">\n",
              "      <th></th>\n",
              "      <th>I</th>\n",
              "      <th>P</th>\n",
              "    </tr>\n",
              "  </thead>\n",
              "  <tbody>\n",
              "    <tr>\n",
              "      <th>count</th>\n",
              "      <td>302528.000000</td>\n",
              "      <td>302528.000000</td>\n",
              "    </tr>\n",
              "    <tr>\n",
              "      <th>mean</th>\n",
              "      <td>6.209079</td>\n",
              "      <td>663.429233</td>\n",
              "    </tr>\n",
              "    <tr>\n",
              "      <th>std</th>\n",
              "      <td>4.886584</td>\n",
              "      <td>547.643994</td>\n",
              "    </tr>\n",
              "    <tr>\n",
              "      <th>min</th>\n",
              "      <td>0.002000</td>\n",
              "      <td>0.000320</td>\n",
              "    </tr>\n",
              "    <tr>\n",
              "      <th>25%</th>\n",
              "      <td>2.526000</td>\n",
              "      <td>259.655300</td>\n",
              "    </tr>\n",
              "    <tr>\n",
              "      <th>50%</th>\n",
              "      <td>4.340000</td>\n",
              "      <td>481.669100</td>\n",
              "    </tr>\n",
              "    <tr>\n",
              "      <th>75%</th>\n",
              "      <td>8.823000</td>\n",
              "      <td>913.125750</td>\n",
              "    </tr>\n",
              "    <tr>\n",
              "      <th>max</th>\n",
              "      <td>52.895000</td>\n",
              "      <td>5663.446000</td>\n",
              "    </tr>\n",
              "  </tbody>\n",
              "</table>\n",
              "</div>"
            ],
            "text/plain": [
              "                   I              P\n",
              "count  302528.000000  302528.000000\n",
              "mean        6.209079     663.429233\n",
              "std         4.886584     547.643994\n",
              "min         0.002000       0.000320\n",
              "25%         2.526000     259.655300\n",
              "50%         4.340000     481.669100\n",
              "75%         8.823000     913.125750\n",
              "max        52.895000    5663.446000"
            ]
          },
          "metadata": {
            "tags": []
          },
          "execution_count": 7
        }
      ]
    },
    {
      "cell_type": "markdown",
      "metadata": {
        "id": "HzKwBV0T5F14",
        "colab_type": "text"
      },
      "source": [
        "# Daily Average Electricity Use\n",
        "\n",
        "- goup data into days.\n",
        "- use only days which have enough samples in each hour."
      ]
    },
    {
      "cell_type": "code",
      "metadata": {
        "id": "Eza2LdXO5z40",
        "colab_type": "code",
        "colab": {
          "base_uri": "https://localhost:8080/",
          "height": 125
        },
        "outputId": "0cf7e13d-6a0e-40b6-b41d-d739f0a7ec41"
      },
      "source": [
        "all_power_data = df_reshaped['P']\n",
        "# Convert readings to kWh\n",
        "p_kWh = all_power_data.resample(rule='D').mean()/1000\n",
        "display(p_kWh[:5])"
      ],
      "execution_count": 11,
      "outputs": [
        {
          "output_type": "display_data",
          "data": {
            "text/plain": [
              "2019-10-11 00:00:00-07:00    0.484437\n",
              "2019-10-12 00:00:00-07:00    1.081336\n",
              "2019-10-13 00:00:00-07:00    0.899607\n",
              "2019-10-14 00:00:00-07:00    0.558521\n",
              "2019-10-15 00:00:00-07:00    0.692476\n",
              "Freq: D, Name: P, dtype: float64"
            ]
          },
          "metadata": {
            "tags": []
          }
        }
      ]
    },
    {
      "cell_type": "code",
      "metadata": {
        "id": "iyDbQJKX55fa",
        "colab_type": "code",
        "colab": {}
      },
      "source": [
        "\n"
      ],
      "execution_count": 0,
      "outputs": []
    }
  ]
}